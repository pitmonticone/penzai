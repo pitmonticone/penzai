{
 "cells": [
  {
   "cell_type": "markdown",
   "metadata": {
    "id": "DfejMHs4lr8V"
   },
   "source": [
    "*Copyright 2024 The Penzai Authors.*\n",
    "\n",
    "*Licensed under the Apache License, Version 2.0 (the \"License\"); you may not use this file except in compliance with the License.\n",
    "You may obtain a copy of the License at*\n",
    "\n",
    "> http://www.apache.org/licenses/LICENSE-2.0\n",
    "\n",
    "*Unless required by applicable law or agreed to in writing, software\n",
    "distributed under the License is distributed on an \"AS IS\" BASIS,\n",
    "WITHOUT WARRANTIES OR CONDITIONS OF ANY KIND, either express or  implied.\n",
    "See the License for the specific language governing permissions and\n",
    "limitations under the License.*\n",
    "\n",
    "---"
   ]
  },
  {
   "cell_type": "markdown",
   "metadata": {
    "id": "USGIPdLYDzSo"
   },
   "source": [
    "[![Open in Colab](https://colab.research.google.com/assets/colab-badge.svg)](https://colab.research.google.com/github/google-deepmind/penzai/blob/main/notebooks/selectors.ipynb) [![Open in Kaggle](https://kaggle.com/static/images/open-in-kaggle.svg)](https://kaggle.com/kernels/welcome?src=https://github.com/google-deepmind/penzai/blob/main/notebooks/selectors.ipynb)"
   ]
  },
  {
   "cell_type": "markdown",
   "metadata": {
    "id": "RbZ02bVnH7LL"
   },
   "source": [
    "# Selectors and Selections"
   ]
  },
  {
   "cell_type": "markdown",
   "metadata": {
    "id": "FG4w_VU1H_WN"
   },
   "source": [
    "Penzai is designed to make it easy to make targeted modifications to models and parameter trees. For this purpose, Penzai provides a powerful \"selection\" system to allow you to identify, visualize, and modify arbitrary JAX PyTrees. In short, `pz.select` enables `.at[...].set(...)`-style modification for arbitrary PyTree types.\n",
    "\n",
    "This notebook describes the basics of Penzai's selection object and shows how you can use it to make a variety of modifications.\n"
   ]
  },
  {
   "cell_type": "markdown",
   "metadata": {
    "id": "SHr2rnIL8DzM"
   },
   "source": [
    "## Setup"
   ]
  },
  {
   "cell_type": "markdown",
   "metadata": {
    "id": "VkW4lYKAu-oR"
   },
   "source": [
    "We'll start by setting up the environment."
   ]
  },
  {
   "cell_type": "markdown",
   "metadata": {
    "id": "ozG8ERNavDos"
   },
   "source": [
    "### Imports"
   ]
  },
  {
   "cell_type": "markdown",
   "metadata": {
    "id": "xmxgAcFQmZkB"
   },
   "source": [
    "To run this notebook, you need a Python environment with `penzai` and its dependencies installed.\n",
    "\n",
    "In Colab or Kaggle, you can install it using the following command:"
   ]
  },
  {
   "cell_type": "code",
   "execution_count": 1,
   "metadata": {
    "execution": {
     "iopub.execute_input": "2024-04-17T19:20:07.160935Z",
     "iopub.status.busy": "2024-04-17T19:20:07.160624Z",
     "iopub.status.idle": "2024-04-17T19:20:07.165008Z",
     "shell.execute_reply": "2024-04-17T19:20:07.164194Z"
    },
    "id": "XGZH58j8mPkj"
   },
   "outputs": [],
   "source": [
    "try:\n",
    "  import penzai\n",
    "except ImportError:\n",
    "  !pip install penzai[notebook]"
   ]
  },
  {
   "cell_type": "code",
   "execution_count": 2,
   "metadata": {
    "execution": {
     "iopub.execute_input": "2024-04-17T19:20:07.168435Z",
     "iopub.status.busy": "2024-04-17T19:20:07.168173Z",
     "iopub.status.idle": "2024-04-17T19:20:08.815071Z",
     "shell.execute_reply": "2024-04-17T19:20:08.814083Z"
    },
    "id": "iog3oMAMGCMG"
   },
   "outputs": [
    {
     "name": "stderr",
     "output_type": "stream",
     "text": [
      "/usr/local/lib/python3.10/dist-packages/jax/_src/cloud_tpu_init.py:73: UserWarning: JAX_USE_PJRT_C_API_ON_TPU no longer has an effect (the new TPU runtime is always enabled now). Unset the environment variable to disable this warning.\n",
      "  warnings.warn(\n"
     ]
    }
   ],
   "source": [
    "from __future__ import annotations\n",
    "import typing\n",
    "import traceback\n",
    "\n",
    "import jax\n",
    "import jax.numpy as jnp"
   ]
  },
  {
   "cell_type": "code",
   "execution_count": 3,
   "metadata": {
    "execution": {
     "iopub.execute_input": "2024-04-17T19:20:08.819475Z",
     "iopub.status.busy": "2024-04-17T19:20:08.819176Z",
     "iopub.status.idle": "2024-04-17T19:20:08.996456Z",
     "shell.execute_reply": "2024-04-17T19:20:08.995521Z"
    },
    "id": "5Mh2mAuiQ4aa"
   },
   "outputs": [],
   "source": [
    "import penzai\n",
    "from penzai import pz"
   ]
  },
  {
   "cell_type": "code",
   "execution_count": 4,
   "metadata": {
    "execution": {
     "iopub.execute_input": "2024-04-17T19:20:09.000806Z",
     "iopub.status.busy": "2024-04-17T19:20:09.000575Z",
     "iopub.status.idle": "2024-04-17T19:20:09.005821Z",
     "shell.execute_reply": "2024-04-17T19:20:09.005056Z"
    },
    "id": "QMSmQSSzOOnj"
   },
   "outputs": [],
   "source": [
    "from penzai.example_models import simple_mlp"
   ]
  },
  {
   "cell_type": "markdown",
   "metadata": {
    "id": "OGzhV5uWvkvB"
   },
   "source": [
    "### Setting up Penzai"
   ]
  },
  {
   "cell_type": "markdown",
   "metadata": {
    "id": "TjGkV8F8vmpi"
   },
   "source": [
    "For this tutorial, we'll enable Treescope (Penzai's pretty-printer) as the default IPython pretty-printer. This is recommended when using Penzai in an interactive environment."
   ]
  },
  {
   "cell_type": "code",
   "execution_count": 5,
   "metadata": {
    "execution": {
     "iopub.execute_input": "2024-04-17T19:20:09.009638Z",
     "iopub.status.busy": "2024-04-17T19:20:09.009410Z",
     "iopub.status.idle": "2024-04-17T19:20:15.803480Z",
     "shell.execute_reply": "2024-04-17T19:20:15.802411Z"
    },
    "id": "YodWk_jmva_7"
   },
   "outputs": [],
   "source": [
    "pz.ts.register_as_default()\n",
    "pz.ts.register_autovisualize_magic()\n",
    "pz.ts.register_context_manager_magic()"
   ]
  },
  {
   "cell_type": "markdown",
   "metadata": {
    "id": "3egey4t42OTo"
   },
   "source": [
    "## What are selectors?"
   ]
  },
  {
   "cell_type": "markdown",
   "metadata": {
    "id": "SmFOag2y2UjQ"
   },
   "source": [
    "If you're familiar with JAX, you probably know that JAX arrays are immutable. This maens that it's not possible to directly assign to elements of a JAX array:"
   ]
  },
  {
   "cell_type": "code",
   "execution_count": 6,
   "metadata": {
    "execution": {
     "iopub.execute_input": "2024-04-17T19:20:15.808341Z",
     "iopub.status.busy": "2024-04-17T19:20:15.808080Z",
     "iopub.status.idle": "2024-04-17T19:20:17.276156Z",
     "shell.execute_reply": "2024-04-17T19:20:17.275275Z"
    },
    "id": "V4fKIMM4807s"
   },
   "outputs": [
    {
     "data": {
      "text/html": [
       "<script> /* penzai.treescope rendering of a Python object (compressed) */ (()=>{ let observer; let lastStep = new Promise((resolve, reject) => { observer = new IntersectionObserver((entries) => { for (const entry of entries) { if (entry.isIntersecting) { resolve(); observer.disconnect(); return; } } }, {rootMargin: \"1000px\"}); }); window.treescope_decompress_enqueue = (encoded, destId) => { const previous = lastStep; const destElt = document.getElementById(destId); lastStep = (async () => { await previous; let blob = new Blob([ Uint8Array.from(atob(encoded), (m) => m.codePointAt(0)) ]); let reader = blob.stream().pipeThrough( new DecompressionStream(\"deflate\") ).pipeThrough( new TextDecoderStream(\"utf-8\") ).getReader(); let parts = []; while (true) { let step = await reader.read(); if (step.done) { break; } parts.push(step.value); } let newElt = document.createElement(\"div\"); newElt.innerHTML = parts.join(\"\"); destElt.parentNode.replaceChild(newElt, destElt); for (let oldScript of newElt.querySelectorAll(\"script\")) { let newScript = document.createElement(\"script\"); newScript.type = oldScript.type; newScript.textContent = oldScript.textContent; oldScript.parentNode.replaceChild(newScript, oldScript); } })(); requestAnimationFrame(() => { observer.observe(destElt); }); } })(); </script><div id=\"compress_html_87efbb6e67914791813e86cd03543497\"><script>window.treescope_decompress_enqueue(\"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\", \"compress_html_87efbb6e67914791813e86cd03543497\");</script><span style=\"color: #aaaaaa; font-family: monospace\">(Loading...)</span></div>"
      ],
      "text/plain": [
       "<IPython.core.display.HTML object>"
      ]
     },
     "metadata": {},
     "output_type": "display_data"
    },
    {
     "data": {
      "text/html": [
       "<div id=\"compress_html_fe10a3e42bb44c65ad7b95108f8b8a07\"><script>window.treescope_decompress_enqueue(\"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\", \"compress_html_fe10a3e42bb44c65ad7b95108f8b8a07\");</script></div>"
      ],
      "text/plain": [
       "<IPython.core.display.HTML object>"
      ]
     },
     "metadata": {},
     "output_type": "display_data"
    },
    {
     "data": {
      "text/html": [],
      "text/plain": [
       "# jax.Array float32(10, 10) ≈0.0 ±0.0 [≥0.0, ≤0.0] zero:100\n",
       "  Array([[0., 0., 0., 0., 0., 0., 0., 0., 0., 0.],\n",
       "         [0., 0., 0., 0., 0., 0., 0., 0., 0., 0.],\n",
       "         [0., 0., 0., 0., 0., 0., 0., 0., 0., 0.],\n",
       "         [0., 0., 0., 0., 0., 0., 0., 0., 0., 0.],\n",
       "         [0., 0., 0., 0., 0., 0., 0., 0., 0., 0.],\n",
       "         [0., 0., 0., 0., 0., 0., 0., 0., 0., 0.],\n",
       "         [0., 0., 0., 0., 0., 0., 0., 0., 0., 0.],\n",
       "         [0., 0., 0., 0., 0., 0., 0., 0., 0., 0.],\n",
       "         [0., 0., 0., 0., 0., 0., 0., 0., 0., 0.],\n",
       "         [0., 0., 0., 0., 0., 0., 0., 0., 0., 0.]], dtype=float32)\n"
      ]
     },
     "execution_count": 6,
     "metadata": {},
     "output_type": "execute_result"
    }
   ],
   "source": [
    "array = jnp.zeros((10, 10))\n",
    "array"
   ]
  },
  {
   "cell_type": "code",
   "execution_count": 7,
   "metadata": {
    "execution": {
     "iopub.execute_input": "2024-04-17T19:20:17.280243Z",
     "iopub.status.busy": "2024-04-17T19:20:17.279982Z",
     "iopub.status.idle": "2024-04-17T19:20:17.284566Z",
     "shell.execute_reply": "2024-04-17T19:20:17.283761Z"
    },
    "id": "HYD71Mqo89Bf"
   },
   "outputs": [
    {
     "name": "stderr",
     "output_type": "stream",
     "text": [
      "Traceback (most recent call last):\n",
      "  File \"<ipython-input-7-5c112bb0ee90>\", line 2, in <cell line: 1>\n",
      "    array[1, 2] = 42\n",
      "  File \"/usr/local/lib/python3.10/dist-packages/jax/_src/numpy/array_methods.py\", line 285, in _unimplemented_setitem\n",
      "    raise TypeError(msg.format(type(self)))\n",
      "TypeError: '<class 'jaxlib.xla_extension.ArrayImpl'>' object does not support item assignment. JAX arrays are immutable. Instead of ``x[idx] = y``, use ``x = x.at[idx].set(y)`` or another .at[] method: https://jax.readthedocs.io/en/latest/_autosummary/jax.numpy.ndarray.at.html\n"
     ]
    }
   ],
   "source": [
    "try:\n",
    "  array[1, 2] = 42\n",
    "except TypeError:\n",
    "  import traceback\n",
    "  traceback.print_exc()"
   ]
  },
  {
   "cell_type": "markdown",
   "metadata": {
    "id": "GyEJo0EV9Kld"
   },
   "source": [
    "Instead, to modify a JAX array you can use the special `.at` property, which returns a modified copy of the original array with changes at the location you specified:"
   ]
  },
  {
   "cell_type": "code",
   "execution_count": 8,
   "metadata": {
    "execution": {
     "iopub.execute_input": "2024-04-17T19:20:17.288224Z",
     "iopub.status.busy": "2024-04-17T19:20:17.287987Z",
     "iopub.status.idle": "2024-04-17T19:20:17.536689Z",
     "shell.execute_reply": "2024-04-17T19:20:17.535856Z"
    },
    "id": "o6Ydo5jt8_Oo"
   },
   "outputs": [
    {
     "data": {
      "text/html": [
       "<script> /* penzai.treescope rendering of a Python object (compressed) */ (()=>{ let observer; let lastStep = new Promise((resolve, reject) => { observer = new IntersectionObserver((entries) => { for (const entry of entries) { if (entry.isIntersecting) { resolve(); observer.disconnect(); return; } } }, {rootMargin: \"1000px\"}); }); window.treescope_decompress_enqueue = (encoded, destId) => { const previous = lastStep; const destElt = document.getElementById(destId); lastStep = (async () => { await previous; let blob = new Blob([ Uint8Array.from(atob(encoded), (m) => m.codePointAt(0)) ]); let reader = blob.stream().pipeThrough( new DecompressionStream(\"deflate\") ).pipeThrough( new TextDecoderStream(\"utf-8\") ).getReader(); let parts = []; while (true) { let step = await reader.read(); if (step.done) { break; } parts.push(step.value); } let newElt = document.createElement(\"div\"); newElt.innerHTML = parts.join(\"\"); destElt.parentNode.replaceChild(newElt, destElt); for (let oldScript of newElt.querySelectorAll(\"script\")) { let newScript = document.createElement(\"script\"); newScript.type = oldScript.type; newScript.textContent = oldScript.textContent; oldScript.parentNode.replaceChild(newScript, oldScript); } })(); requestAnimationFrame(() => { observer.observe(destElt); }); } })(); </script><div id=\"compress_html_579338c9ea93499ab6562f795ee4714d\"><script>window.treescope_decompress_enqueue(\"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\", \"compress_html_579338c9ea93499ab6562f795ee4714d\");</script><span style=\"color: #aaaaaa; font-family: monospace\">(Loading...)</span></div>"
      ],
      "text/plain": [
       "<IPython.core.display.HTML object>"
      ]
     },
     "metadata": {},
     "output_type": "display_data"
    },
    {
     "data": {
      "text/html": [
       "<div id=\"compress_html_a2dcfe989ab14cc592ea84139bf300cd\"><script>window.treescope_decompress_enqueue(\"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\", \"compress_html_a2dcfe989ab14cc592ea84139bf300cd\");</script></div>"
      ],
      "text/plain": [
       "<IPython.core.display.HTML object>"
      ]
     },
     "metadata": {},
     "output_type": "display_data"
    },
    {
     "data": {
      "text/html": [],
      "text/plain": [
       "# jax.Array float32(10, 10) ≈0.42 ±4.2 [≥0.0, ≤4.2e+01] zero:99 nonzero:1\n",
       "  Array([[ 0.,  0.,  0.,  0.,  0.,  0.,  0.,  0.,  0.,  0.],\n",
       "         [ 0.,  0., 42.,  0.,  0.,  0.,  0.,  0.,  0.,  0.],\n",
       "         [ 0.,  0.,  0.,  0.,  0.,  0.,  0.,  0.,  0.,  0.],\n",
       "         [ 0.,  0.,  0.,  0.,  0.,  0.,  0.,  0.,  0.,  0.],\n",
       "         [ 0.,  0.,  0.,  0.,  0.,  0.,  0.,  0.,  0.,  0.],\n",
       "         [ 0.,  0.,  0.,  0.,  0.,  0.,  0.,  0.,  0.,  0.],\n",
       "         [ 0.,  0.,  0.,  0.,  0.,  0.,  0.,  0.,  0.,  0.],\n",
       "         [ 0.,  0.,  0.,  0.,  0.,  0.,  0.,  0.,  0.,  0.],\n",
       "         [ 0.,  0.,  0.,  0.,  0.,  0.,  0.,  0.,  0.,  0.],\n",
       "         [ 0.,  0.,  0.,  0.,  0.,  0.,  0.,  0.,  0.,  0.]], dtype=float32)\n"
      ]
     },
     "execution_count": 8,
     "metadata": {},
     "output_type": "execute_result"
    }
   ],
   "source": [
    "modified_array = array.at[1, 2].set(42)\n",
    "modified_array"
   ]
  },
  {
   "cell_type": "markdown",
   "metadata": {
    "id": "AfD7GKrc-KFP"
   },
   "source": [
    "JAX also introduces the concept of [PyTrees](https://jax.readthedocs.io/en/latest/pytrees.html): nested containers of data that JAX knows how to traverse. Most JAX transformations are designed to work with functions that take PyTrees as input and return PyTrees as output.\n",
    "\n",
    "Although JAX does treat dictionaries and lists as PyTrees, JAX usually assumes that those trees will not be mutated, and expects the user to write code in a functional style, avoiding mutating its arguments directly.\n",
    "\n",
    "**`pz.select` enables `.at[...].set(...)`-style modification for arbitrary PyTrees**, making it possible to perform complex path-based and type-driven modifications to the objects you're already using:"
   ]
  },
  {
   "cell_type": "code",
   "execution_count": 9,
   "metadata": {
    "execution": {
     "iopub.execute_input": "2024-04-17T19:20:17.541195Z",
     "iopub.status.busy": "2024-04-17T19:20:17.540942Z",
     "iopub.status.idle": "2024-04-17T19:20:17.627977Z",
     "shell.execute_reply": "2024-04-17T19:20:17.627059Z"
    },
    "id": "qMN5Bzdq-A7q"
   },
   "outputs": [],
   "source": [
    "my_nested_object = {\n",
    "    \"a\": 1,\n",
    "    \"b\": jnp.arange(10),\n",
    "    \"c\": [\n",
    "        {\"value\": jnp.arange(12)},\n",
    "        {\"value\": jnp.zeros([7])},\n",
    "        {\"value\": 3},\n",
    "    ]\n",
    "}"
   ]
  },
  {
   "cell_type": "code",
   "execution_count": 10,
   "metadata": {
    "execution": {
     "iopub.execute_input": "2024-04-17T19:20:17.631909Z",
     "iopub.status.busy": "2024-04-17T19:20:17.631676Z",
     "iopub.status.idle": "2024-04-17T19:20:17.715647Z",
     "shell.execute_reply": "2024-04-17T19:20:17.714634Z"
    },
    "id": "yPqRBFmD9N4V"
   },
   "outputs": [
    {
     "data": {
      "text/html": [
       "<script> /* penzai.treescope rendering of a Python object (compressed) */ (()=>{ let observer; let lastStep = new Promise((resolve, reject) => { observer = new IntersectionObserver((entries) => { for (const entry of entries) { if (entry.isIntersecting) { resolve(); observer.disconnect(); return; } } }, {rootMargin: \"1000px\"}); }); window.treescope_decompress_enqueue = (encoded, destId) => { const previous = lastStep; const destElt = document.getElementById(destId); lastStep = (async () => { await previous; let blob = new Blob([ Uint8Array.from(atob(encoded), (m) => m.codePointAt(0)) ]); let reader = blob.stream().pipeThrough( new DecompressionStream(\"deflate\") ).pipeThrough( new TextDecoderStream(\"utf-8\") ).getReader(); let parts = []; while (true) { let step = await reader.read(); if (step.done) { break; } parts.push(step.value); } let newElt = document.createElement(\"div\"); newElt.innerHTML = parts.join(\"\"); destElt.parentNode.replaceChild(newElt, destElt); for (let oldScript of newElt.querySelectorAll(\"script\")) { let newScript = document.createElement(\"script\"); newScript.type = oldScript.type; newScript.textContent = oldScript.textContent; oldScript.parentNode.replaceChild(newScript, oldScript); } })(); requestAnimationFrame(() => { observer.observe(destElt); }); } })(); </script><div id=\"compress_html_4933881fe06c433db9e979defdad7854\"><script>window.treescope_decompress_enqueue(\"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\", \"compress_html_4933881fe06c433db9e979defdad7854\");</script><span style=\"color: #aaaaaa; font-family: monospace\">(Loading...)</span></div>"
      ],
      "text/plain": [
       "<IPython.core.display.HTML object>"
      ]
     },
     "metadata": {},
     "output_type": "display_data"
    },
    {
     "data": {
      "text/html": [
       "<div id=\"compress_html_11c88fc69fc8471a963535cbfdee28c2\"><script>window.treescope_decompress_enqueue(\"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\", \"compress_html_11c88fc69fc8471a963535cbfdee28c2\");</script></div>"
      ],
      "text/plain": [
       "<IPython.core.display.HTML object>"
      ]
     },
     "metadata": {},
     "output_type": "display_data"
    },
    {
     "data": {
      "text/html": [],
      "text/plain": [
       "{'a': 1,\n",
       " 'b': <jax.Array([0, 1, 2, 3, 4, 5, 6, 7, 8, 9], dtype=int32)>,\n",
       " 'c': [{'value': <jax.Array([100, 101, 102, 103, 104, 105, 106, 107, 108, 109, 110, 111], dtype=int32)>},\n",
       "  {'value': <jax.Array([100., 100., 100., 100., 100., 100., 100.], dtype=float32)>},\n",
       "  {'value': 103}]}"
      ]
     },
     "execution_count": 10,
     "metadata": {},
     "output_type": "execute_result"
    }
   ],
   "source": [
    "(\n",
    "    pz.select(my_nested_object)\n",
    "      .at(lambda root: root[\"c\"])\n",
    "      .at_instances_of(jax.typing.ArrayLike)\n",
    "      .apply(lambda value: value + 100)\n",
    ")"
   ]
  },
  {
   "cell_type": "markdown",
   "metadata": {
    "id": "4vKkkNk5-cmj"
   },
   "source": [
    "Selectors are first-class objects, defined in `penzai.core.selectors` but aliased to `pz.select` and `pz.Selection`. Internally, they are ordinary PyTrees:\n"
   ]
  },
  {
   "cell_type": "code",
   "execution_count": 11,
   "metadata": {
    "execution": {
     "iopub.execute_input": "2024-04-17T19:20:17.720370Z",
     "iopub.status.busy": "2024-04-17T19:20:17.720126Z",
     "iopub.status.idle": "2024-04-17T19:20:17.745156Z",
     "shell.execute_reply": "2024-04-17T19:20:17.744190Z"
    },
    "id": "Y58Ll7sO_qjo"
   },
   "outputs": [
    {
     "data": {
      "text/html": [
       "<script> /* penzai.treescope rendering of a Python object (compressed) */ (()=>{ let observer; let lastStep = new Promise((resolve, reject) => { observer = new IntersectionObserver((entries) => { for (const entry of entries) { if (entry.isIntersecting) { resolve(); observer.disconnect(); return; } } }, {rootMargin: \"1000px\"}); }); window.treescope_decompress_enqueue = (encoded, destId) => { const previous = lastStep; const destElt = document.getElementById(destId); lastStep = (async () => { await previous; let blob = new Blob([ Uint8Array.from(atob(encoded), (m) => m.codePointAt(0)) ]); let reader = blob.stream().pipeThrough( new DecompressionStream(\"deflate\") ).pipeThrough( new TextDecoderStream(\"utf-8\") ).getReader(); let parts = []; while (true) { let step = await reader.read(); if (step.done) { break; } parts.push(step.value); } let newElt = document.createElement(\"div\"); newElt.innerHTML = parts.join(\"\"); destElt.parentNode.replaceChild(newElt, destElt); for (let oldScript of newElt.querySelectorAll(\"script\")) { let newScript = document.createElement(\"script\"); newScript.type = oldScript.type; newScript.textContent = oldScript.textContent; oldScript.parentNode.replaceChild(newScript, oldScript); } })(); requestAnimationFrame(() => { observer.observe(destElt); }); } })(); </script><div id=\"compress_html_837da59d2f1d408ca26495952831e912\"><script>window.treescope_decompress_enqueue(\"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\", \"compress_html_837da59d2f1d408ca26495952831e912\");</script><span style=\"color: #aaaaaa; font-family: monospace\">(Loading...)</span></div>"
      ],
      "text/plain": [
       "TreescopeRenderingFigure(child=PreventWordWrap(child=Siblings(children=(FoldableTreeNodeImpl(contents=Siblings(children=(StringCopyButton(copy_string='(lambda root: root)', annotation='Copy path: '), IndentedChildren(children=[Siblings(children=(PyTreeNodeFieldName(child=Text(text='selected_by_path')), Text(text='='), WithDynamicSharedPip(child=FoldableTreeNodeImpl(contents=Siblings(children=(StringCopyButton(copy_string='(lambda root: root.selected_by_path)', annotation='Copy path: '), IndentedChildren(children=[Siblings(children=(FoldableTreeNodeImpl(contents=Siblings(children=(IndentedChildren(children=[Siblings(children=(FoldableTreeNodeImpl(contents=Siblings(children=(IndentedChildren(children=[Siblings(children=(Text(text='key'), Text(text='='), HyperlinkTarget(child=StringLiteralColor(child=Text(text=\"'c'\")), keypath=None), FoldCondition(collapsed=EmptyPart(), expanded=Text(text=','))))]), Text(text=')'))), label=HyperlinkTarget(child=Siblings(children=(RoundtripCondition(roundtrip=QualifiedTypeNameSpanGroup(child=Text(text='jax.tree_util.')), not_roundtrip=EmptyPart()), Text(text='DictKey'), Text(text='('))), keypath=None), expand_state=<ExpandState.COLLAPSED: 'collapsed'>), Text(text=','), FoldCondition(collapsed=Text(text=' '), expanded=EmptyPart()))), Siblings(children=(FoldableTreeNodeImpl(contents=Siblings(children=(IndentedChildren(children=[Siblings(children=(Text(text='idx'), Text(text='='), HyperlinkTarget(child=NumberColor(child=Text(text='0')), keypath=None), FoldCondition(collapsed=EmptyPart(), expanded=Text(text=','))))]), Text(text=')'))), label=HyperlinkTarget(child=Siblings(children=(RoundtripCondition(roundtrip=QualifiedTypeNameSpanGroup(child=Text(text='jax.tree_util.')), not_roundtrip=EmptyPart()), Text(text='SequenceKey'), Text(text='('))), keypath=None), expand_state=<ExpandState.COLLAPSED: 'collapsed'>), Text(text=','), FoldCondition(collapsed=Text(text=' '), expanded=EmptyPart()))), Siblings(children=(FoldableTreeNodeImpl(contents=Siblings(children=(IndentedChildren(children=[Siblings(children=(Text(text='key'), Text(text='='), HyperlinkTarget(child=StringLiteralColor(child=Text(text=\"'value'\")), keypath=None), FoldCondition(collapsed=EmptyPart(), expanded=Text(text=','))))]), Text(text=')'))), label=HyperlinkTarget(child=Siblings(children=(RoundtripCondition(roundtrip=QualifiedTypeNameSpanGroup(child=Text(text='jax.tree_util.')), not_roundtrip=EmptyPart()), Text(text='DictKey'), Text(text='('))), keypath=None), expand_state=<ExpandState.COLLAPSED: 'collapsed'>), FoldCondition(collapsed=EmptyPart(), expanded=Text(text=','))))]), Text(text=')'))), label=HyperlinkTarget(child=Text(text='('), keypath=None), expand_state=<ExpandState.COLLAPSED: 'collapsed'>), Text(text=':'), FoldCondition(collapsed=Text(text=' '), expanded=EmptyPart()), IndentedChildren(children=[Siblings(children=(RoundtripCondition(roundtrip=WithBlockColor(child=FoldableTreeNodeImpl(contents=Siblings(children=(StringCopyButton(copy_string='(lambda root: root)', annotation='Copy path: '), ColoredBorderIndentedChildren(children=[Siblings(children=(Text(text='original_repr'), Text(text='='), HyperlinkTarget(child=StringLiteralColor(child=Text(text=\"'Array([ 0,  1,  2,  3,  4,  5,  6,  7,  8,  9, 10, 11], dtype=int32)'\")), keypath=(GetAttrKey(name='original_repr'),)), Text(text=','), FoldCondition(collapsed=Text(text=' '), expanded=EmptyPart()), FoldCondition(collapsed=EmptyPart(), expanded=Siblings(children=(StringCopyButton(copy_string='(lambda root: root.original_repr)', annotation='Copy path: '),))))), Siblings(children=(Text(text='original_id'), Text(text='='), HyperlinkTarget(child=NumberColor(child=Text(text='100438882542288')), keypath=(GetAttrKey(name='original_id'),)), Text(text=','), FoldCondition(collapsed=Text(text=' '), expanded=EmptyPart()), FoldCondition(collapsed=EmptyPart(), expanded=Siblings(children=(StringCopyButton(copy_string='(lambda root: root.original_id)', annotation='Copy path: '),))))), Siblings(children=(Text(text='original_type'), Text(text='='), HyperlinkTarget(child=FoldableTreeNodeImpl(contents=FoldCondition(collapsed=EmptyPart(), expanded=IndentedChildren(children=[Siblings(children=(HyperlinkTarget(child=AbbreviationColor(child=Text(text=\"<class 'jax.Array'>\")), keypath=(GetAttrKey(name='original_type'),)), FoldCondition(collapsed=EmptyPart(), expanded=Siblings(children=(StringCopyButton(copy_string='(lambda root: root.original_type)', annotation='Copy path: '),)))))])), label=CommentColorWhenExpanded(child=Siblings(children=(FoldCondition(collapsed=EmptyPart(), expanded=Text(text='# ')), QualifiedTypeNameSpanGroup(child=Text(text='jax.')), Text(text='Array')))), expand_state=<ExpandState.COLLAPSED: 'collapsed'>), keypath=(GetAttrKey(name='original_type'),)), FoldCondition(collapsed=EmptyPart(), expanded=Text(text=',')), FoldCondition(collapsed=EmptyPart(), expanded=Siblings(children=(StringCopyButton(copy_string='(lambda root: root.original_type)', annotation='Copy path: '),)))))]), ColoredBottomLineSpanGroup(child=Text(text=')')))), label=HyperlinkTarget(child=ColoredTopLineSpanGroup(child=Siblings(children=(RoundtripCondition(roundtrip=QualifiedTypeNameSpanGroup(child=Text(text='penzai.treescope.copypaste_fallback.')), not_roundtrip=EmptyPart()), Text(text='NotRoundtrippable'), Text(text='(')))), keypath=()), expand_state=<ExpandState.WEAKLY_COLLAPSED: 'weakly_collapsed'>), color='#db845a'), not_roundtrip=AbbreviationColor(child=Text(text='<jax.Array([ 0,  1,  2,  3,  4,  5,  6,  7,  8,  9, 10, 11], dtype=int32)>'))), Text(text=','), FoldCondition(collapsed=Text(text=' '), expanded=EmptyPart()), FoldCondition(collapsed=EmptyPart(), expanded=Siblings(children=(StringCopyButton(copy_string=\"(lambda root: root.selected_by_path[(DictKey(key='c'), SequenceKey(idx=0), DictKey(key='value'))])\", annotation='Copy path: '),))))), Siblings(children=(FoldCondition(collapsed=EmptyPart(), expanded=VerticalSpace(height='0.5em')),))]))), Siblings(children=(FoldableTreeNodeImpl(contents=Siblings(children=(IndentedChildren(children=[Siblings(children=(FoldableTreeNodeImpl(contents=Siblings(children=(IndentedChildren(children=[Siblings(children=(Text(text='key'), Text(text='='), HyperlinkTarget(child=StringLiteralColor(child=Text(text=\"'c'\")), keypath=None), FoldCondition(collapsed=EmptyPart(), expanded=Text(text=','))))]), Text(text=')'))), label=HyperlinkTarget(child=Siblings(children=(RoundtripCondition(roundtrip=QualifiedTypeNameSpanGroup(child=Text(text='jax.tree_util.')), not_roundtrip=EmptyPart()), Text(text='DictKey'), Text(text='('))), keypath=None), expand_state=<ExpandState.COLLAPSED: 'collapsed'>), Text(text=','), FoldCondition(collapsed=Text(text=' '), expanded=EmptyPart()))), Siblings(children=(FoldableTreeNodeImpl(contents=Siblings(children=(IndentedChildren(children=[Siblings(children=(Text(text='idx'), Text(text='='), HyperlinkTarget(child=NumberColor(child=Text(text='1')), keypath=None), FoldCondition(collapsed=EmptyPart(), expanded=Text(text=','))))]), Text(text=')'))), label=HyperlinkTarget(child=Siblings(children=(RoundtripCondition(roundtrip=QualifiedTypeNameSpanGroup(child=Text(text='jax.tree_util.')), not_roundtrip=EmptyPart()), Text(text='SequenceKey'), Text(text='('))), keypath=None), expand_state=<ExpandState.COLLAPSED: 'collapsed'>), Text(text=','), FoldCondition(collapsed=Text(text=' '), expanded=EmptyPart()))), Siblings(children=(FoldableTreeNodeImpl(contents=Siblings(children=(IndentedChildren(children=[Siblings(children=(Text(text='key'), Text(text='='), HyperlinkTarget(child=StringLiteralColor(child=Text(text=\"'value'\")), keypath=None), FoldCondition(collapsed=EmptyPart(), expanded=Text(text=','))))]), Text(text=')'))), label=HyperlinkTarget(child=Siblings(children=(RoundtripCondition(roundtrip=QualifiedTypeNameSpanGroup(child=Text(text='jax.tree_util.')), not_roundtrip=EmptyPart()), Text(text='DictKey'), Text(text='('))), keypath=None), expand_state=<ExpandState.COLLAPSED: 'collapsed'>), FoldCondition(collapsed=EmptyPart(), expanded=Text(text=','))))]), Text(text=')'))), label=HyperlinkTarget(child=Text(text='('), keypath=None), expand_state=<ExpandState.COLLAPSED: 'collapsed'>), Text(text=':'), FoldCondition(collapsed=Text(text=' '), expanded=EmptyPart()), IndentedChildren(children=[Siblings(children=(RoundtripCondition(roundtrip=WithBlockColor(child=FoldableTreeNodeImpl(contents=Siblings(children=(StringCopyButton(copy_string='(lambda root: root)', annotation='Copy path: '), ColoredBorderIndentedChildren(children=[Siblings(children=(Text(text='original_repr'), Text(text='='), HyperlinkTarget(child=StringLiteralColor(child=Text(text=\"'Array([0., 0., 0., 0., 0., 0., 0.], dtype=float32)'\")), keypath=(GetAttrKey(name='original_repr'),)), Text(text=','), FoldCondition(collapsed=Text(text=' '), expanded=EmptyPart()), FoldCondition(collapsed=EmptyPart(), expanded=Siblings(children=(StringCopyButton(copy_string='(lambda root: root.original_repr)', annotation='Copy path: '),))))), Siblings(children=(Text(text='original_id'), Text(text='='), HyperlinkTarget(child=NumberColor(child=Text(text='100438888661568')), keypath=(GetAttrKey(name='original_id'),)), Text(text=','), FoldCondition(collapsed=Text(text=' '), expanded=EmptyPart()), FoldCondition(collapsed=EmptyPart(), expanded=Siblings(children=(StringCopyButton(copy_string='(lambda root: root.original_id)', annotation='Copy path: '),))))), Siblings(children=(Text(text='original_type'), Text(text='='), HyperlinkTarget(child=FoldableTreeNodeImpl(contents=FoldCondition(collapsed=EmptyPart(), expanded=IndentedChildren(children=[Siblings(children=(HyperlinkTarget(child=AbbreviationColor(child=Text(text=\"<class 'jax.Array'>\")), keypath=(GetAttrKey(name='original_type'),)), FoldCondition(collapsed=EmptyPart(), expanded=Siblings(children=(StringCopyButton(copy_string='(lambda root: root.original_type)', annotation='Copy path: '),)))))])), label=CommentColorWhenExpanded(child=Siblings(children=(FoldCondition(collapsed=EmptyPart(), expanded=Text(text='# ')), QualifiedTypeNameSpanGroup(child=Text(text='jax.')), Text(text='Array')))), expand_state=<ExpandState.COLLAPSED: 'collapsed'>), keypath=(GetAttrKey(name='original_type'),)), FoldCondition(collapsed=EmptyPart(), expanded=Text(text=',')), FoldCondition(collapsed=EmptyPart(), expanded=Siblings(children=(StringCopyButton(copy_string='(lambda root: root.original_type)', annotation='Copy path: '),)))))]), ColoredBottomLineSpanGroup(child=Text(text=')')))), label=HyperlinkTarget(child=ColoredTopLineSpanGroup(child=Siblings(children=(RoundtripCondition(roundtrip=QualifiedTypeNameSpanGroup(child=Text(text='penzai.treescope.copypaste_fallback.')), not_roundtrip=EmptyPart()), Text(text='NotRoundtrippable'), Text(text='(')))), keypath=()), expand_state=<ExpandState.WEAKLY_COLLAPSED: 'weakly_collapsed'>), color='#db845a'), not_roundtrip=AbbreviationColor(child=Text(text='<jax.Array([0., 0., 0., 0., 0., 0., 0.], dtype=float32)>'))), Text(text=','), FoldCondition(collapsed=Text(text=' '), expanded=EmptyPart()), FoldCondition(collapsed=EmptyPart(), expanded=Siblings(children=(StringCopyButton(copy_string=\"(lambda root: root.selected_by_path[(DictKey(key='c'), SequenceKey(idx=1), DictKey(key='value'))])\", annotation='Copy path: '),))))), Siblings(children=(FoldCondition(collapsed=EmptyPart(), expanded=VerticalSpace(height='0.5em')),))]))), Siblings(children=(FoldableTreeNodeImpl(contents=Siblings(children=(IndentedChildren(children=[Siblings(children=(FoldableTreeNodeImpl(contents=Siblings(children=(IndentedChildren(children=[Siblings(children=(Text(text='key'), Text(text='='), HyperlinkTarget(child=StringLiteralColor(child=Text(text=\"'c'\")), keypath=None), FoldCondition(collapsed=EmptyPart(), expanded=Text(text=','))))]), Text(text=')'))), label=HyperlinkTarget(child=Siblings(children=(RoundtripCondition(roundtrip=QualifiedTypeNameSpanGroup(child=Text(text='jax.tree_util.')), not_roundtrip=EmptyPart()), Text(text='DictKey'), Text(text='('))), keypath=None), expand_state=<ExpandState.COLLAPSED: 'collapsed'>), Text(text=','), FoldCondition(collapsed=Text(text=' '), expanded=EmptyPart()))), Siblings(children=(FoldableTreeNodeImpl(contents=Siblings(children=(IndentedChildren(children=[Siblings(children=(Text(text='idx'), Text(text='='), HyperlinkTarget(child=NumberColor(child=Text(text='2')), keypath=None), FoldCondition(collapsed=EmptyPart(), expanded=Text(text=','))))]), Text(text=')'))), label=HyperlinkTarget(child=Siblings(children=(RoundtripCondition(roundtrip=QualifiedTypeNameSpanGroup(child=Text(text='jax.tree_util.')), not_roundtrip=EmptyPart()), Text(text='SequenceKey'), Text(text='('))), keypath=None), expand_state=<ExpandState.COLLAPSED: 'collapsed'>), Text(text=','), FoldCondition(collapsed=Text(text=' '), expanded=EmptyPart()))), Siblings(children=(FoldableTreeNodeImpl(contents=Siblings(children=(IndentedChildren(children=[Siblings(children=(Text(text='key'), Text(text='='), HyperlinkTarget(child=StringLiteralColor(child=Text(text=\"'value'\")), keypath=None), FoldCondition(collapsed=EmptyPart(), expanded=Text(text=','))))]), Text(text=')'))), label=HyperlinkTarget(child=Siblings(children=(RoundtripCondition(roundtrip=QualifiedTypeNameSpanGroup(child=Text(text='jax.tree_util.')), not_roundtrip=EmptyPart()), Text(text='DictKey'), Text(text='('))), keypath=None), expand_state=<ExpandState.COLLAPSED: 'collapsed'>), FoldCondition(collapsed=EmptyPart(), expanded=Text(text=','))))]), Text(text=')'))), label=HyperlinkTarget(child=Text(text='('), keypath=None), expand_state=<ExpandState.COLLAPSED: 'collapsed'>), Text(text=':'), FoldCondition(collapsed=Text(text=' '), expanded=EmptyPart()), IndentedChildren(children=[Siblings(children=(HyperlinkTarget(child=NumberColor(child=Text(text='3')), keypath=(GetAttrKey(name='selected_by_path'), DictKey(key=(DictKey(key='c'), SequenceKey(idx=2), DictKey(key='value'))))), FoldCondition(collapsed=EmptyPart(), expanded=Text(text=',')), FoldCondition(collapsed=EmptyPart(), expanded=Siblings(children=(StringCopyButton(copy_string=\"(lambda root: root.selected_by_path[(DictKey(key='c'), SequenceKey(idx=2), DictKey(key='value'))])\", annotation='Copy path: '),))))), Siblings(children=(FoldCondition(collapsed=EmptyPart(), expanded=VerticalSpace(height='0.5em')),))])))]), Text(text='})'))), label=HyperlinkTarget(child=Siblings(children=(RoundtripCondition(roundtrip=QualifiedTypeNameSpanGroup(child=Text(text='collections.')), not_roundtrip=EmptyPart()), Text(text='OrderedDict'), Text(text='({'))), keypath=(GetAttrKey(name='selected_by_path'),)), expand_state=<ExpandState.EXPANDED: 'expanded'>), node_id=137010727922752, seen_more_than_once=set()), Text(text=','), FoldCondition(collapsed=Text(text=' '), expanded=EmptyPart()), FoldCondition(collapsed=EmptyPart(), expanded=Siblings(children=(DynamicSharedCheck(if_shared=SharedWarningLabel(child=Text(text=' # Repeated python obj at 0x7c9c4bc4ac40')), node_id=137010727922752, seen_more_than_once=set()), StringCopyButton(copy_string='(lambda root: root.selected_by_path)', annotation='Copy path: ')))))), Siblings(children=(PyTreeNodeFieldName(child=Text(text='remainder')), Text(text='='), WithDynamicSharedPip(child=FoldableTreeNodeImpl(contents=Siblings(children=(StringCopyButton(copy_string='(lambda root: root.remainder)', annotation='Copy path: '), IndentedChildren(children=[Siblings(children=(HyperlinkTarget(child=StringLiteralColor(child=Text(text=\"'a'\")), keypath=None), Text(text=': '), HyperlinkTarget(child=NumberColor(child=Text(text='1')), keypath=(GetAttrKey(name='remainder'), DictKey(key='a'))), Text(text=','), FoldCondition(collapsed=Text(text=' '), expanded=EmptyPart()), FoldCondition(collapsed=EmptyPart(), expanded=Siblings(children=(StringCopyButton(copy_string=\"(lambda root: root.remainder['a'])\", annotation='Copy path: '),))))), Siblings(children=(HyperlinkTarget(child=StringLiteralColor(child=Text(text=\"'b'\")), keypath=None), Text(text=': '), RoundtripCondition(roundtrip=WithBlockColor(child=FoldableTreeNodeImpl(contents=Siblings(children=(StringCopyButton(copy_string='(lambda root: root)', annotation='Copy path: '), ColoredBorderIndentedChildren(children=[Siblings(children=(Text(text='original_repr'), Text(text='='), HyperlinkTarget(child=StringLiteralColor(child=Text(text=\"'Array([0, 1, 2, 3, 4, 5, 6, 7, 8, 9], dtype=int32)'\")), keypath=(GetAttrKey(name='original_repr'),)), Text(text=','), FoldCondition(collapsed=Text(text=' '), expanded=EmptyPart()), FoldCondition(collapsed=EmptyPart(), expanded=Siblings(children=(StringCopyButton(copy_string='(lambda root: root.original_repr)', annotation='Copy path: '),))))), Siblings(children=(Text(text='original_id'), Text(text='='), HyperlinkTarget(child=NumberColor(child=Text(text='100438881638208')), keypath=(GetAttrKey(name='original_id'),)), Text(text=','), FoldCondition(collapsed=Text(text=' '), expanded=EmptyPart()), FoldCondition(collapsed=EmptyPart(), expanded=Siblings(children=(StringCopyButton(copy_string='(lambda root: root.original_id)', annotation='Copy path: '),))))), Siblings(children=(Text(text='original_type'), Text(text='='), HyperlinkTarget(child=FoldableTreeNodeImpl(contents=FoldCondition(collapsed=EmptyPart(), expanded=IndentedChildren(children=[Siblings(children=(HyperlinkTarget(child=AbbreviationColor(child=Text(text=\"<class 'jax.Array'>\")), keypath=(GetAttrKey(name='original_type'),)), FoldCondition(collapsed=EmptyPart(), expanded=Siblings(children=(StringCopyButton(copy_string='(lambda root: root.original_type)', annotation='Copy path: '),)))))])), label=CommentColorWhenExpanded(child=Siblings(children=(FoldCondition(collapsed=EmptyPart(), expanded=Text(text='# ')), QualifiedTypeNameSpanGroup(child=Text(text='jax.')), Text(text='Array')))), expand_state=<ExpandState.COLLAPSED: 'collapsed'>), keypath=(GetAttrKey(name='original_type'),)), FoldCondition(collapsed=EmptyPart(), expanded=Text(text=',')), FoldCondition(collapsed=EmptyPart(), expanded=Siblings(children=(StringCopyButton(copy_string='(lambda root: root.original_type)', annotation='Copy path: '),)))))]), ColoredBottomLineSpanGroup(child=Text(text=')')))), label=HyperlinkTarget(child=ColoredTopLineSpanGroup(child=Siblings(children=(RoundtripCondition(roundtrip=QualifiedTypeNameSpanGroup(child=Text(text='penzai.treescope.copypaste_fallback.')), not_roundtrip=EmptyPart()), Text(text='NotRoundtrippable'), Text(text='(')))), keypath=()), expand_state=<ExpandState.WEAKLY_COLLAPSED: 'weakly_collapsed'>), color='#db845a'), not_roundtrip=AbbreviationColor(child=Text(text='<jax.Array([0, 1, 2, 3, 4, 5, 6, 7, 8, 9], dtype=int32)>'))), Text(text=','), FoldCondition(collapsed=Text(text=' '), expanded=EmptyPart()), FoldCondition(collapsed=EmptyPart(), expanded=Siblings(children=(StringCopyButton(copy_string=\"(lambda root: root.remainder['b'])\", annotation='Copy path: '),))))), Siblings(children=(HyperlinkTarget(child=StringLiteralColor(child=Text(text=\"'c'\")), keypath=None), Text(text=': '), WithDynamicSharedPip(child=FoldableTreeNodeImpl(contents=Siblings(children=(StringCopyButton(copy_string=\"(lambda root: root.remainder['c'])\", annotation='Copy path: '), IndentedChildren(children=[Siblings(children=(WithDynamicSharedPip(child=FoldableTreeNodeImpl(contents=Siblings(children=(StringCopyButton(copy_string=\"(lambda root: root.remainder['c'][0])\", annotation='Copy path: '), IndentedChildren(children=[Siblings(children=(HyperlinkTarget(child=StringLiteralColor(child=Text(text=\"'value'\")), keypath=None), Text(text=': '), FoldableTreeNodeImpl(contents=Siblings(children=(StringCopyButton(copy_string=\"(lambda root: root.remainder['c'][0]['value'])\", annotation='Copy path: '), IndentedChildren(children=[Siblings(children=(Text(text='path'), Text(text='='), FoldableTreeNodeImpl(contents=Siblings(children=(StringCopyButton(copy_string=\"(lambda root: root.remainder['c'][0]['value'].path)\", annotation='Copy path: '), IndentedChildren(children=[Siblings(children=(FoldableTreeNodeImpl(contents=Siblings(children=(StringCopyButton(copy_string=\"(lambda root: root.remainder['c'][0]['value'].path[0])\", annotation='Copy path: '), IndentedChildren(children=[Siblings(children=(Text(text='key'), Text(text='='), HyperlinkTarget(child=StringLiteralColor(child=Text(text=\"'c'\")), keypath=(GetAttrKey(name='remainder'), DictKey(key='c'), SequenceKey(idx=0), DictKey(key='value'), GetAttrKey(name='path'), SequenceKey(idx=0), GetAttrKey(name='key'))), FoldCondition(collapsed=EmptyPart(), expanded=Text(text=',')), FoldCondition(collapsed=EmptyPart(), expanded=Siblings(children=(StringCopyButton(copy_string=\"(lambda root: root.remainder['c'][0]['value'].path[0].key)\", annotation='Copy path: '),)))))]), Text(text=')'))), label=HyperlinkTarget(child=Siblings(children=(RoundtripCondition(roundtrip=QualifiedTypeNameSpanGroup(child=Text(text='jax.tree_util.')), not_roundtrip=EmptyPart()), Text(text='DictKey'), Text(text='('))), keypath=(GetAttrKey(name='remainder'), DictKey(key='c'), SequenceKey(idx=0), DictKey(key='value'), GetAttrKey(name='path'), SequenceKey(idx=0))), expand_state=<ExpandState.COLLAPSED: 'collapsed'>), Text(text=','), FoldCondition(collapsed=Text(text=' '), expanded=EmptyPart()), FoldCondition(collapsed=EmptyPart(), expanded=Siblings(children=(StringCopyButton(copy_string=\"(lambda root: root.remainder['c'][0]['value'].path[0])\", annotation='Copy path: '),))))), Siblings(children=(FoldableTreeNodeImpl(contents=Siblings(children=(StringCopyButton(copy_string=\"(lambda root: root.remainder['c'][0]['value'].path[1])\", annotation='Copy path: '), IndentedChildren(children=[Siblings(children=(Text(text='idx'), Text(text='='), HyperlinkTarget(child=NumberColor(child=Text(text='0')), keypath=(GetAttrKey(name='remainder'), DictKey(key='c'), SequenceKey(idx=0), DictKey(key='value'), GetAttrKey(name='path'), SequenceKey(idx=1), GetAttrKey(name='idx'))), FoldCondition(collapsed=EmptyPart(), expanded=Text(text=',')), FoldCondition(collapsed=EmptyPart(), expanded=Siblings(children=(StringCopyButton(copy_string=\"(lambda root: root.remainder['c'][0]['value'].path[1].idx)\", annotation='Copy path: '),)))))]), Text(text=')'))), label=HyperlinkTarget(child=Siblings(children=(RoundtripCondition(roundtrip=QualifiedTypeNameSpanGroup(child=Text(text='jax.tree_util.')), not_roundtrip=EmptyPart()), Text(text='SequenceKey'), Text(text='('))), keypath=(GetAttrKey(name='remainder'), DictKey(key='c'), SequenceKey(idx=0), DictKey(key='value'), GetAttrKey(name='path'), SequenceKey(idx=1))), expand_state=<ExpandState.COLLAPSED: 'collapsed'>), Text(text=','), FoldCondition(collapsed=Text(text=' '), expanded=EmptyPart()), FoldCondition(collapsed=EmptyPart(), expanded=Siblings(children=(StringCopyButton(copy_string=\"(lambda root: root.remainder['c'][0]['value'].path[1])\", annotation='Copy path: '),))))), Siblings(children=(FoldableTreeNodeImpl(contents=Siblings(children=(StringCopyButton(copy_string=\"(lambda root: root.remainder['c'][0]['value'].path[2])\", annotation='Copy path: '), IndentedChildren(children=[Siblings(children=(Text(text='key'), Text(text='='), HyperlinkTarget(child=StringLiteralColor(child=Text(text=\"'value'\")), keypath=(GetAttrKey(name='remainder'), DictKey(key='c'), SequenceKey(idx=0), DictKey(key='value'), GetAttrKey(name='path'), SequenceKey(idx=2), GetAttrKey(name='key'))), FoldCondition(collapsed=EmptyPart(), expanded=Text(text=',')), FoldCondition(collapsed=EmptyPart(), expanded=Siblings(children=(StringCopyButton(copy_string=\"(lambda root: root.remainder['c'][0]['value'].path[2].key)\", annotation='Copy path: '),)))))]), Text(text=')'))), label=HyperlinkTarget(child=Siblings(children=(RoundtripCondition(roundtrip=QualifiedTypeNameSpanGroup(child=Text(text='jax.tree_util.')), not_roundtrip=EmptyPart()), Text(text='DictKey'), Text(text='('))), keypath=(GetAttrKey(name='remainder'), DictKey(key='c'), SequenceKey(idx=0), DictKey(key='value'), GetAttrKey(name='path'), SequenceKey(idx=2))), expand_state=<ExpandState.COLLAPSED: 'collapsed'>), FoldCondition(collapsed=EmptyPart(), expanded=Text(text=',')), FoldCondition(collapsed=EmptyPart(), expanded=Siblings(children=(StringCopyButton(copy_string=\"(lambda root: root.remainder['c'][0]['value'].path[2])\", annotation='Copy path: '),)))))]), Text(text=')'))), label=HyperlinkTarget(child=Text(text='('), keypath=(GetAttrKey(name='remainder'), DictKey(key='c'), SequenceKey(idx=0), DictKey(key='value'), GetAttrKey(name='path'))), expand_state=<ExpandState.COLLAPSED: 'collapsed'>), FoldCondition(collapsed=EmptyPart(), expanded=Text(text=',')), FoldCondition(collapsed=EmptyPart(), expanded=Siblings(children=(StringCopyButton(copy_string=\"(lambda root: root.remainder['c'][0]['value'].path)\", annotation='Copy path: '),)))))]), Text(text=')'))), label=HyperlinkTarget(child=Siblings(children=(RoundtripCondition(roundtrip=QualifiedTypeNameSpanGroup(child=Text(text='penzai.core.selectors.')), not_roundtrip=EmptyPart()), Text(text='SelectionHole'), Text(text='('))), keypath=(GetAttrKey(name='remainder'), DictKey(key='c'), SequenceKey(idx=0), DictKey(key='value'))), expand_state=<ExpandState.EXPANDED: 'expanded'>), FoldCondition(collapsed=EmptyPart(), expanded=Text(text=',')), FoldCondition(collapsed=EmptyPart(), expanded=Siblings(children=(StringCopyButton(copy_string=\"(lambda root: root.remainder['c'][0]['value'])\", annotation='Copy path: '),)))))]), Text(text='}'))), label=HyperlinkTarget(child=Text(text='{'), keypath=(GetAttrKey(name='remainder'), DictKey(key='c'), SequenceKey(idx=0))), expand_state=<ExpandState.COLLAPSED: 'collapsed'>), node_id=137010728534400, seen_more_than_once=set()), Text(text=','), FoldCondition(collapsed=Text(text=' '), expanded=EmptyPart()), FoldCondition(collapsed=EmptyPart(), expanded=Siblings(children=(DynamicSharedCheck(if_shared=SharedWarningLabel(child=Text(text=' # Repeated python obj at 0x7c9c4bce0180')), node_id=137010728534400, seen_more_than_once=set()), StringCopyButton(copy_string=\"(lambda root: root.remainder['c'][0])\", annotation='Copy path: ')))))), Siblings(children=(WithDynamicSharedPip(child=FoldableTreeNodeImpl(contents=Siblings(children=(StringCopyButton(copy_string=\"(lambda root: root.remainder['c'][1])\", annotation='Copy path: '), IndentedChildren(children=[Siblings(children=(HyperlinkTarget(child=StringLiteralColor(child=Text(text=\"'value'\")), keypath=None), Text(text=': '), FoldableTreeNodeImpl(contents=Siblings(children=(StringCopyButton(copy_string=\"(lambda root: root.remainder['c'][1]['value'])\", annotation='Copy path: '), IndentedChildren(children=[Siblings(children=(Text(text='path'), Text(text='='), FoldableTreeNodeImpl(contents=Siblings(children=(StringCopyButton(copy_string=\"(lambda root: root.remainder['c'][1]['value'].path)\", annotation='Copy path: '), IndentedChildren(children=[Siblings(children=(FoldableTreeNodeImpl(contents=Siblings(children=(StringCopyButton(copy_string=\"(lambda root: root.remainder['c'][1]['value'].path[0])\", annotation='Copy path: '), IndentedChildren(children=[Siblings(children=(Text(text='key'), Text(text='='), HyperlinkTarget(child=StringLiteralColor(child=Text(text=\"'c'\")), keypath=(GetAttrKey(name='remainder'), DictKey(key='c'), SequenceKey(idx=1), DictKey(key='value'), GetAttrKey(name='path'), SequenceKey(idx=0), GetAttrKey(name='key'))), FoldCondition(collapsed=EmptyPart(), expanded=Text(text=',')), FoldCondition(collapsed=EmptyPart(), expanded=Siblings(children=(StringCopyButton(copy_string=\"(lambda root: root.remainder['c'][1]['value'].path[0].key)\", annotation='Copy path: '),)))))]), Text(text=')'))), label=HyperlinkTarget(child=Siblings(children=(RoundtripCondition(roundtrip=QualifiedTypeNameSpanGroup(child=Text(text='jax.tree_util.')), not_roundtrip=EmptyPart()), Text(text='DictKey'), Text(text='('))), keypath=(GetAttrKey(name='remainder'), DictKey(key='c'), SequenceKey(idx=1), DictKey(key='value'), GetAttrKey(name='path'), SequenceKey(idx=0))), expand_state=<ExpandState.COLLAPSED: 'collapsed'>), Text(text=','), FoldCondition(collapsed=Text(text=' '), expanded=EmptyPart()), FoldCondition(collapsed=EmptyPart(), expanded=Siblings(children=(StringCopyButton(copy_string=\"(lambda root: root.remainder['c'][1]['value'].path[0])\", annotation='Copy path: '),))))), Siblings(children=(FoldableTreeNodeImpl(contents=Siblings(children=(StringCopyButton(copy_string=\"(lambda root: root.remainder['c'][1]['value'].path[1])\", annotation='Copy path: '), IndentedChildren(children=[Siblings(children=(Text(text='idx'), Text(text='='), HyperlinkTarget(child=NumberColor(child=Text(text='1')), keypath=(GetAttrKey(name='remainder'), DictKey(key='c'), SequenceKey(idx=1), DictKey(key='value'), GetAttrKey(name='path'), SequenceKey(idx=1), GetAttrKey(name='idx'))), FoldCondition(collapsed=EmptyPart(), expanded=Text(text=',')), FoldCondition(collapsed=EmptyPart(), expanded=Siblings(children=(StringCopyButton(copy_string=\"(lambda root: root.remainder['c'][1]['value'].path[1].idx)\", annotation='Copy path: '),)))))]), Text(text=')'))), label=HyperlinkTarget(child=Siblings(children=(RoundtripCondition(roundtrip=QualifiedTypeNameSpanGroup(child=Text(text='jax.tree_util.')), not_roundtrip=EmptyPart()), Text(text='SequenceKey'), Text(text='('))), keypath=(GetAttrKey(name='remainder'), DictKey(key='c'), SequenceKey(idx=1), DictKey(key='value'), GetAttrKey(name='path'), SequenceKey(idx=1))), expand_state=<ExpandState.COLLAPSED: 'collapsed'>), Text(text=','), FoldCondition(collapsed=Text(text=' '), expanded=EmptyPart()), FoldCondition(collapsed=EmptyPart(), expanded=Siblings(children=(StringCopyButton(copy_string=\"(lambda root: root.remainder['c'][1]['value'].path[1])\", annotation='Copy path: '),))))), Siblings(children=(FoldableTreeNodeImpl(contents=Siblings(children=(StringCopyButton(copy_string=\"(lambda root: root.remainder['c'][1]['value'].path[2])\", annotation='Copy path: '), IndentedChildren(children=[Siblings(children=(Text(text='key'), Text(text='='), HyperlinkTarget(child=StringLiteralColor(child=Text(text=\"'value'\")), keypath=(GetAttrKey(name='remainder'), DictKey(key='c'), SequenceKey(idx=1), DictKey(key='value'), GetAttrKey(name='path'), SequenceKey(idx=2), GetAttrKey(name='key'))), FoldCondition(collapsed=EmptyPart(), expanded=Text(text=',')), FoldCondition(collapsed=EmptyPart(), expanded=Siblings(children=(StringCopyButton(copy_string=\"(lambda root: root.remainder['c'][1]['value'].path[2].key)\", annotation='Copy path: '),)))))]), Text(text=')'))), label=HyperlinkTarget(child=Siblings(children=(RoundtripCondition(roundtrip=QualifiedTypeNameSpanGroup(child=Text(text='jax.tree_util.')), not_roundtrip=EmptyPart()), Text(text='DictKey'), Text(text='('))), keypath=(GetAttrKey(name='remainder'), DictKey(key='c'), SequenceKey(idx=1), DictKey(key='value'), GetAttrKey(name='path'), SequenceKey(idx=2))), expand_state=<ExpandState.COLLAPSED: 'collapsed'>), FoldCondition(collapsed=EmptyPart(), expanded=Text(text=',')), FoldCondition(collapsed=EmptyPart(), expanded=Siblings(children=(StringCopyButton(copy_string=\"(lambda root: root.remainder['c'][1]['value'].path[2])\", annotation='Copy path: '),)))))]), Text(text=')'))), label=HyperlinkTarget(child=Text(text='('), keypath=(GetAttrKey(name='remainder'), DictKey(key='c'), SequenceKey(idx=1), DictKey(key='value'), GetAttrKey(name='path'))), expand_state=<ExpandState.COLLAPSED: 'collapsed'>), FoldCondition(collapsed=EmptyPart(), expanded=Text(text=',')), FoldCondition(collapsed=EmptyPart(), expanded=Siblings(children=(StringCopyButton(copy_string=\"(lambda root: root.remainder['c'][1]['value'].path)\", annotation='Copy path: '),)))))]), Text(text=')'))), label=HyperlinkTarget(child=Siblings(children=(RoundtripCondition(roundtrip=QualifiedTypeNameSpanGroup(child=Text(text='penzai.core.selectors.')), not_roundtrip=EmptyPart()), Text(text='SelectionHole'), Text(text='('))), keypath=(GetAttrKey(name='remainder'), DictKey(key='c'), SequenceKey(idx=1), DictKey(key='value'))), expand_state=<ExpandState.EXPANDED: 'expanded'>), FoldCondition(collapsed=EmptyPart(), expanded=Text(text=',')), FoldCondition(collapsed=EmptyPart(), expanded=Siblings(children=(StringCopyButton(copy_string=\"(lambda root: root.remainder['c'][1]['value'])\", annotation='Copy path: '),)))))]), Text(text='}'))), label=HyperlinkTarget(child=Text(text='{'), keypath=(GetAttrKey(name='remainder'), DictKey(key='c'), SequenceKey(idx=1))), expand_state=<ExpandState.COLLAPSED: 'collapsed'>), node_id=137010728162688, seen_more_than_once=set()), Text(text=','), FoldCondition(collapsed=Text(text=' '), expanded=EmptyPart()), FoldCondition(collapsed=EmptyPart(), expanded=Siblings(children=(DynamicSharedCheck(if_shared=SharedWarningLabel(child=Text(text=' # Repeated python obj at 0x7c9c4bc85580')), node_id=137010728162688, seen_more_than_once=set()), StringCopyButton(copy_string=\"(lambda root: root.remainder['c'][1])\", annotation='Copy path: ')))))), Siblings(children=(WithDynamicSharedPip(child=FoldableTreeNodeImpl(contents=Siblings(children=(StringCopyButton(copy_string=\"(lambda root: root.remainder['c'][2])\", annotation='Copy path: '), IndentedChildren(children=[Siblings(children=(HyperlinkTarget(child=StringLiteralColor(child=Text(text=\"'value'\")), keypath=None), Text(text=': '), FoldableTreeNodeImpl(contents=Siblings(children=(StringCopyButton(copy_string=\"(lambda root: root.remainder['c'][2]['value'])\", annotation='Copy path: '), IndentedChildren(children=[Siblings(children=(Text(text='path'), Text(text='='), FoldableTreeNodeImpl(contents=Siblings(children=(StringCopyButton(copy_string=\"(lambda root: root.remainder['c'][2]['value'].path)\", annotation='Copy path: '), IndentedChildren(children=[Siblings(children=(FoldableTreeNodeImpl(contents=Siblings(children=(StringCopyButton(copy_string=\"(lambda root: root.remainder['c'][2]['value'].path[0])\", annotation='Copy path: '), IndentedChildren(children=[Siblings(children=(Text(text='key'), Text(text='='), HyperlinkTarget(child=StringLiteralColor(child=Text(text=\"'c'\")), keypath=(GetAttrKey(name='remainder'), DictKey(key='c'), SequenceKey(idx=2), DictKey(key='value'), GetAttrKey(name='path'), SequenceKey(idx=0), GetAttrKey(name='key'))), FoldCondition(collapsed=EmptyPart(), expanded=Text(text=',')), FoldCondition(collapsed=EmptyPart(), expanded=Siblings(children=(StringCopyButton(copy_string=\"(lambda root: root.remainder['c'][2]['value'].path[0].key)\", annotation='Copy path: '),)))))]), Text(text=')'))), label=HyperlinkTarget(child=Siblings(children=(RoundtripCondition(roundtrip=QualifiedTypeNameSpanGroup(child=Text(text='jax.tree_util.')), not_roundtrip=EmptyPart()), Text(text='DictKey'), Text(text='('))), keypath=(GetAttrKey(name='remainder'), DictKey(key='c'), SequenceKey(idx=2), DictKey(key='value'), GetAttrKey(name='path'), SequenceKey(idx=0))), expand_state=<ExpandState.COLLAPSED: 'collapsed'>), Text(text=','), FoldCondition(collapsed=Text(text=' '), expanded=EmptyPart()), FoldCondition(collapsed=EmptyPart(), expanded=Siblings(children=(StringCopyButton(copy_string=\"(lambda root: root.remainder['c'][2]['value'].path[0])\", annotation='Copy path: '),))))), Siblings(children=(FoldableTreeNodeImpl(contents=Siblings(children=(StringCopyButton(copy_string=\"(lambda root: root.remainder['c'][2]['value'].path[1])\", annotation='Copy path: '), IndentedChildren(children=[Siblings(children=(Text(text='idx'), Text(text='='), HyperlinkTarget(child=NumberColor(child=Text(text='2')), keypath=(GetAttrKey(name='remainder'), DictKey(key='c'), SequenceKey(idx=2), DictKey(key='value'), GetAttrKey(name='path'), SequenceKey(idx=1), GetAttrKey(name='idx'))), FoldCondition(collapsed=EmptyPart(), expanded=Text(text=',')), FoldCondition(collapsed=EmptyPart(), expanded=Siblings(children=(StringCopyButton(copy_string=\"(lambda root: root.remainder['c'][2]['value'].path[1].idx)\", annotation='Copy path: '),)))))]), Text(text=')'))), label=HyperlinkTarget(child=Siblings(children=(RoundtripCondition(roundtrip=QualifiedTypeNameSpanGroup(child=Text(text='jax.tree_util.')), not_roundtrip=EmptyPart()), Text(text='SequenceKey'), Text(text='('))), keypath=(GetAttrKey(name='remainder'), DictKey(key='c'), SequenceKey(idx=2), DictKey(key='value'), GetAttrKey(name='path'), SequenceKey(idx=1))), expand_state=<ExpandState.COLLAPSED: 'collapsed'>), Text(text=','), FoldCondition(collapsed=Text(text=' '), expanded=EmptyPart()), FoldCondition(collapsed=EmptyPart(), expanded=Siblings(children=(StringCopyButton(copy_string=\"(lambda root: root.remainder['c'][2]['value'].path[1])\", annotation='Copy path: '),))))), Siblings(children=(FoldableTreeNodeImpl(contents=Siblings(children=(StringCopyButton(copy_string=\"(lambda root: root.remainder['c'][2]['value'].path[2])\", annotation='Copy path: '), IndentedChildren(children=[Siblings(children=(Text(text='key'), Text(text='='), HyperlinkTarget(child=StringLiteralColor(child=Text(text=\"'value'\")), keypath=(GetAttrKey(name='remainder'), DictKey(key='c'), SequenceKey(idx=2), DictKey(key='value'), GetAttrKey(name='path'), SequenceKey(idx=2), GetAttrKey(name='key'))), FoldCondition(collapsed=EmptyPart(), expanded=Text(text=',')), FoldCondition(collapsed=EmptyPart(), expanded=Siblings(children=(StringCopyButton(copy_string=\"(lambda root: root.remainder['c'][2]['value'].path[2].key)\", annotation='Copy path: '),)))))]), Text(text=')'))), label=HyperlinkTarget(child=Siblings(children=(RoundtripCondition(roundtrip=QualifiedTypeNameSpanGroup(child=Text(text='jax.tree_util.')), not_roundtrip=EmptyPart()), Text(text='DictKey'), Text(text='('))), keypath=(GetAttrKey(name='remainder'), DictKey(key='c'), SequenceKey(idx=2), DictKey(key='value'), GetAttrKey(name='path'), SequenceKey(idx=2))), expand_state=<ExpandState.COLLAPSED: 'collapsed'>), FoldCondition(collapsed=EmptyPart(), expanded=Text(text=',')), FoldCondition(collapsed=EmptyPart(), expanded=Siblings(children=(StringCopyButton(copy_string=\"(lambda root: root.remainder['c'][2]['value'].path[2])\", annotation='Copy path: '),)))))]), Text(text=')'))), label=HyperlinkTarget(child=Text(text='('), keypath=(GetAttrKey(name='remainder'), DictKey(key='c'), SequenceKey(idx=2), DictKey(key='value'), GetAttrKey(name='path'))), expand_state=<ExpandState.COLLAPSED: 'collapsed'>), FoldCondition(collapsed=EmptyPart(), expanded=Text(text=',')), FoldCondition(collapsed=EmptyPart(), expanded=Siblings(children=(StringCopyButton(copy_string=\"(lambda root: root.remainder['c'][2]['value'].path)\", annotation='Copy path: '),)))))]), Text(text=')'))), label=HyperlinkTarget(child=Siblings(children=(RoundtripCondition(roundtrip=QualifiedTypeNameSpanGroup(child=Text(text='penzai.core.selectors.')), not_roundtrip=EmptyPart()), Text(text='SelectionHole'), Text(text='('))), keypath=(GetAttrKey(name='remainder'), DictKey(key='c'), SequenceKey(idx=2), DictKey(key='value'))), expand_state=<ExpandState.EXPANDED: 'expanded'>), FoldCondition(collapsed=EmptyPart(), expanded=Text(text=',')), FoldCondition(collapsed=EmptyPart(), expanded=Siblings(children=(StringCopyButton(copy_string=\"(lambda root: root.remainder['c'][2]['value'])\", annotation='Copy path: '),)))))]), Text(text='}'))), label=HyperlinkTarget(child=Text(text='{'), keypath=(GetAttrKey(name='remainder'), DictKey(key='c'), SequenceKey(idx=2))), expand_state=<ExpandState.COLLAPSED: 'collapsed'>), node_id=137010728344128, seen_more_than_once=set()), FoldCondition(collapsed=EmptyPart(), expanded=Text(text=',')), FoldCondition(collapsed=EmptyPart(), expanded=Siblings(children=(DynamicSharedCheck(if_shared=SharedWarningLabel(child=Text(text=' # Repeated python obj at 0x7c9c4bcb1a40')), node_id=137010728344128, seen_more_than_once=set()), StringCopyButton(copy_string=\"(lambda root: root.remainder['c'][2])\", annotation='Copy path: '))))))]), Text(text=']'))), label=HyperlinkTarget(child=Text(text='['), keypath=(GetAttrKey(name='remainder'), DictKey(key='c'))), expand_state=<ExpandState.EXPANDED: 'expanded'>), node_id=136986237692992, seen_more_than_once=set()), FoldCondition(collapsed=EmptyPart(), expanded=Text(text=',')), FoldCondition(collapsed=EmptyPart(), expanded=Siblings(children=(DynamicSharedCheck(if_shared=SharedWarningLabel(child=Text(text=' # Repeated python obj at 0x7c9698096c40')), node_id=136986237692992, seen_more_than_once=set()), StringCopyButton(copy_string=\"(lambda root: root.remainder['c'])\", annotation='Copy path: '))))))]), Text(text='}'))), label=HyperlinkTarget(child=Text(text='{'), keypath=(GetAttrKey(name='remainder'),)), expand_state=<ExpandState.COLLAPSED: 'collapsed'>), node_id=137010728534464, seen_more_than_once=set()), FoldCondition(collapsed=EmptyPart(), expanded=Text(text=',')), FoldCondition(collapsed=EmptyPart(), expanded=Siblings(children=(DynamicSharedCheck(if_shared=SharedWarningLabel(child=Text(text=' # Repeated python obj at 0x7c9c4bce01c0')), node_id=137010728534464, seen_more_than_once=set()), StringCopyButton(copy_string='(lambda root: root.remainder)', annotation='Copy path: '))))))]), Text(text=')'))), label=HyperlinkTarget(child=Siblings(children=(RoundtripCondition(roundtrip=QualifiedTypeNameSpanGroup(child=Text(text='penzai.core.selectors.')), not_roundtrip=EmptyPart()), Text(text='Selection'), Text(text='('))), keypath=()), expand_state=<ExpandState.EXPANDED: 'expanded'>),))))"
      ]
     },
     "metadata": {},
     "output_type": "display_data"
    }
   ],
   "source": [
    "my_selection = (\n",
    "    pz.select(my_nested_object)\n",
    "      .at(lambda root: root[\"c\"])\n",
    "      .at_instances_of(jax.typing.ArrayLike)\n",
    ")\n",
    "\n",
    "pz.show(my_selection)"
   ]
  },
  {
   "cell_type": "markdown",
   "metadata": {
    "id": "FJ3OuNUD_lO4"
   },
   "source": [
    "By default, though, selections are rendered in a way that emphasizes what you've selected, so you can tell at a glance that you're making the changes you expect to:"
   ]
  },
  {
   "cell_type": "code",
   "execution_count": 12,
   "metadata": {
    "execution": {
     "iopub.execute_input": "2024-04-17T19:20:17.749422Z",
     "iopub.status.busy": "2024-04-17T19:20:17.749155Z",
     "iopub.status.idle": "2024-04-17T19:20:17.777706Z",
     "shell.execute_reply": "2024-04-17T19:20:17.776742Z"
    },
    "id": "EUD6zd_L-iNr"
   },
   "outputs": [
    {
     "data": {
      "text/html": [
       "<script> /* penzai.treescope rendering of a Python object (compressed) */ (()=>{ let observer; let lastStep = new Promise((resolve, reject) => { observer = new IntersectionObserver((entries) => { for (const entry of entries) { if (entry.isIntersecting) { resolve(); observer.disconnect(); return; } } }, {rootMargin: \"1000px\"}); }); window.treescope_decompress_enqueue = (encoded, destId) => { const previous = lastStep; const destElt = document.getElementById(destId); lastStep = (async () => { await previous; let blob = new Blob([ Uint8Array.from(atob(encoded), (m) => m.codePointAt(0)) ]); let reader = blob.stream().pipeThrough( new DecompressionStream(\"deflate\") ).pipeThrough( new TextDecoderStream(\"utf-8\") ).getReader(); let parts = []; while (true) { let step = await reader.read(); if (step.done) { break; } parts.push(step.value); } let newElt = document.createElement(\"div\"); newElt.innerHTML = parts.join(\"\"); destElt.parentNode.replaceChild(newElt, destElt); for (let oldScript of newElt.querySelectorAll(\"script\")) { let newScript = document.createElement(\"script\"); newScript.type = oldScript.type; newScript.textContent = oldScript.textContent; oldScript.parentNode.replaceChild(newScript, oldScript); } })(); requestAnimationFrame(() => { observer.observe(destElt); }); } })(); </script><div id=\"compress_html_733cc574577f4b97bf799abab275d9d3\"><script>window.treescope_decompress_enqueue(\"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\", \"compress_html_733cc574577f4b97bf799abab275d9d3\");</script><span style=\"color: #aaaaaa; font-family: monospace\">(Loading...)</span></div>"
      ],
      "text/plain": [
       "<IPython.core.display.HTML object>"
      ]
     },
     "metadata": {},
     "output_type": "display_data"
    },
    {
     "data": {
      "text/html": [
       "<div id=\"compress_html_2977d420cc2741c2b27bafbe6d16286b\"><script>window.treescope_decompress_enqueue(\"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\", \"compress_html_2977d420cc2741c2b27bafbe6d16286b\");</script></div>"
      ],
      "text/plain": [
       "<IPython.core.display.HTML object>"
      ]
     },
     "metadata": {},
     "output_type": "display_data"
    },
    {
     "data": {
      "text/html": [],
      "text/plain": [
       "Selection(\n",
       "  selected_by_path=OrderedDict({\n",
       "    (DictKey(key='c'), SequenceKey(idx=0), DictKey(key='value')):\n",
       "      <jax.Array([ 0,  1,  2,  3,  4,  5,  6,  7,  8,  9, 10, 11], dtype=int32)>,\n",
       "    (DictKey(key='c'), SequenceKey(idx=1), DictKey(key='value')):\n",
       "      <jax.Array([0., 0., 0., 0., 0., 0., 0.], dtype=float32)>,\n",
       "    (DictKey(key='c'), SequenceKey(idx=2), DictKey(key='value')):\n",
       "      3,\n",
       "  }),\n",
       "  remainder={'a': 1, 'b': <jax.Array([0, 1, 2, 3, 4, 5, 6, 7, 8, 9], dtype=int32)>, 'c': [{'value': SelectionHole(path=(DictKey(key='c'), SequenceKey(idx=0), DictKey(key='value')))}, {'value': SelectionHole(path=(DictKey(key='c'), SequenceKey(idx=1), DictKey(key='value')))}, {'value': SelectionHole(path=(DictKey(key='c'), SequenceKey(idx=2), DictKey(key='value')))}]},\n",
       ")"
      ]
     },
     "execution_count": 12,
     "metadata": {},
     "output_type": "execute_result"
    }
   ],
   "source": [
    "my_selection"
   ]
  },
  {
   "cell_type": "markdown",
   "metadata": {
    "id": "Alps_lEFBFq3"
   },
   "source": [
    "(This fancy rendering mode is triggered when you display a single selection after enabling `pz.ts.register_as_default()`, or when you call `.show_selection()` on a selection object.)"
   ]
  },
  {
   "cell_type": "markdown",
   "metadata": {
    "id": "7UpYotjP-ZIC"
   },
   "source": [
    "## Building selections"
   ]
  },
  {
   "cell_type": "markdown",
   "metadata": {
    "id": "WEBkR8V7EiRr"
   },
   "source": [
    "The penzai selector API is designed around *method chaining*. You generally start by creating a trivial selection containing only a single object, the root object, using `pz.select`:"
   ]
  },
  {
   "cell_type": "code",
   "execution_count": 13,
   "metadata": {
    "execution": {
     "iopub.execute_input": "2024-04-17T19:20:17.782458Z",
     "iopub.status.busy": "2024-04-17T19:20:17.782195Z",
     "iopub.status.idle": "2024-04-17T19:20:17.801744Z",
     "shell.execute_reply": "2024-04-17T19:20:17.800857Z"
    },
    "id": "k3mVVp0-9rL2"
   },
   "outputs": [
    {
     "data": {
      "text/html": [
       "<script> /* penzai.treescope rendering of a Python object (compressed) */ (()=>{ let observer; let lastStep = new Promise((resolve, reject) => { observer = new IntersectionObserver((entries) => { for (const entry of entries) { if (entry.isIntersecting) { resolve(); observer.disconnect(); return; } } }, {rootMargin: \"1000px\"}); }); window.treescope_decompress_enqueue = (encoded, destId) => { const previous = lastStep; const destElt = document.getElementById(destId); lastStep = (async () => { await previous; let blob = new Blob([ Uint8Array.from(atob(encoded), (m) => m.codePointAt(0)) ]); let reader = blob.stream().pipeThrough( new DecompressionStream(\"deflate\") ).pipeThrough( new TextDecoderStream(\"utf-8\") ).getReader(); let parts = []; while (true) { let step = await reader.read(); if (step.done) { break; } parts.push(step.value); } let newElt = document.createElement(\"div\"); newElt.innerHTML = parts.join(\"\"); destElt.parentNode.replaceChild(newElt, destElt); for (let oldScript of newElt.querySelectorAll(\"script\")) { let newScript = document.createElement(\"script\"); newScript.type = oldScript.type; newScript.textContent = oldScript.textContent; oldScript.parentNode.replaceChild(newScript, oldScript); } })(); requestAnimationFrame(() => { observer.observe(destElt); }); } })(); </script><div id=\"compress_html_4357d0793a8b4907981f14df8a4c6466\"><script>window.treescope_decompress_enqueue(\"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\", \"compress_html_4357d0793a8b4907981f14df8a4c6466\");</script><span style=\"color: #aaaaaa; font-family: monospace\">(Loading...)</span></div>"
      ],
      "text/plain": [
       "<IPython.core.display.HTML object>"
      ]
     },
     "metadata": {},
     "output_type": "display_data"
    },
    {
     "data": {
      "text/html": [
       "<div id=\"compress_html_5c2c8b4bb82c4802aabcbf279ff0b4d4\"><script>window.treescope_decompress_enqueue(\"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\", \"compress_html_5c2c8b4bb82c4802aabcbf279ff0b4d4\");</script></div>"
      ],
      "text/plain": [
       "<IPython.core.display.HTML object>"
      ]
     },
     "metadata": {},
     "output_type": "display_data"
    },
    {
     "data": {
      "text/html": [],
      "text/plain": [
       "Selection(\n",
       "  selected_by_path=OrderedDict({\n",
       "    (): {\n",
       "      'a': 1,\n",
       "      'b': <jax.Array([0, 1, 2, 3, 4, 5, 6, 7, 8, 9], dtype=int32)>,\n",
       "      'c': [\n",
       "        {\n",
       "          'value': <jax.Array([ 0,  1,  2,  3,  4,  5,  6,  7,  8,  9, 10, 11], dtype=int32)>,\n",
       "        },\n",
       "        {\n",
       "          'value': <jax.Array([0., 0., 0., 0., 0., 0., 0.], dtype=float32)>,\n",
       "        },\n",
       "        {'value': 3},\n",
       "      ],\n",
       "    },\n",
       "  }),\n",
       "  remainder=SelectionHole(path=()),\n",
       ")"
      ]
     },
     "execution_count": 13,
     "metadata": {},
     "output_type": "execute_result"
    }
   ],
   "source": [
    "pz.select(my_nested_object)"
   ]
  },
  {
   "cell_type": "markdown",
   "metadata": {
    "id": "NcmUj1AF3xS1"
   },
   "source": [
    "You can also use the `.select()` attribute if you know your root object is a subclass of `pz.Struct`:"
   ]
  },
  {
   "cell_type": "code",
   "execution_count": 14,
   "metadata": {
    "execution": {
     "iopub.execute_input": "2024-04-17T19:20:17.806181Z",
     "iopub.status.busy": "2024-04-17T19:20:17.805871Z",
     "iopub.status.idle": "2024-04-17T19:20:17.817272Z",
     "shell.execute_reply": "2024-04-17T19:20:17.816127Z"
    },
    "id": "jqw3QPx9EzjR"
   },
   "outputs": [
    {
     "data": {
      "text/html": [
       "<script> /* penzai.treescope rendering of a Python object (compressed) */ (()=>{ let observer; let lastStep = new Promise((resolve, reject) => { observer = new IntersectionObserver((entries) => { for (const entry of entries) { if (entry.isIntersecting) { resolve(); observer.disconnect(); return; } } }, {rootMargin: \"1000px\"}); }); window.treescope_decompress_enqueue = (encoded, destId) => { const previous = lastStep; const destElt = document.getElementById(destId); lastStep = (async () => { await previous; let blob = new Blob([ Uint8Array.from(atob(encoded), (m) => m.codePointAt(0)) ]); let reader = blob.stream().pipeThrough( new DecompressionStream(\"deflate\") ).pipeThrough( new TextDecoderStream(\"utf-8\") ).getReader(); let parts = []; while (true) { let step = await reader.read(); if (step.done) { break; } parts.push(step.value); } let newElt = document.createElement(\"div\"); newElt.innerHTML = parts.join(\"\"); destElt.parentNode.replaceChild(newElt, destElt); for (let oldScript of newElt.querySelectorAll(\"script\")) { let newScript = document.createElement(\"script\"); newScript.type = oldScript.type; newScript.textContent = oldScript.textContent; oldScript.parentNode.replaceChild(newScript, oldScript); } })(); requestAnimationFrame(() => { observer.observe(destElt); }); } })(); </script><div id=\"compress_html_4cd5c05fc2624245aacbd71963412e10\"><script>window.treescope_decompress_enqueue(\"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\", \"compress_html_4cd5c05fc2624245aacbd71963412e10\");</script><span style=\"color: #aaaaaa; font-family: monospace\">(Loading...)</span></div>"
      ],
      "text/plain": [
       "<IPython.core.display.HTML object>"
      ]
     },
     "metadata": {},
     "output_type": "display_data"
    },
    {
     "data": {
      "text/html": [],
      "text/plain": [
       "Selection(\n",
       "  selected_by_path=OrderedDict({(): MyStruct(foo=4)}),\n",
       "  remainder=SelectionHole(path=()),\n",
       ")"
      ]
     },
     "execution_count": 14,
     "metadata": {},
     "output_type": "execute_result"
    }
   ],
   "source": [
    "@pz.pytree_dataclass\n",
    "class MyStruct(pz.Struct):\n",
    "  foo: typing.Any\n",
    "\n",
    "MyStruct(4).select()"
   ]
  },
  {
   "cell_type": "markdown",
   "metadata": {
    "id": "tTKPVIUrFbeT"
   },
   "source": [
    "You then call methods on the selection to *refine* it to a subset of the currently selected values. These methods all operate relative to the currently selected object, so if you chain them, each method's output is restricted to the values selected by the previous method."
   ]
  },
  {
   "cell_type": "markdown",
   "metadata": {
    "id": "cFdUT5KaFju9"
   },
   "source": [
    "### Selecting with a function\n",
    "If you want to select a specific part of a tree, you can use `selection.at(...)`. The `.at` method takes as input a *function* that extracts the part you want to select, and returns a new selection that selects the extracted part:"
   ]
  },
  {
   "cell_type": "code",
   "execution_count": 15,
   "metadata": {
    "execution": {
     "iopub.execute_input": "2024-04-17T19:20:17.821757Z",
     "iopub.status.busy": "2024-04-17T19:20:17.821526Z",
     "iopub.status.idle": "2024-04-17T19:20:17.841065Z",
     "shell.execute_reply": "2024-04-17T19:20:17.840108Z"
    },
    "id": "8ZgPZeKeGDzQ"
   },
   "outputs": [
    {
     "data": {
      "text/html": [
       "<script> /* penzai.treescope rendering of a Python object (compressed) */ (()=>{ let observer; let lastStep = new Promise((resolve, reject) => { observer = new IntersectionObserver((entries) => { for (const entry of entries) { if (entry.isIntersecting) { resolve(); observer.disconnect(); return; } } }, {rootMargin: \"1000px\"}); }); window.treescope_decompress_enqueue = (encoded, destId) => { const previous = lastStep; const destElt = document.getElementById(destId); lastStep = (async () => { await previous; let blob = new Blob([ Uint8Array.from(atob(encoded), (m) => m.codePointAt(0)) ]); let reader = blob.stream().pipeThrough( new DecompressionStream(\"deflate\") ).pipeThrough( new TextDecoderStream(\"utf-8\") ).getReader(); let parts = []; while (true) { let step = await reader.read(); if (step.done) { break; } parts.push(step.value); } let newElt = document.createElement(\"div\"); newElt.innerHTML = parts.join(\"\"); destElt.parentNode.replaceChild(newElt, destElt); for (let oldScript of newElt.querySelectorAll(\"script\")) { let newScript = document.createElement(\"script\"); newScript.type = oldScript.type; newScript.textContent = oldScript.textContent; oldScript.parentNode.replaceChild(newScript, oldScript); } })(); requestAnimationFrame(() => { observer.observe(destElt); }); } })(); </script><div id=\"compress_html_a7fda1c876ff456194f9b99b136c2d59\"><script>window.treescope_decompress_enqueue(\"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\", \"compress_html_a7fda1c876ff456194f9b99b136c2d59\");</script><span style=\"color: #aaaaaa; font-family: monospace\">(Loading...)</span></div>"
      ],
      "text/plain": [
       "<IPython.core.display.HTML object>"
      ]
     },
     "metadata": {},
     "output_type": "display_data"
    },
    {
     "data": {
      "text/html": [
       "<div id=\"compress_html_ac1b701f2d5f436ea6c930ff09d43a23\"><script>window.treescope_decompress_enqueue(\"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\", \"compress_html_ac1b701f2d5f436ea6c930ff09d43a23\");</script></div>"
      ],
      "text/plain": [
       "<IPython.core.display.HTML object>"
      ]
     },
     "metadata": {},
     "output_type": "display_data"
    },
    {
     "data": {
      "text/html": [],
      "text/plain": [
       "Selection(\n",
       "  selected_by_path=OrderedDict({\n",
       "    (DictKey(key='c'),):\n",
       "      [\n",
       "        {\n",
       "          'value': <jax.Array([ 0,  1,  2,  3,  4,  5,  6,  7,  8,  9, 10, 11], dtype=int32)>,\n",
       "        },\n",
       "        {'value': <jax.Array([0., 0., 0., 0., 0., 0., 0.], dtype=float32)>},\n",
       "        {'value': 3},\n",
       "      ],\n",
       "  }),\n",
       "  remainder={\n",
       "    'a': 1,\n",
       "    'b': <jax.Array([0, 1, 2, 3, 4, 5, 6, 7, 8, 9], dtype=int32)>,\n",
       "    'c': SelectionHole(path=(DictKey(key='c'),)),\n",
       "  },\n",
       ")"
      ]
     },
     "execution_count": 15,
     "metadata": {},
     "output_type": "execute_result"
    }
   ],
   "source": [
    "pz.select(my_nested_object).at(lambda root: root[\"c\"])"
   ]
  },
  {
   "cell_type": "code",
   "execution_count": 16,
   "metadata": {
    "execution": {
     "iopub.execute_input": "2024-04-17T19:20:17.844470Z",
     "iopub.status.busy": "2024-04-17T19:20:17.844248Z",
     "iopub.status.idle": "2024-04-17T19:20:17.864734Z",
     "shell.execute_reply": "2024-04-17T19:20:17.863882Z"
    },
    "id": "dAO2KhdyGFZ5"
   },
   "outputs": [
    {
     "data": {
      "text/html": [
       "<script> /* penzai.treescope rendering of a Python object (compressed) */ (()=>{ let observer; let lastStep = new Promise((resolve, reject) => { observer = new IntersectionObserver((entries) => { for (const entry of entries) { if (entry.isIntersecting) { resolve(); observer.disconnect(); return; } } }, {rootMargin: \"1000px\"}); }); window.treescope_decompress_enqueue = (encoded, destId) => { const previous = lastStep; const destElt = document.getElementById(destId); lastStep = (async () => { await previous; let blob = new Blob([ Uint8Array.from(atob(encoded), (m) => m.codePointAt(0)) ]); let reader = blob.stream().pipeThrough( new DecompressionStream(\"deflate\") ).pipeThrough( new TextDecoderStream(\"utf-8\") ).getReader(); let parts = []; while (true) { let step = await reader.read(); if (step.done) { break; } parts.push(step.value); } let newElt = document.createElement(\"div\"); newElt.innerHTML = parts.join(\"\"); destElt.parentNode.replaceChild(newElt, destElt); for (let oldScript of newElt.querySelectorAll(\"script\")) { let newScript = document.createElement(\"script\"); newScript.type = oldScript.type; newScript.textContent = oldScript.textContent; oldScript.parentNode.replaceChild(newScript, oldScript); } })(); requestAnimationFrame(() => { observer.observe(destElt); }); } })(); </script><div id=\"compress_html_52cb270a9fe840c98d59c6f414b0d432\"><script>window.treescope_decompress_enqueue(\"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\", \"compress_html_52cb270a9fe840c98d59c6f414b0d432\");</script><span style=\"color: #aaaaaa; font-family: monospace\">(Loading...)</span></div>"
      ],
      "text/plain": [
       "<IPython.core.display.HTML object>"
      ]
     },
     "metadata": {},
     "output_type": "display_data"
    },
    {
     "data": {
      "text/html": [
       "<div id=\"compress_html_29319a68197e461aa1e8f39d66f719ba\"><script>window.treescope_decompress_enqueue(\"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\", \"compress_html_29319a68197e461aa1e8f39d66f719ba\");</script></div>"
      ],
      "text/plain": [
       "<IPython.core.display.HTML object>"
      ]
     },
     "metadata": {},
     "output_type": "display_data"
    },
    {
     "data": {
      "text/html": [],
      "text/plain": [
       "Selection(\n",
       "  selected_by_path=OrderedDict({\n",
       "    (DictKey(key='c'), SequenceKey(idx=1), DictKey(key='value')):\n",
       "      <jax.Array([0., 0., 0., 0., 0., 0., 0.], dtype=float32)>,\n",
       "  }),\n",
       "  remainder={\n",
       "    'a': 1,\n",
       "    'b': <jax.Array([0, 1, 2, 3, 4, 5, 6, 7, 8, 9], dtype=int32)>,\n",
       "    'c': [\n",
       "      {\n",
       "        'value': <jax.Array([ 0,  1,  2,  3,  4,  5,  6,  7,  8,  9, 10, 11], dtype=int32)>,\n",
       "      },\n",
       "      {'value': SelectionHole(path=(DictKey(key='c'), SequenceKey(idx=1), DictKey(key='value')))},\n",
       "      {'value': 3},\n",
       "    ],\n",
       "  },\n",
       ")"
      ]
     },
     "execution_count": 16,
     "metadata": {},
     "output_type": "execute_result"
    }
   ],
   "source": [
    "pz.select(my_nested_object).at(lambda root: root[\"c\"][1][\"value\"])"
   ]
  },
  {
   "cell_type": "code",
   "execution_count": 17,
   "metadata": {
    "execution": {
     "iopub.execute_input": "2024-04-17T19:20:17.869010Z",
     "iopub.status.busy": "2024-04-17T19:20:17.868712Z",
     "iopub.status.idle": "2024-04-17T19:20:17.888362Z",
     "shell.execute_reply": "2024-04-17T19:20:17.887406Z"
    },
    "id": "go9pWFfoGHHz"
   },
   "outputs": [
    {
     "data": {
      "text/html": [
       "<script> /* penzai.treescope rendering of a Python object (compressed) */ (()=>{ let observer; let lastStep = new Promise((resolve, reject) => { observer = new IntersectionObserver((entries) => { for (const entry of entries) { if (entry.isIntersecting) { resolve(); observer.disconnect(); return; } } }, {rootMargin: \"1000px\"}); }); window.treescope_decompress_enqueue = (encoded, destId) => { const previous = lastStep; const destElt = document.getElementById(destId); lastStep = (async () => { await previous; let blob = new Blob([ Uint8Array.from(atob(encoded), (m) => m.codePointAt(0)) ]); let reader = blob.stream().pipeThrough( new DecompressionStream(\"deflate\") ).pipeThrough( new TextDecoderStream(\"utf-8\") ).getReader(); let parts = []; while (true) { let step = await reader.read(); if (step.done) { break; } parts.push(step.value); } let newElt = document.createElement(\"div\"); newElt.innerHTML = parts.join(\"\"); destElt.parentNode.replaceChild(newElt, destElt); for (let oldScript of newElt.querySelectorAll(\"script\")) { let newScript = document.createElement(\"script\"); newScript.type = oldScript.type; newScript.textContent = oldScript.textContent; oldScript.parentNode.replaceChild(newScript, oldScript); } })(); requestAnimationFrame(() => { observer.observe(destElt); }); } })(); </script><div id=\"compress_html_406147f1d63f471aa2953a2faab41ae1\"><script>window.treescope_decompress_enqueue(\"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\", \"compress_html_406147f1d63f471aa2953a2faab41ae1\");</script><span style=\"color: #aaaaaa; font-family: monospace\">(Loading...)</span></div>"
      ],
      "text/plain": [
       "<IPython.core.display.HTML object>"
      ]
     },
     "metadata": {},
     "output_type": "display_data"
    },
    {
     "data": {
      "text/html": [
       "<div id=\"compress_html_17e9f54e53f2477d8b26fc4ea419bf07\"><script>window.treescope_decompress_enqueue(\"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\", \"compress_html_17e9f54e53f2477d8b26fc4ea419bf07\");</script></div>"
      ],
      "text/plain": [
       "<IPython.core.display.HTML object>"
      ]
     },
     "metadata": {},
     "output_type": "display_data"
    },
    {
     "data": {
      "text/html": [],
      "text/plain": [
       "Selection(\n",
       "  selected_by_path=OrderedDict({\n",
       "    (DictKey(key='b'),):\n",
       "      <jax.Array([0, 1, 2, 3, 4, 5, 6, 7, 8, 9], dtype=int32)>,\n",
       "  }),\n",
       "  remainder={\n",
       "    'a': 1,\n",
       "    'b': SelectionHole(path=(DictKey(key='b'),)),\n",
       "    'c': [\n",
       "      {\n",
       "        'value': <jax.Array([ 0,  1,  2,  3,  4,  5,  6,  7,  8,  9, 10, 11], dtype=int32)>,\n",
       "      },\n",
       "      {'value': <jax.Array([0., 0., 0., 0., 0., 0., 0.], dtype=float32)>},\n",
       "      {'value': 3},\n",
       "    ],\n",
       "  },\n",
       ")"
      ]
     },
     "execution_count": 17,
     "metadata": {},
     "output_type": "execute_result"
    }
   ],
   "source": [
    "pz.select(my_nested_object).at(lambda root: root[\"b\"])"
   ]
  },
  {
   "cell_type": "markdown",
   "metadata": {
    "id": "jBtV4TmU3_Az"
   },
   "source": [
    "Later `at` calls in a chain are relative to the currently selected part:"
   ]
  },
  {
   "cell_type": "code",
   "execution_count": 18,
   "metadata": {
    "execution": {
     "iopub.execute_input": "2024-04-17T19:20:17.892154Z",
     "iopub.status.busy": "2024-04-17T19:20:17.891921Z",
     "iopub.status.idle": "2024-04-17T19:20:17.915586Z",
     "shell.execute_reply": "2024-04-17T19:20:17.914730Z"
    },
    "id": "Z8xrYRKXMVbX"
   },
   "outputs": [
    {
     "data": {
      "text/html": [
       "<script> /* penzai.treescope rendering of a Python object (compressed) */ (()=>{ let observer; let lastStep = new Promise((resolve, reject) => { observer = new IntersectionObserver((entries) => { for (const entry of entries) { if (entry.isIntersecting) { resolve(); observer.disconnect(); return; } } }, {rootMargin: \"1000px\"}); }); window.treescope_decompress_enqueue = (encoded, destId) => { const previous = lastStep; const destElt = document.getElementById(destId); lastStep = (async () => { await previous; let blob = new Blob([ Uint8Array.from(atob(encoded), (m) => m.codePointAt(0)) ]); let reader = blob.stream().pipeThrough( new DecompressionStream(\"deflate\") ).pipeThrough( new TextDecoderStream(\"utf-8\") ).getReader(); let parts = []; while (true) { let step = await reader.read(); if (step.done) { break; } parts.push(step.value); } let newElt = document.createElement(\"div\"); newElt.innerHTML = parts.join(\"\"); destElt.parentNode.replaceChild(newElt, destElt); for (let oldScript of newElt.querySelectorAll(\"script\")) { let newScript = document.createElement(\"script\"); newScript.type = oldScript.type; newScript.textContent = oldScript.textContent; oldScript.parentNode.replaceChild(newScript, oldScript); } })(); requestAnimationFrame(() => { observer.observe(destElt); }); } })(); </script><div id=\"compress_html_973afac3d6014572a97ccd4281a56dc6\"><script>window.treescope_decompress_enqueue(\"eNrtXHtz4sgR/yqzctUiEiMjMH6AobLPyyabXJLdPK5cW9RIGtCcxYxuZgCzW/4a+Sj5K58mnyQ9IwGSEPiFX3teVx0w6unu6cevexr7TqSaRaTnKEGI9HlM+oJzhb6hmEuqKGdtJEiEFZ2QDhpwpmoDPKLRrI1GnHEZYx/WpyFVpGY+tFEsYCWiUtUM65qaxbDKOINlD/tnQ8HHLKj5POKinWztoPSTFwEB8KOBCttoQBWQMUWY6qARFkPKahEZqDZq+KGWwUgtJHQYworrtDro4mQvOc6J9AWNVQ/RAbKnlAV8ujwh6na7CFQgA2AQVOGsqxTo20VnZdnpx4QFlA1f+doyEshOv1xK9nvMgkizZOMoKqEWY/aJcwYE9pSLsyrq9kAlOLdUKOD/hCX9KLesqK8XYyIGXIww84nD+NSuGk+ALHvlCaolm05Qs6FPXGaX4vGciLChCsFcqF5mpc3nFESNBQOfIBJJslQ9HDOt+6XCZUgHSh/J7NBvLuDnqjrYc0pBfhkTqV4xOsKa4r3AI2Indq1qppe72YnHMkx807mK4eZKdBNTXMd0V1e7VHHCYNeYvCUDIgQJPpNRDKlL5GoAxZFeDLg/HkF2ObBNzD6RiPiKi1dRZFsq3ZsFhjHrS4hUq6qRQCA7IoYT4gPDUB8UXh0/wlJ+BACAU4z4hACzUh7rMsGe66r5DwT/SnRyGM4JGOTVta0k2TVLvQM+ZY/mCwLHeBcR/SlLC+8cjU1AnAgxn9J1cq7eJMIyj5eLHaNOjAW8/zMPQHUC1vLJG0i/wAYOu5pA+2mtrxQfDqMEbfsGERUoph2lV0ikdhGZAPfUFDrszGfnjMx0RlrC0vZOiTM2T/ja1oJnfwQKWnM9LhBgZAKOJwGdILOxa+Xh30IKe6AwOe9adQtxBkJBe5ahK9ffViGVc80tgOGkuBh07/t8pH1ggtCg/Q42/7RSBRLcZlzZ7RCiR1RL6FNyNh55RGQY1o+P3NbBkkCCUmyYldh0W66uFE6QJknfOC7kUZDjhA/1T1ryzDHaiCocUV9vHgA59uD4DGy7pljCoXJk/cRiQB1QCUJn86JYJEQ9FGGPRO22RyDPSEYr3/zrlMpLKmPN1aUxLaD1zlIWZaZeehHXFXatTGPyVckBFmeS4CG4n63uNt4qLIVY2j3Ds1dqh8TDfkj8MyjCVfSb6lIHvbV805w+p6FJyTaq/O/f/608pHL5TWtU/M89qKh9qMWOhdTOizkF+aJELpXbE2vSwAiqmfyX6+J7O1KXx9O4vCrFobI/oEKqPmd9HfolabUpjZxGS2dSqavQrdVPPF5UUZ8q1+eaZL5wNBSDYYO+r+vLlqIlg0MpKORE+zjybeizoXN043NTPgp6QPG7M1U8LgCPU1UCrkCoVgPtkLr+0UbhYwg1j5/3wZl9+GB8/G0d4MU40P0WYCI4loy0hPOapF/NWioNlswxNdMpVeHdct2O7XZRqSHuzDFpZRnh8+XV7AIaMhwx6FD7cPkb0HPYl9RN+pVo2xxp01w40nRskG99TzcMWMyAMLESXOnAu5JHNED+DLNCBOg4zD7M8pqDT6ZSJURGhWl6P/TgwMk+6NqgITT5Ju84ocDrZfLuMnHghCHWbc0UCwZhWDTPzmCAfbdZQhhD+/ltHtE1kV6rNQCluJAu1eqOQcblXb5truJY1IYCB1S32W6zFZDhLuICsyFBdYiBAz+Ephg+y6RtTpZQAiyrqqxg49YslkO5+WEunGlIGPSfUYRjCWBzaZd2beEbJCSgYmQYInIew41wLc029CgTkR40IVjeScpMkb8vOPnLBtrAoXhUlrv+lBNeRdhaPqnKv0tnVz6Zg9N8jlX5E6SnoDhCn2YjgAmJfkwwNKjk23+mJypRAVfceh0d1qEgSeG30VhEdqhULNt7e5pMOkOpoLHw4T4y2pN7o1SUTCSlYB3sTVx3f+/sD+/C15Of/nX4esjOPom/Tz8f/RiK4K/Tff7uY/CXD4R8+HA8OeDv5cefX4//8ZMz5YNBo4rMpEfZFfOxUt1GiICxZ95YKc5KvZ953EOQz6ys17Xmb/ua3Opcw+pgXe+MArHZAff3sSA1SZQCcIC2shLRIS6SyRHERmgKL2YKGFMMWZZKnWAQpatFlsv7Dx8/VlB9F1Wm4MoK2q/r9z/87dXbCmqY9zyWX/X78guX4rEubq4ubnN0nbcnK613ST3M2jHt2UusWX79Wu50phjKCtxLwXWL/XigcrfZ+b1xk8zCnrzIjFctBNa0a7UAK1zDDELHWLaaXdZC9OhOw31qN8MWuRIR8EsNABiC/3pHWWjwhseUBC/ymhiR6AUdxVwozFZ4e4KfGfyNZ8sL0uXWzWzL2HPRhRYHzitjntCM9sz+5Gioi7CcMR/ZiYT8vBdO8pm/0cK6KNVAr0HUGqW0SbUeeIqpQgxPIBEUFw5wjj2OReBMBVXkM9yI7CUv8ETKazkmgjJvWxl7m4kYUZ/piIBjFiO4lX3zkV5h68WuTpm6AR8fKyjstrnNlMvNGNVaKpcfutng3h30HtMIgkFxpIlfIGOaEWbQb0YzqBFSERzomPht1nbpsGs56dKhNB915SZNVi/+mvaSNpADWZ545cZjbXpeeJifsBQbGiBOIPmEsniskJ4+gnYahKGZt0qZpHgNDxOs7p3smc15uSFwEiDirK+g1yHKMrapnZFZjFXYtazet/lZ91IVMtsry+ivIM7eaCd3Kxsi2gz9qhW0SMOuZUd45AXYjCfb5r9VC5lM6VqZfAUQLqHUyF5EF6A0ntUHgPepoXuLY2zZcysWLAuhZLho9V7unDcOOzh5yWvURtdyzGkFV76UykomnVbPzfPfzZHmG0yrh8rskuv+rHvwvDnUGve//GXMVWfdnuTpjaPhqrFxe997m3xPg661GDaTA9c7PmodHruH3v7Roeft13Gwf3C432r6+KB+vAlBbgMYS6AoyXirbBYOZ4tU52d87rwSAmusVc2G7dZ3oT10HPRyqDqlhn4aIendICS9pxSS/hXgaGvRdbtydFrxNeqd3ntNMoKvHQb+7cPgu+8wjJVO618eotOYy76JY/W2x+LbGyT9BEdjcpM+pHdfuFBWfcrm1wWNVibyq6Pkwo41c9crUFlXLk5WYQht9XZQ8lsJJGhfDvmbhOeahpaLm+QoGLgEmgZ3v3l8fHQ4qB97ZODiwCX79wYKW+siGpd1Edd42eCs3UfSbSTIclox+Vm5KTIt92+1C0leLp5U+/agCH/DJu5x12r3AWu1ezNPus+1+rlWP7Za3Wy1SMtrNhvNw+Z+wyXYDZr4qNlqHHu+fxTUn1CtHkQc62p9+Osr1u4ti7X7XKwfCcQ/umJ9myLdeMAi3biZBxu/ziK9xn0LVNg45G8+TdBs3BI0G/cDmk/HnA+UcGUvX56W8R5iqHvTmPtOvnu9tN4WvnevOlj1U4CUpd+939fNp7wiF9Td2GnpvrmB5NgzntpFIR2Gkf79MBIg7PEJybbOG0JhB23kUrRxSV+/6Qb0fXzT0LM3nf+RnvH5bGUZtPh9zcLDwm+TWz19J9VJ0R8rGjn5NHhLffVHMtuq5QCWunfyBeyVymfupXq9q96Tu+fcVVh80n9Ay3yy7dCgwfkNQmPe2defw+EZJa50wbx5aDwH1XNZfS6rzzj6Kyqr7nM4PKPEoy2rt9h5yxHLgjSgk/V/orLu/xpjVxd/QPF/ACJdLQ==\", \"compress_html_973afac3d6014572a97ccd4281a56dc6\");</script><span style=\"color: #aaaaaa; font-family: monospace\">(Loading...)</span></div>"
      ],
      "text/plain": [
       "<IPython.core.display.HTML object>"
      ]
     },
     "metadata": {},
     "output_type": "display_data"
    },
    {
     "data": {
      "text/html": [
       "<div id=\"compress_html_3cb29c23d15b40cb9ef5c9220a74ba44\"><script>window.treescope_decompress_enqueue(\"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\", \"compress_html_3cb29c23d15b40cb9ef5c9220a74ba44\");</script></div>"
      ],
      "text/plain": [
       "<IPython.core.display.HTML object>"
      ]
     },
     "metadata": {},
     "output_type": "display_data"
    },
    {
     "data": {
      "text/html": [],
      "text/plain": [
       "Selection(\n",
       "  selected_by_path=OrderedDict({\n",
       "    (DictKey(key='c'), SequenceKey(idx=0), DictKey(key='value')):\n",
       "      <jax.Array([ 0,  1,  2,  3,  4,  5,  6,  7,  8,  9, 10, 11], dtype=int32)>,\n",
       "    (DictKey(key='c'), SequenceKey(idx=1), DictKey(key='value')):\n",
       "      <jax.Array([0., 0., 0., 0., 0., 0., 0.], dtype=float32)>,\n",
       "  }),\n",
       "  remainder={\n",
       "    'a': 1,\n",
       "    'b': <jax.Array([0, 1, 2, 3, 4, 5, 6, 7, 8, 9], dtype=int32)>,\n",
       "    'c': [{'value': SelectionHole(path=(DictKey(key='c'), SequenceKey(idx=0), DictKey(key='value')))}, {'value': SelectionHole(path=(DictKey(key='c'), SequenceKey(idx=1), DictKey(key='value')))}, {'value': 3}],\n",
       "  },\n",
       ")"
      ]
     },
     "execution_count": 18,
     "metadata": {},
     "output_type": "execute_result"
    }
   ],
   "source": [
    "(\n",
    "    pz.select(my_nested_object)\n",
    "    .at(lambda root: (root[\"c\"][0], root[\"c\"][1]))\n",
    "    .at(lambda subtree: subtree[\"value\"])\n",
    ")"
   ]
  },
  {
   "cell_type": "markdown",
   "metadata": {
    "id": "Dy30CsovGJz5"
   },
   "source": [
    "There are a few restrictions on the function that is used to select a subtree. In particular:\n",
    "- your function can't depend on the actual value passed in, only on its PyTree structure,\n",
    "- your function should return a single node or tuple of nodes from the PyTree.\n",
    "\n",
    "Internally, `Selection.at` is implemented using [`equinox.tree_at`](https://docs.kidger.site/equinox/api/manipulation/#equinox.tree_at), which takes care of most of the heavy lifting."
   ]
  },
  {
   "cell_type": "markdown",
   "metadata": {
    "id": "KAmBjvkVHSMg"
   },
   "source": [
    "### Selecting by type\n",
    "\n",
    "If you want to select all subtrees with a particular type, you can use `Selection.at_instances_of`:"
   ]
  },
  {
   "cell_type": "code",
   "execution_count": 19,
   "metadata": {
    "execution": {
     "iopub.execute_input": "2024-04-17T19:20:17.920139Z",
     "iopub.status.busy": "2024-04-17T19:20:17.919882Z",
     "iopub.status.idle": "2024-04-17T19:20:17.940895Z",
     "shell.execute_reply": "2024-04-17T19:20:17.940107Z"
    },
    "id": "y438yc3_HgEg"
   },
   "outputs": [
    {
     "data": {
      "text/html": [
       "<script> /* penzai.treescope rendering of a Python object (compressed) */ (()=>{ let observer; let lastStep = new Promise((resolve, reject) => { observer = new IntersectionObserver((entries) => { for (const entry of entries) { if (entry.isIntersecting) { resolve(); observer.disconnect(); return; } } }, {rootMargin: \"1000px\"}); }); window.treescope_decompress_enqueue = (encoded, destId) => { const previous = lastStep; const destElt = document.getElementById(destId); lastStep = (async () => { await previous; let blob = new Blob([ Uint8Array.from(atob(encoded), (m) => m.codePointAt(0)) ]); let reader = blob.stream().pipeThrough( new DecompressionStream(\"deflate\") ).pipeThrough( new TextDecoderStream(\"utf-8\") ).getReader(); let parts = []; while (true) { let step = await reader.read(); if (step.done) { break; } parts.push(step.value); } let newElt = document.createElement(\"div\"); newElt.innerHTML = parts.join(\"\"); destElt.parentNode.replaceChild(newElt, destElt); for (let oldScript of newElt.querySelectorAll(\"script\")) { let newScript = document.createElement(\"script\"); newScript.type = oldScript.type; newScript.textContent = oldScript.textContent; oldScript.parentNode.replaceChild(newScript, oldScript); } })(); requestAnimationFrame(() => { observer.observe(destElt); }); } })(); </script><div id=\"compress_html_4f4e39de75f743f3b86d2ae2b7678f0d\"><script>window.treescope_decompress_enqueue(\"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\", \"compress_html_4f4e39de75f743f3b86d2ae2b7678f0d\");</script><span style=\"color: #aaaaaa; font-family: monospace\">(Loading...)</span></div>"
      ],
      "text/plain": [
       "<IPython.core.display.HTML object>"
      ]
     },
     "metadata": {},
     "output_type": "display_data"
    },
    {
     "data": {
      "text/html": [
       "<div id=\"compress_html_6aa4781dba2c4fb582efd47f5282d8c7\"><script>window.treescope_decompress_enqueue(\"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\", \"compress_html_6aa4781dba2c4fb582efd47f5282d8c7\");</script></div>"
      ],
      "text/plain": [
       "<IPython.core.display.HTML object>"
      ]
     },
     "metadata": {},
     "output_type": "display_data"
    },
    {
     "data": {
      "text/html": [],
      "text/plain": [
       "Selection(\n",
       "  selected_by_path=OrderedDict({\n",
       "    (DictKey(key='a'),):\n",
       "      1,\n",
       "    (DictKey(key='c'), SequenceKey(idx=2), DictKey(key='value')):\n",
       "      3,\n",
       "  }),\n",
       "  remainder={\n",
       "    'a': SelectionHole(path=(DictKey(key='a'),)),\n",
       "    'b': <jax.Array([0, 1, 2, 3, 4, 5, 6, 7, 8, 9], dtype=int32)>,\n",
       "    'c': [{'value': <jax.Array([ 0,  1,  2,  3,  4,  5,  6,  7,  8,  9, 10, 11], dtype=int32)>}, {'value': <jax.Array([0., 0., 0., 0., 0., 0., 0.], dtype=float32)>}, {'value': SelectionHole(path=(DictKey(key='c'), SequenceKey(idx=2), DictKey(key='value')))}],\n",
       "  },\n",
       ")"
      ]
     },
     "execution_count": 19,
     "metadata": {},
     "output_type": "execute_result"
    }
   ],
   "source": [
    "pz.select(my_nested_object).at_instances_of(int)"
   ]
  },
  {
   "cell_type": "markdown",
   "metadata": {
    "id": "wIjWns9HHiXj"
   },
   "source": [
    "This selects any subtree for which `isinstance(subtree, requested_type)` evaluates to True.\n",
    "\n",
    "Note that selections cannot be nested, so this only selects the *outermost* value with the given type:"
   ]
  },
  {
   "cell_type": "code",
   "execution_count": 20,
   "metadata": {
    "execution": {
     "iopub.execute_input": "2024-04-17T19:20:17.944747Z",
     "iopub.status.busy": "2024-04-17T19:20:17.944515Z",
     "iopub.status.idle": "2024-04-17T19:20:17.962046Z",
     "shell.execute_reply": "2024-04-17T19:20:17.961283Z"
    },
    "id": "sopg1pzrH2ZX"
   },
   "outputs": [
    {
     "data": {
      "text/html": [
       "<script> /* penzai.treescope rendering of a Python object (compressed) */ (()=>{ let observer; let lastStep = new Promise((resolve, reject) => { observer = new IntersectionObserver((entries) => { for (const entry of entries) { if (entry.isIntersecting) { resolve(); observer.disconnect(); return; } } }, {rootMargin: \"1000px\"}); }); window.treescope_decompress_enqueue = (encoded, destId) => { const previous = lastStep; const destElt = document.getElementById(destId); lastStep = (async () => { await previous; let blob = new Blob([ Uint8Array.from(atob(encoded), (m) => m.codePointAt(0)) ]); let reader = blob.stream().pipeThrough( new DecompressionStream(\"deflate\") ).pipeThrough( new TextDecoderStream(\"utf-8\") ).getReader(); let parts = []; while (true) { let step = await reader.read(); if (step.done) { break; } parts.push(step.value); } let newElt = document.createElement(\"div\"); newElt.innerHTML = parts.join(\"\"); destElt.parentNode.replaceChild(newElt, destElt); for (let oldScript of newElt.querySelectorAll(\"script\")) { let newScript = document.createElement(\"script\"); newScript.type = oldScript.type; newScript.textContent = oldScript.textContent; oldScript.parentNode.replaceChild(newScript, oldScript); } })(); requestAnimationFrame(() => { observer.observe(destElt); }); } })(); </script><div id=\"compress_html_50cce356429b4bae8d1cea9ca875830d\"><script>window.treescope_decompress_enqueue(\"eNrtW/1y2soVf5WNPBNEa2QENrbBME1ykzadtLdt0o87mQyzklZoL2JXd3cBk4xfo4/Sv/o0fZKeXQmQhMAfwbGdNp4JaHW+9nz8ztl1ciHVIiYDRwlCpM8TMhScK/QFJVxSRTnrIkFirOiM9FDImWqEeELjRRdNOOMywT6szyOqSMM8dFEiYCWmUjWM6IZaJLDKOINlD/vjkeBTFjR8HnPRTVl7KHvyYiAAeTRQUReFVAEZU4SpHppgMaKsEZNQdVHLj7QORhoRoaMIVlznpIeuLo7S7VxIX9BEDRANkT2nLODz9Q5Rv99HYAIJQUBQh71uUqAvV72NZWeYEBZQNnrha89IIPv46Vqy32EWxFokm8ZxBbWYsvecMyCw51yM66g/AJNg31KhgP8dlvSrwrKivl5MiAi5mGDmE4fxuV03kQBd9sYb1EiZLlC7pXdc5Zfy9pyYsJGKwF2oWeWl3fsURE0Fg5ggEkuyNj2aMm37tcplREOlt2Q49Jcr+LmpDfaSUpBfpkSqF4xOsKZ4I/CE2Klf61ro9WF2kqmM0tj0buK4pRH91BW3cd3Nza40nDDgmpIfSEiEIMEHMkmgdIncTKAk1osB96cTqC4H2MTiPYmJr7h4Ece2pTLePDBM2VBCplp1jQQC2TExkhAPjUC9Ufh0/BhL+Q4AAHYx4TMCwiplbKsEe2mrlh8K/pno4jCSUzAommtbabFrkZoDnvJb8wWBbbyOiX7K08I3R2MTEKdKzFO2Ti7Vq1RZ7vV6sWfMSbCA73/kAZhOwFs+eQXlF9gg4VAT6DhtjZXio1Gcou3QIKICw3Sg9AqJ1SEiM5CeuUKnnXl2xmShK9ISlvZ3RpzzeSrXtlYyhxMw0FracYUAI1NwvAjoDBnGvlWEfwsp7IHB5LJvNS3EGSgF61mOrtp+W0VULi23AIbT5mLQfejziY6BSUKD9gfY/NFGlUhwl3FldyPIHlGvoM/I2XTiEZET2Dw/c086awIJRrFRXmPbPXF1p3CCrEiGJnARj4OCJHyqf7KWZ7bRRVThmPqaOQRy7MH2Gfh2S7OETRXIhqnHgDqgEpQulk2xTIgGKMYeibtdj0CdkZxVvvnTq9SXdsaGq1tj1kCbvbUuyky/9GKuO+xWncblm5oDLMaS4BGEn21ym2iVliIs7YGROaj0QxphPyL+GJpwHf2qvrZBs1YzLekLFpqS7KLaf/7579pDGldk2mLiv76BiTqGWu1USB28hFPQLyr0Urk/taYMjKKGqX+5Lb/3o3W9PY3Lm1ocKochFVINORvq1K8oq11l5LROdCVVhgp9tflpxMsm6l0V5lxTzFeOhmJwbDD0dX/ZU7bkcCgDhYJqH8e+DXM2TI5ucmnaR8kOaH73ZorHBeBxZkrAFSjVZqAD0tQ/2il8Cqnm8cshBHMIDybGX7YBXoIDPW8BJkJgyURruGxI+tmsZdpgyWxTC51TFd2v1P347hBVOuLeApN1lgm+XB/NrhxpZjGopKGnRwEsFsCa7h8OaxA3yWMaIH+BWSm2OsPyL/OylrCS60EpkWnK8+zk58FWUj6Yx2DUM5Uk77lUIJ5V+u6zJGCHEdYDyxwLBglWds9BGGLfbVcQJjBYflnmakNkB2YNLVnFZ0uNpmMwb31K75pDNhaNkcAB1QO02z4JyOgQcYHZiKAmZH7Hj2DchWeZDsTpEkohY9OUDdTbm8cK+LXczJUzjwiDyTKOcSIBRq6dv26tfIeGFC6MDkNELhM4622l2YcdVSqyjf4mu8DxNaQVLnNqf4BMFhTH6P1iAhUl0Y8pkAS14gzM9LVCXCpBt9lEp01AZSn8LpqK2I6USmT36EiTSWckFXRXH4byyZE8mmSqZKopQ6zgaOa6x0fj37+OXs5++sfpyxEbvxd/nX84+zESwZ/nx/z1u+BPbwl5+/Z81uFv5LufX07/9pMz52HYqiNz3aHsmnms1ffhTTjmLLypUpxV5kzu9QBB6rOqgc9afh1qcqt3C6+Dd70xBWLDAYfYqSANSZSCOoLZqhbTES6TyQkcxyLTfTBTIJhiSMhM6wyDKg2seSlv3r57V0PNQ1SbQyhr6Lipv//2Ly9+qKGW+c4T+Vl/rz51KJ7o7ufq5rcEomWP3pg/UxvpZ6JZzjRLwY/Z4FrhzeozyJrTmWNAYDicQehW/DhUhSPd8vC0S2eJp6gyF1ULgTftRiPACjcwg9Qxnq3nl7USfX+lkTHzmxGLXIkIxKUBWAXJf7utrCx4xRNKgmdFS4xK9IxOEi4UZhuyPcHHBqqSxfqUcL13c2w5f65GsfKt68ZdR2Tutwx/ujXUR1gumI/sVEPx0hN28oG/0sr6KLNAr0HWGqO0S7UdeI6pQgzPoBAUFw5ITjyOReDMBVXkAxwL7LUsiEQma31XAh3RtnL+NtdCRH2gEwKBWd1DbfAt77VKrFeHumSaBnx8rKAH2makr9abc6q1Nq5482RDeA/QG0xjSAbFkSZ+hoxrJphNcRwvoH1IRXCgc+LXed9lNz7r6x6dSsv7nsJ1izVIPmdjlw3kQFYk3hj7rV3vSy+jRUIEYNp4qKA9E1V6XbyFKI8GQJwi9gVlyVQhfUMHxmuMhoHXqhSSwTm8TKF8cHFkmOEzk5XXXzU8l0zcOA5sTrslji2j4Q2oSiSFhr7BXpiTrcEBSq9ESdBdRrH4cUvl9xeadUh2ZorJ5saYLBKsor5lDb6sNrQZydoar2qIs1e6LPu1HRhk7irrNbQCzr5lx3jiBdjcqnbN33ULGWzrWzmEhbZZQal7cbkfAKWpRb0B+J45eFdc7rPW8nei1uD5wWXrtIfTj6JFXXSrwHys4dqnSl3pBa01cIvyDzeTfDU9WwNU5ZcdlXA/kTeb2hL+579Muept40nf3jkbbpobXx97b1fsadC3VnfkoX9MOj5pn56cnh17rdBrt1rE9UmnQ4h33G7uQo79AEUVdldd4cPeYtX7GV86L4TAujuqdst2m4cw0DsOej5SvUpHP42U9O6Qkt5TSkn/BnB0D9l1O7TzNdp9/Oa9yCi+dfj9rw//3vrTY5sojHc+Nj89xGSx1H2XgGq2xxLTOxT5DMdTcuPe47XO2ifNptcJO8Ex9s681vlZu0XOz078oHl2jB9972ld13t2dZXDR9J50qz7WDOxq901a9f8e+1I6cfVk2rlD1r9d2zojxO/3QfEb/duEXT/h/D7vBOe+fBwetLEx53jjtcOzs/9ZruNz0/cgJw+XvwOY441gp9+LwDufiWAu/8H8EdS/t8VgLceEMBbd4tg6/sG8FuGb4UKOy8B208TNFtfCZqtbwOaT8edD1RwVR+fnpbzHuLyZ2fO3fzjQZ33TX6Lc+22S79zrTtYDTMolZW/d73Nr07337tL5u6cyfTc7CI59UykDlFER1Gs/20QCRD2+IzkR+cdqXCAdkop+7hirt/1G9OnfXc5sHfte88jhF1fzeIFn9fvWPLl3F+RBnS2/d+NbPv/TMa6lOe/vuMNZg==\", \"compress_html_50cce356429b4bae8d1cea9ca875830d\");</script><span style=\"color: #aaaaaa; font-family: monospace\">(Loading...)</span></div>"
      ],
      "text/plain": [
       "<IPython.core.display.HTML object>"
      ]
     },
     "metadata": {},
     "output_type": "display_data"
    },
    {
     "data": {
      "text/html": [
       "<div id=\"compress_html_3c8c4010ceaf4aef9d3ed5b399bb230c\"><script>window.treescope_decompress_enqueue(\"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\", \"compress_html_3c8c4010ceaf4aef9d3ed5b399bb230c\");</script></div>"
      ],
      "text/plain": [
       "<IPython.core.display.HTML object>"
      ]
     },
     "metadata": {},
     "output_type": "display_data"
    },
    {
     "data": {
      "text/html": [],
      "text/plain": [
       "Selection(\n",
       "  selected_by_path=OrderedDict({\n",
       "    (): {\n",
       "      'a': 1,\n",
       "      'b': <jax.Array([0, 1, 2, 3, 4, 5, 6, 7, 8, 9], dtype=int32)>,\n",
       "      'c': [\n",
       "        {\n",
       "          'value': <jax.Array([ 0,  1,  2,  3,  4,  5,  6,  7,  8,  9, 10, 11], dtype=int32)>,\n",
       "        },\n",
       "        {\n",
       "          'value': <jax.Array([0., 0., 0., 0., 0., 0., 0.], dtype=float32)>,\n",
       "        },\n",
       "        {'value': 3},\n",
       "      ],\n",
       "    },\n",
       "  }),\n",
       "  remainder=SelectionHole(path=()),\n",
       ")"
      ]
     },
     "execution_count": 20,
     "metadata": {},
     "output_type": "execute_result"
    }
   ],
   "source": [
    "pz.select(my_nested_object).at_instances_of(dict)"
   ]
  },
  {
   "cell_type": "markdown",
   "metadata": {
    "id": "R-Qm4rBaHkNW"
   },
   "source": [
    "### Selecting by condition\n",
    "More generally, you can select all subtrees for which a function evaluates to true:"
   ]
  },
  {
   "cell_type": "code",
   "execution_count": 21,
   "metadata": {
    "execution": {
     "iopub.execute_input": "2024-04-17T19:20:17.965883Z",
     "iopub.status.busy": "2024-04-17T19:20:17.965565Z",
     "iopub.status.idle": "2024-04-17T19:20:17.987616Z",
     "shell.execute_reply": "2024-04-17T19:20:17.986804Z"
    },
    "id": "yK6nvVfWH-Jh"
   },
   "outputs": [
    {
     "data": {
      "text/html": [
       "<script> /* penzai.treescope rendering of a Python object (compressed) */ (()=>{ let observer; let lastStep = new Promise((resolve, reject) => { observer = new IntersectionObserver((entries) => { for (const entry of entries) { if (entry.isIntersecting) { resolve(); observer.disconnect(); return; } } }, {rootMargin: \"1000px\"}); }); window.treescope_decompress_enqueue = (encoded, destId) => { const previous = lastStep; const destElt = document.getElementById(destId); lastStep = (async () => { await previous; let blob = new Blob([ Uint8Array.from(atob(encoded), (m) => m.codePointAt(0)) ]); let reader = blob.stream().pipeThrough( new DecompressionStream(\"deflate\") ).pipeThrough( new TextDecoderStream(\"utf-8\") ).getReader(); let parts = []; while (true) { let step = await reader.read(); if (step.done) { break; } parts.push(step.value); } let newElt = document.createElement(\"div\"); newElt.innerHTML = parts.join(\"\"); destElt.parentNode.replaceChild(newElt, destElt); for (let oldScript of newElt.querySelectorAll(\"script\")) { let newScript = document.createElement(\"script\"); newScript.type = oldScript.type; newScript.textContent = oldScript.textContent; oldScript.parentNode.replaceChild(newScript, oldScript); } })(); requestAnimationFrame(() => { observer.observe(destElt); }); } })(); </script><div id=\"compress_html_ea62791a2c8a40bf8f62ba8afc71c805\"><script>window.treescope_decompress_enqueue(\"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\", \"compress_html_ea62791a2c8a40bf8f62ba8afc71c805\");</script><span style=\"color: #aaaaaa; font-family: monospace\">(Loading...)</span></div>"
      ],
      "text/plain": [
       "<IPython.core.display.HTML object>"
      ]
     },
     "metadata": {},
     "output_type": "display_data"
    },
    {
     "data": {
      "text/html": [
       "<div id=\"compress_html_6bd26ff830864a96865a307d2244ce46\"><script>window.treescope_decompress_enqueue(\"eNrtWm1zmzgQ/is7dK6BFlNjYwfs2DN37X3ol364uW+dDiMkYbjIiAM5L9fJf78V+A3bcZw0TeeuZCa2QbvSavfZXT02Fyy9glLdCj4xWFrmgtyOIJMZNyBlEyOWRch4zIuCs5DFJCBuLxi4AfU8QnzW7Z4Pg3PmD4fEjYkxvShzkuGrnm/qRFIpORdpxkeZVKYTS8FIJHiYScZHCSnNqSARF9PmSKjkbCZqnRFNOL3kzLLgjQVfISeMpdmso2Q+gq7jDvh8DHqFTsLTWaJG4DrVvTuHSoHGkygq+BVqVpcjeDX0e6Tb3QhQOZ/zTIXXCc9CfoP2M86ezd7VqqT6W6+KztRGbwQiQejlGCJ8nRVykbHOcuCKFGanEwlJL+tbFkrJgvGi9oGb30ApRcqOSdaBeEj4DpzkNucFWnYZFnwuFQ8TecUL2DV630x5KWhi+t4vOijeANxuUM94TcqwpIUUAtWVdOK0KFWoUnp58qyB57h63m4Abn/onB+cuPL+0eWsvQVVQbIyVanMRnuLg1sCJyXvpFlHLpQNscxU57oC2c6YjmpCkxCxT3koeKy2gKovNVIHNGnKFdVMG8Gihu9aslREAymkSSpYwbO18XVMYQpNkWeD7LoKVOgYw5wUM9xovRFKBDV7NIEOWurRpI7FA7Z+N9OW8K5Nq4FdWXUQ3o3SUe0DfS0SeAOmi9vZVlnOW6IUtyxr7YONaud03dW6qySsNNdTru52lrdf0JubMlJ5sFMQli7K5QZdPsfd3b+xytJvM+JBiH9tVLo6vrqEnVDpjgvfOTjjd+lLmyAfaU0X7+oGWXVLoIKU5cSo+k9VgFSR5stWuurMjQ1gO2GR7w3I+FBocO2x0Zy6sQtIy7CuijKrCiEK17u9SLN8oUBhD5gY1f4ieWMcnGTpClR9Vyk119t0EYUg58oARhTpXPLbnKhkYuyY16jKy8BAs6Aap/hqOfj3goiMzHmYFzxOb4xpzrN/SOqogvOSypwjzHK0pMT2FhMhdOV3MCTVyaV++yTVH6vZc71pszl+8W7psa11z/Ss0QLDn52BzN4L7DmTs82iCR4s0HtaKqR60FRJWlpntW/07YlhCjKPGIFCSoSLfrWMDQTWgiM4OyB5NoalDMkQoqTua2fvUQG03/Hz+oDW3M2293ZzEpo5aRyR3hOV2NPSjAg8TOTF5FEQcRq6hwATlhidbGZMX7+66Z2Pfy0Kcmt+7trg2tCzoW+DZ8PAhqEN5zb4NgRfbGAVuNNM9XtWrdd0hb0PM1xMkLzkzJjCIYc1zo3GC0Ci6ZrTAbKj93S4nAie++GAxOKJYEjZQShki3mkV3C7Xa/v+7477Pu9rv9fjm3KnhJZ1PqBca2S64mR1brH2tbzd6kj9M84CoNXB7Gy13b+IjertlIVpyO94xjQjBTvZWqrJB8dN6bPF4BtBo11VqhxNQB15dT7qzZWX76eqfERCP3AVNI7e0oyVXrPlU6nptqOn+zWlye5rXGG3HzvBDt825haj4sEmnnvQXM/PdYp8biDyH7mrN5YejW9eMQ3dDwIaOANYtanfc8LYsL8yKNdnwfE7xHX23xD912Yhzt+2RLeEo2WaPwgogGY4DrDdYrrHNdJrrNcp7nOc53oEGAR0IXAbanHz0I9egOv1/Nb6tFSj5Z6tNSjpR4t9Xhx6vFtR5PnIyPEdymP47jvM88b+jSiXtfjA8r9oBf3h+Q7k5H2Z5CWnfy0P4M4Nhz+X6d7LCRpucj/mov4w6E7GLZcpOUiLRdpuUjLRVou8vI/gzziIPIA8ygprq2mpmnBZApfqcxKrH9VOn9kJUzgs3H6k8o2GKf/aLIt/CCp+TJGEgSm4ApSNKo7xreLjZ2O4NlMJXj37Vv94JiWqwdRmEm60GXYwcvfBdcff7v9yMy19uf0izWudEq5KCj/gGzsfrWKjhnwFnb060snJ1hF1SfsEA4ehQSi470uneZ66vrp2eWM1Zi91MVJNlL6UeErblaPBN5Z+h0DVwdrFbRrrM7yeot78OzvBV/wD0u3/snnaIDipWmtdf8FCF5ckg==\", \"compress_html_6bd26ff830864a96865a307d2244ce46\");</script></div>"
      ],
      "text/plain": [
       "<IPython.core.display.HTML object>"
      ]
     },
     "metadata": {},
     "output_type": "display_data"
    },
    {
     "data": {
      "text/html": [],
      "text/plain": [
       "Selection(\n",
       "  selected_by_path=OrderedDict({\n",
       "    (DictKey(key='b'),):\n",
       "      <jax.Array([0, 1, 2, 3, 4, 5, 6, 7, 8, 9], dtype=int32)>,\n",
       "    (DictKey(key='c'), SequenceKey(idx=1), DictKey(key='value')):\n",
       "      <jax.Array([0., 0., 0., 0., 0., 0., 0.], dtype=float32)>,\n",
       "  }),\n",
       "  remainder={\n",
       "    'a': 1,\n",
       "    'b': SelectionHole(path=(DictKey(key='b'),)),\n",
       "    'c': [{'value': <jax.Array([ 0,  1,  2,  3,  4,  5,  6,  7,  8,  9, 10, 11], dtype=int32)>}, {'value': SelectionHole(path=(DictKey(key='c'), SequenceKey(idx=1), DictKey(key='value')))}, {'value': 3}],\n",
       "  },\n",
       ")"
      ]
     },
     "execution_count": 21,
     "metadata": {},
     "output_type": "execute_result"
    }
   ],
   "source": [
    "(\n",
    "    pz.select(my_nested_object)\n",
    "    .at_subtrees_where(\n",
    "        lambda subtree: isinstance(subtree, jax.Array) and subtree.size <= 10)\n",
    ")"
   ]
  },
  {
   "cell_type": "markdown",
   "metadata": {
    "id": "Hz97YScaHmyC"
   },
   "source": [
    "In fact, `at_instances_of` is a thin wrapper around `at_subtrees_where`. There's another convenience method for finding values equal to a sentinel value:"
   ]
  },
  {
   "cell_type": "code",
   "execution_count": 22,
   "metadata": {
    "execution": {
     "iopub.execute_input": "2024-04-17T19:20:17.991921Z",
     "iopub.status.busy": "2024-04-17T19:20:17.991709Z",
     "iopub.status.idle": "2024-04-17T19:20:18.009808Z",
     "shell.execute_reply": "2024-04-17T19:20:18.009025Z"
    },
    "id": "LKwjwL8CJjur"
   },
   "outputs": [
    {
     "data": {
      "text/html": [
       "<script> /* penzai.treescope rendering of a Python object (compressed) */ (()=>{ let observer; let lastStep = new Promise((resolve, reject) => { observer = new IntersectionObserver((entries) => { for (const entry of entries) { if (entry.isIntersecting) { resolve(); observer.disconnect(); return; } } }, {rootMargin: \"1000px\"}); }); window.treescope_decompress_enqueue = (encoded, destId) => { const previous = lastStep; const destElt = document.getElementById(destId); lastStep = (async () => { await previous; let blob = new Blob([ Uint8Array.from(atob(encoded), (m) => m.codePointAt(0)) ]); let reader = blob.stream().pipeThrough( new DecompressionStream(\"deflate\") ).pipeThrough( new TextDecoderStream(\"utf-8\") ).getReader(); let parts = []; while (true) { let step = await reader.read(); if (step.done) { break; } parts.push(step.value); } let newElt = document.createElement(\"div\"); newElt.innerHTML = parts.join(\"\"); destElt.parentNode.replaceChild(newElt, destElt); for (let oldScript of newElt.querySelectorAll(\"script\")) { let newScript = document.createElement(\"script\"); newScript.type = oldScript.type; newScript.textContent = oldScript.textContent; oldScript.parentNode.replaceChild(newScript, oldScript); } })(); requestAnimationFrame(() => { observer.observe(destElt); }); } })(); </script><div id=\"compress_html_2176d66c73104462ac74c94790c41e43\"><script>window.treescope_decompress_enqueue(\"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\", \"compress_html_2176d66c73104462ac74c94790c41e43\");</script><span style=\"color: #aaaaaa; font-family: monospace\">(Loading...)</span></div>"
      ],
      "text/plain": [
       "<IPython.core.display.HTML object>"
      ]
     },
     "metadata": {},
     "output_type": "display_data"
    },
    {
     "data": {
      "text/html": [
       "<div id=\"compress_html_520eefda3df0477892982cc2f8e3fb13\"><script>window.treescope_decompress_enqueue(\"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\", \"compress_html_520eefda3df0477892982cc2f8e3fb13\");</script></div>"
      ],
      "text/plain": [
       "<IPython.core.display.HTML object>"
      ]
     },
     "metadata": {},
     "output_type": "display_data"
    },
    {
     "data": {
      "text/html": [],
      "text/plain": [
       "Selection(\n",
       "  selected_by_path=OrderedDict({(DictKey(key='a'),): 1}),\n",
       "  remainder={\n",
       "    'a': SelectionHole(path=(DictKey(key='a'),)),\n",
       "    'b': <jax.Array([0, 1, 2, 3, 4, 5, 6, 7, 8, 9], dtype=int32)>,\n",
       "    'c': [\n",
       "      {\n",
       "        'value': <jax.Array([ 0,  1,  2,  3,  4,  5,  6,  7,  8,  9, 10, 11], dtype=int32)>,\n",
       "      },\n",
       "      {\n",
       "        'value': <jax.Array([0., 0., 0., 0., 0., 0., 0.], dtype=float32)>,\n",
       "      },\n",
       "      {'value': 3},\n",
       "    ],\n",
       "  },\n",
       ")"
      ]
     },
     "execution_count": 22,
     "metadata": {},
     "output_type": "execute_result"
    }
   ],
   "source": [
    "(\n",
    "    pz.select(my_nested_object)\n",
    "    .at_equal_to(1)\n",
    ")"
   ]
  },
  {
   "cell_type": "code",
   "execution_count": 23,
   "metadata": {
    "execution": {
     "iopub.execute_input": "2024-04-17T19:20:18.013245Z",
     "iopub.status.busy": "2024-04-17T19:20:18.013012Z",
     "iopub.status.idle": "2024-04-17T19:20:18.023128Z",
     "shell.execute_reply": "2024-04-17T19:20:18.022359Z"
    },
    "id": "lNlmgOXZIW8O"
   },
   "outputs": [
    {
     "data": {
      "text/html": [
       "<script> /* penzai.treescope rendering of a Python object (compressed) */ (()=>{ let observer; let lastStep = new Promise((resolve, reject) => { observer = new IntersectionObserver((entries) => { for (const entry of entries) { if (entry.isIntersecting) { resolve(); observer.disconnect(); return; } } }, {rootMargin: \"1000px\"}); }); window.treescope_decompress_enqueue = (encoded, destId) => { const previous = lastStep; const destElt = document.getElementById(destId); lastStep = (async () => { await previous; let blob = new Blob([ Uint8Array.from(atob(encoded), (m) => m.codePointAt(0)) ]); let reader = blob.stream().pipeThrough( new DecompressionStream(\"deflate\") ).pipeThrough( new TextDecoderStream(\"utf-8\") ).getReader(); let parts = []; while (true) { let step = await reader.read(); if (step.done) { break; } parts.push(step.value); } let newElt = document.createElement(\"div\"); newElt.innerHTML = parts.join(\"\"); destElt.parentNode.replaceChild(newElt, destElt); for (let oldScript of newElt.querySelectorAll(\"script\")) { let newScript = document.createElement(\"script\"); newScript.type = oldScript.type; newScript.textContent = oldScript.textContent; oldScript.parentNode.replaceChild(newScript, oldScript); } })(); requestAnimationFrame(() => { observer.observe(destElt); }); } })(); </script><div id=\"compress_html_e05ea84775bb415c8607fa988fc12894\"><script>window.treescope_decompress_enqueue(\"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\", \"compress_html_e05ea84775bb415c8607fa988fc12894\");</script><span style=\"color: #aaaaaa; font-family: monospace\">(Loading...)</span></div>"
      ],
      "text/plain": [
       "<IPython.core.display.HTML object>"
      ]
     },
     "metadata": {},
     "output_type": "display_data"
    },
    {
     "data": {
      "text/html": [],
      "text/plain": [
       "Selection(\n",
       "  selected_by_path=OrderedDict({(DictKey(key='bar'),): [1, 2, 3]}),\n",
       "  remainder={\n",
       "    'bar': SelectionHole(path=(DictKey(key='bar'),)),\n",
       "    'foo': 'foo',\n",
       "  },\n",
       ")"
      ]
     },
     "execution_count": 23,
     "metadata": {},
     "output_type": "execute_result"
    }
   ],
   "source": [
    "(\n",
    "    pz.select({\"foo\": \"foo\", \"bar\": [1, 2, 3]}).at_equal_to([1, 2, 3])\n",
    ")"
   ]
  },
  {
   "cell_type": "markdown",
   "metadata": {
    "id": "1GZV7CkULrZ_"
   },
   "source": [
    "### Selecting by JAX keypath"
   ]
  },
  {
   "cell_type": "markdown",
   "metadata": {
    "id": "nJSlyPdGLvNE"
   },
   "source": [
    "PyTree nodes in JAX are associated with key paths identifying their location in the tree:"
   ]
  },
  {
   "cell_type": "code",
   "execution_count": 24,
   "metadata": {
    "execution": {
     "iopub.execute_input": "2024-04-17T19:20:18.026755Z",
     "iopub.status.busy": "2024-04-17T19:20:18.026501Z",
     "iopub.status.idle": "2024-04-17T19:20:18.038494Z",
     "shell.execute_reply": "2024-04-17T19:20:18.037719Z"
    },
    "id": "9nX57pMUL72X"
   },
   "outputs": [
    {
     "data": {
      "text/html": [
       "<script> /* penzai.treescope rendering of a Python object (compressed) */ (()=>{ let observer; let lastStep = new Promise((resolve, reject) => { observer = new IntersectionObserver((entries) => { for (const entry of entries) { if (entry.isIntersecting) { resolve(); observer.disconnect(); return; } } }, {rootMargin: \"1000px\"}); }); window.treescope_decompress_enqueue = (encoded, destId) => { const previous = lastStep; const destElt = document.getElementById(destId); lastStep = (async () => { await previous; let blob = new Blob([ Uint8Array.from(atob(encoded), (m) => m.codePointAt(0)) ]); let reader = blob.stream().pipeThrough( new DecompressionStream(\"deflate\") ).pipeThrough( new TextDecoderStream(\"utf-8\") ).getReader(); let parts = []; while (true) { let step = await reader.read(); if (step.done) { break; } parts.push(step.value); } let newElt = document.createElement(\"div\"); newElt.innerHTML = parts.join(\"\"); destElt.parentNode.replaceChild(newElt, destElt); for (let oldScript of newElt.querySelectorAll(\"script\")) { let newScript = document.createElement(\"script\"); newScript.type = oldScript.type; newScript.textContent = oldScript.textContent; oldScript.parentNode.replaceChild(newScript, oldScript); } })(); requestAnimationFrame(() => { observer.observe(destElt); }); } })(); </script><div id=\"compress_html_404a22d4c0374a4999b5064d51673b1a\"><script>window.treescope_decompress_enqueue(\"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\", \"compress_html_404a22d4c0374a4999b5064d51673b1a\");</script><span style=\"color: #aaaaaa; font-family: monospace\">(Loading...)</span></div>"
      ],
      "text/plain": [
       "<IPython.core.display.HTML object>"
      ]
     },
     "metadata": {},
     "output_type": "display_data"
    },
    {
     "data": {
      "text/html": [],
      "text/plain": [
       "{'a': (DictKey(key='a'),),\n",
       " 'b': (DictKey(key='b'),),\n",
       " 'c': [{'value': (DictKey(key='c'), SequenceKey(idx=0), DictKey(key='value'))},\n",
       "  {'value': (DictKey(key='c'), SequenceKey(idx=1), DictKey(key='value'))},\n",
       "  {'value': (DictKey(key='c'), SequenceKey(idx=2), DictKey(key='value'))}]}"
      ]
     },
     "execution_count": 24,
     "metadata": {},
     "output_type": "execute_result"
    }
   ],
   "source": [
    "jax.tree_util.tree_map_with_path(lambda key, node: key, my_nested_object)"
   ]
  },
  {
   "cell_type": "markdown",
   "metadata": {
    "id": "BzUbLkQ5MFTG"
   },
   "source": [
    "You can directly select nodes based on their JAX keypath:"
   ]
  },
  {
   "cell_type": "code",
   "execution_count": 25,
   "metadata": {
    "execution": {
     "iopub.execute_input": "2024-04-17T19:20:18.042073Z",
     "iopub.status.busy": "2024-04-17T19:20:18.041842Z",
     "iopub.status.idle": "2024-04-17T19:20:18.063356Z",
     "shell.execute_reply": "2024-04-17T19:20:18.062695Z"
    },
    "id": "YQZQ9MVwMw0h"
   },
   "outputs": [
    {
     "data": {
      "text/html": [
       "<script> /* penzai.treescope rendering of a Python object (compressed) */ (()=>{ let observer; let lastStep = new Promise((resolve, reject) => { observer = new IntersectionObserver((entries) => { for (const entry of entries) { if (entry.isIntersecting) { resolve(); observer.disconnect(); return; } } }, {rootMargin: \"1000px\"}); }); window.treescope_decompress_enqueue = (encoded, destId) => { const previous = lastStep; const destElt = document.getElementById(destId); lastStep = (async () => { await previous; let blob = new Blob([ Uint8Array.from(atob(encoded), (m) => m.codePointAt(0)) ]); let reader = blob.stream().pipeThrough( new DecompressionStream(\"deflate\") ).pipeThrough( new TextDecoderStream(\"utf-8\") ).getReader(); let parts = []; while (true) { let step = await reader.read(); if (step.done) { break; } parts.push(step.value); } let newElt = document.createElement(\"div\"); newElt.innerHTML = parts.join(\"\"); destElt.parentNode.replaceChild(newElt, destElt); for (let oldScript of newElt.querySelectorAll(\"script\")) { let newScript = document.createElement(\"script\"); newScript.type = oldScript.type; newScript.textContent = oldScript.textContent; oldScript.parentNode.replaceChild(newScript, oldScript); } })(); requestAnimationFrame(() => { observer.observe(destElt); }); } })(); </script><div id=\"compress_html_d2e7ec645f714d66b3589778d82a7885\"><script>window.treescope_decompress_enqueue(\"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\", \"compress_html_d2e7ec645f714d66b3589778d82a7885\");</script><span style=\"color: #aaaaaa; font-family: monospace\">(Loading...)</span></div>"
      ],
      "text/plain": [
       "<IPython.core.display.HTML object>"
      ]
     },
     "metadata": {},
     "output_type": "display_data"
    },
    {
     "data": {
      "text/html": [
       "<div id=\"compress_html_e8f18841bfa7454daf24c07e5d86a74c\"><script>window.treescope_decompress_enqueue(\"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\", \"compress_html_e8f18841bfa7454daf24c07e5d86a74c\");</script></div>"
      ],
      "text/plain": [
       "<IPython.core.display.HTML object>"
      ]
     },
     "metadata": {},
     "output_type": "display_data"
    },
    {
     "data": {
      "text/html": [],
      "text/plain": [
       "Selection(\n",
       "  selected_by_path=OrderedDict({\n",
       "    (DictKey(key='c'), SequenceKey(idx=0)):\n",
       "      {\n",
       "        'value': <jax.Array([ 0,  1,  2,  3,  4,  5,  6,  7,  8,  9, 10, 11], dtype=int32)>,\n",
       "      },\n",
       "    (DictKey(key='c'), SequenceKey(idx=2), DictKey(key='value')):\n",
       "      3,\n",
       "  }),\n",
       "  remainder={\n",
       "    'a': 1,\n",
       "    'b': <jax.Array([0, 1, 2, 3, 4, 5, 6, 7, 8, 9], dtype=int32)>,\n",
       "    'c': [SelectionHole(path=(DictKey(key='c'), SequenceKey(idx=0))), {'value': <jax.Array([0., 0., 0., 0., 0., 0., 0.], dtype=float32)>}, {'value': SelectionHole(path=(DictKey(key='c'), SequenceKey(idx=2), DictKey(key='value')))}],\n",
       "  },\n",
       ")"
      ]
     },
     "execution_count": 25,
     "metadata": {},
     "output_type": "execute_result"
    }
   ],
   "source": [
    "pz.select(my_nested_object).at_keypaths([\n",
    "    (jax.tree_util.DictKey(key='c'), jax.tree_util.SequenceKey(idx=2), jax.tree_util.DictKey(key='value')),\n",
    "    (jax.tree_util.DictKey(key='c'), jax.tree_util.SequenceKey(idx=0)),\n",
    "])"
   ]
  },
  {
   "cell_type": "markdown",
   "metadata": {
    "id": "vyDFHhwNNI2y"
   },
   "source": [
    "(You might have noticed that the fancy rendering for Selection objects is actually written in terms of `at_keypaths`, and exposes the keypaths for the currently selected nodes if you expand the last line!)"
   ]
  },
  {
   "cell_type": "markdown",
   "metadata": {
    "id": "j8rujhAbOOKR"
   },
   "source": [
    "### Selecting based on PyTree structure\n",
    "\n",
    "You can also build selections based on PyTree children or PyTree leaves:"
   ]
  },
  {
   "cell_type": "code",
   "execution_count": 26,
   "metadata": {
    "execution": {
     "iopub.execute_input": "2024-04-17T19:20:18.066961Z",
     "iopub.status.busy": "2024-04-17T19:20:18.066754Z",
     "iopub.status.idle": "2024-04-17T19:20:18.086543Z",
     "shell.execute_reply": "2024-04-17T19:20:18.085839Z"
    },
    "id": "ZBZnh09wOdJz"
   },
   "outputs": [
    {
     "data": {
      "text/html": [
       "<script> /* penzai.treescope rendering of a Python object (compressed) */ (()=>{ let observer; let lastStep = new Promise((resolve, reject) => { observer = new IntersectionObserver((entries) => { for (const entry of entries) { if (entry.isIntersecting) { resolve(); observer.disconnect(); return; } } }, {rootMargin: \"1000px\"}); }); window.treescope_decompress_enqueue = (encoded, destId) => { const previous = lastStep; const destElt = document.getElementById(destId); lastStep = (async () => { await previous; let blob = new Blob([ Uint8Array.from(atob(encoded), (m) => m.codePointAt(0)) ]); let reader = blob.stream().pipeThrough( new DecompressionStream(\"deflate\") ).pipeThrough( new TextDecoderStream(\"utf-8\") ).getReader(); let parts = []; while (true) { let step = await reader.read(); if (step.done) { break; } parts.push(step.value); } let newElt = document.createElement(\"div\"); newElt.innerHTML = parts.join(\"\"); destElt.parentNode.replaceChild(newElt, destElt); for (let oldScript of newElt.querySelectorAll(\"script\")) { let newScript = document.createElement(\"script\"); newScript.type = oldScript.type; newScript.textContent = oldScript.textContent; oldScript.parentNode.replaceChild(newScript, oldScript); } })(); requestAnimationFrame(() => { observer.observe(destElt); }); } })(); </script><div id=\"compress_html_808d5ff4f9d04148970594cced5172d9\"><script>window.treescope_decompress_enqueue(\"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\", \"compress_html_808d5ff4f9d04148970594cced5172d9\");</script><span style=\"color: #aaaaaa; font-family: monospace\">(Loading...)</span></div>"
      ],
      "text/plain": [
       "<IPython.core.display.HTML object>"
      ]
     },
     "metadata": {},
     "output_type": "display_data"
    },
    {
     "data": {
      "text/html": [
       "<div id=\"compress_html_79b32d3d7e12475699a10e9a204004a5\"><script>window.treescope_decompress_enqueue(\"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\", \"compress_html_79b32d3d7e12475699a10e9a204004a5\");</script></div>"
      ],
      "text/plain": [
       "<IPython.core.display.HTML object>"
      ]
     },
     "metadata": {},
     "output_type": "display_data"
    },
    {
     "data": {
      "text/html": [],
      "text/plain": [
       "Selection(\n",
       "  selected_by_path=OrderedDict({\n",
       "    (DictKey(key='a'),):\n",
       "      1,\n",
       "    (DictKey(key='b'),):\n",
       "      <jax.Array([0, 1, 2, 3, 4, 5, 6, 7, 8, 9], dtype=int32)>,\n",
       "    (DictKey(key='c'),):\n",
       "      [{'value': <jax.Array([ 0,  1,  2,  3,  4,  5,  6,  7,  8,  9, 10, 11], dtype=int32)>}, {'value': <jax.Array([0., 0., 0., 0., 0., 0., 0.], dtype=float32)>}, {'value': 3}],\n",
       "  }),\n",
       "  remainder={'a': SelectionHole(path=(DictKey(key='a'),)), 'b': SelectionHole(path=(DictKey(key='b'),)), 'c': SelectionHole(path=(DictKey(key='c'),))},\n",
       ")"
      ]
     },
     "execution_count": 26,
     "metadata": {},
     "output_type": "execute_result"
    }
   ],
   "source": [
    "pz.select(my_nested_object).at_children()"
   ]
  },
  {
   "cell_type": "code",
   "execution_count": 27,
   "metadata": {
    "execution": {
     "iopub.execute_input": "2024-04-17T19:20:18.089928Z",
     "iopub.status.busy": "2024-04-17T19:20:18.089723Z",
     "iopub.status.idle": "2024-04-17T19:20:18.115878Z",
     "shell.execute_reply": "2024-04-17T19:20:18.115152Z"
    },
    "id": "cGcp4EK2OfW1"
   },
   "outputs": [
    {
     "data": {
      "text/html": [
       "<script> /* penzai.treescope rendering of a Python object (compressed) */ (()=>{ let observer; let lastStep = new Promise((resolve, reject) => { observer = new IntersectionObserver((entries) => { for (const entry of entries) { if (entry.isIntersecting) { resolve(); observer.disconnect(); return; } } }, {rootMargin: \"1000px\"}); }); window.treescope_decompress_enqueue = (encoded, destId) => { const previous = lastStep; const destElt = document.getElementById(destId); lastStep = (async () => { await previous; let blob = new Blob([ Uint8Array.from(atob(encoded), (m) => m.codePointAt(0)) ]); let reader = blob.stream().pipeThrough( new DecompressionStream(\"deflate\") ).pipeThrough( new TextDecoderStream(\"utf-8\") ).getReader(); let parts = []; while (true) { let step = await reader.read(); if (step.done) { break; } parts.push(step.value); } let newElt = document.createElement(\"div\"); newElt.innerHTML = parts.join(\"\"); destElt.parentNode.replaceChild(newElt, destElt); for (let oldScript of newElt.querySelectorAll(\"script\")) { let newScript = document.createElement(\"script\"); newScript.type = oldScript.type; newScript.textContent = oldScript.textContent; oldScript.parentNode.replaceChild(newScript, oldScript); } })(); requestAnimationFrame(() => { observer.observe(destElt); }); } })(); </script><div id=\"compress_html_a11c874a363b4f8eaa9b202355f0158a\"><script>window.treescope_decompress_enqueue(\"eNrtHOty2sr5VTbyTBCtkREYG4NhmuScnKZNe9omvZzJZJiVtEJ7LHZ1Vosxyfg1+ij91afpk/TblQBJCHzD8eXIzARp9e13vy6E01jOQzK0pCAkdnlERoJzib6iiMdUUs56SJAQS3pO+sjnTDZ8PKHhvIcmnPE4wi6szwIqSUPf9FAkYCWksWxo1A05j2CVcQbLDnbPxoJPmddwechFL9naR+mdEwIA4KOeDHrIpxLAmCRM9tEEizFljZD4sodabqBoMNIICB0HsGJbnT66PD1IxDmNXUEjOUTUR+aMMo/PVhKiwWCAgAXiAwKvDrKuQ6Cvl/21ZWsUEeZRNn7lKs3EAPbp85Vgv8fMCxVKNg3DEmgxZR84ZwBgzrg4q6PBEFgCuWOJPP5PWFKPcsuSumoxIsLnYoKZSyzGZ2ZdWwJomWtPUCPZdIraLSVxmV6K4lkhYWMZgLpQs0xL2+UURE4FA5sgEsZkxXowZYr3K4nHAfWlEknvUBeX8LouD+YCUpBfpiSWrxidYAXxVuAJMRO91hXSq81sRdM4SGzTv47iFkwMElXcRHXXZ7uUccJg15R8R3wiBPE+kkkEoUvidQeKQrXocXc6geiyYJuYfyAhcSUXr8LQNGS6N5sYpmwUg6cadZUJBDJDojEh7muESlB4t9wQx/F7SAAgxYSfE0BWimNTJJgLXhV+X/AvRAWHxpwkgzy7ppEEu0KpdsBdVjRXEBDj+5CouywsXFkqNwFwQkTfpevkQr5JiGUerxb7mp0IC7j+M/eAdQLacskbCD/PBAz7CkDZaaOtJB+PwyTbjnRGlMCYMpRaIaHcR+QcsKeqUG6n760zMlcRaQhD6TsFzug8wWsaS5yjCTBoLPi4RJAjk+R46tFzpDcOjHz6N5DEDjBMLgZG00CcAVHgnmXgyvk3ZUDjBecGpOGkuOjsPnL5RNlAO6HO9ntY/ymmCiC4x7g0ewF4j6iXwKfgbDpxiMggbJ507c7RCiAGptg4S7Ftd2xVKSwvDZKRNlzAQy+HCR+rV1rytBg9RCUOqas2+wCOHRCfgW43FEsQKgc2SjQG0B6Ngeh8URSLgGiIQuyQsNdzCMQZyXDl6r9+Kb2kMjZsVRrTAtrsr2hRpuulE3JVYTfS1Cpfp+xhcRYTPAbzs/Xd2lqFpQDH5lDjHJbqIbGwGxD3DIpwHf2mvuJBbS3ftIDPcahDsodq//v3f2sPyVx+0wYW//MNWFQ2VGSnIlbGizgF+qKELo13R1aHgSbU0PEfb/Lv3VBdiafy8joVi8Yjn4pYjjgbKdcvCattYWS1OiqSSk2F7sx+YvEii0qqXJ+rg/nSUqkYFOuNXFVfduQtmTyUJoUcaReHrgl9NnSOdnShy0eBDyh+98aKwwXk45QVj0sgqthAe6SpXkopfAqu5vCLERhzBDfaxl83JbwIe6rfgpwIhiUTReGiEdMvei2lBktaTIV0RmVwv1h3o7t9VKqIezNMWlkm+GI1ml1CQ4ZDBh3qCIY/n17AvqRu0i9E6aarVHNpxbpjg3gbOaphwGIOgImWYKQD68Y8pB5y55gVPED5YfZhFtci+WQqVQKkWZil86EDAif7oGuDhlDHW3zPAQVWL6N3n4EDEgZYtTUzLBi4YVE9e76PXbtdAhhB+/l14dENkY7VKgGleSFdajQtnRlXs3xPj+JYNMYCe1S12Xa745HxPuICszFBTfCBIzeAphju46RtTpZQkljWWVnLjTvTWC7LLYS5tGYBYdB/hiGOYkg2V3ZpNya+hUKSVDQNDUQuIpgIN8Lsgo8yEqmgCcBqJilTRX5esPLDBtqCoSgqy40/5YDXIbYRT8ry79KzK5csktPiHKv2JwhPQXGIPswnkCZi9GOSQ71avv1n6kQlLOQVu9lEx00oSLFwe2gqQjOQMop7BwcKLLbGsYTGwoV5ZHIQH0xSUnFCKU3W3sG5bR8enP3h++D1+U//On49ZmcfxN9nH7s/BsL76+yQf//e+8s7Qt69Ozk/4m/j9z+/nv7jJ2vGfb9VR/qkR5o1fVur78JFQNlzZyolZ6XWzzweIohnVtbrGovLkQI3+jfQOmjXOaMArHfA/D4VpBETKSE5QFtZC+kYF8HiCfhGoAsvZhIQUwxRllI9x0BKVYsslrfv3r+voeY+qs3AlDV02FTXP/zt1Xc11NLXPIq/qOvygUvySBU3WxW3RXZdtCdrrXdJPczqMe3ZS7RZPn6tdlozDGUF5lIw3XI/9mVuml3MjdtoFvbkSWasaiDQptloeFjiBmbgOlqz9eyyIqKO7lS6T/Wm0SI7RgTs0oAEDM5/M1GWHLzhESXeizwnmiR6QScRFxKzNdyO4Gc6/0bz1YB0tXYz2zL6XHahxQPntWOeQB/t6f2JaGiAcDxnLjITCvnzXpDkI3+jiA1QyoFaA6/VTCmVKj7wDFOJGD6HQJBcWIA5cjgWnjUTVJKPMBGZK1xgiRTX6pgIyrxpZPStT8SI/EgnBAyzPIJb27c40itsvdxXIdPUycfFEgq7qaeZcroZpRor5vKHbiaYdw+9xTQEZ5AcKeAXSKtmghn0m+EcakQsCfaUT/w2q7v0sGt10qVcaXHUlTtpMobRl7SXNAEcwPLAaxOPse154WH+hKXY0ABwkpJPKYumEqnTR+BOJWFo5o1SJGm+hodJrh6eHujNeboBYBJA4mwkodch0tC6aZyReYRlMDCM4deFrAcpC5nttZX31xBnb5SRB7UtHq0P/eo1tAzDgWGGeOJ4WB9P9vS/dQPpSBkYmXiFJFwCqTJ7MbsApLasEgCuU0UPl2Ls2HJrGixzoeRw0Ri+3LtoHfdx8pbnqIdugjZn6t26R4mdjbK5scDR2iS8PsIVdmyYd64BVQDJdalr23PDnzHcQ8mnAcTrFVyixDOuQfyqCPpUw7XPpU6RHEkbQ7ucj6vf9te1sJwZjCEqE2iLqu4nmLX4GyL65S9TLvub9iRPbx3g1w33u4ezU4XzMwhn6g2M5Qc93Xbb77pdz24TfOh23O5x0znpHB8ednCz6+LDb1a9t9ux7IMp8MpQ9n/GF9YrIbBqfGS7ZdrNfZjVLAu9HMv+bfPNk0o7zi3SjvOU0o57jbRzj3nlZjXQVTXw0zdvJTXhG7uBe3c3ePaDgdbSp+bnhxgQFrRvY1i17bHY9hZBf47DKan6jefWb9g27ti46x0dtb1D77B5ctQlbvcQH/p+t3PS6T69fqO1u35jm7H2H0m3kWSWTzUdn7XbZqbV/p12Icnb5ZNq3x40w9+yiXvctdp+wFpt386SdlWrq1r92Gr1iX/kHR+dYMdvnxwen7hO1z0+OXI73knb9k6O20+oVvshx6paH//6irV9x2JtV8X6kaT4Z1msWw9YrFu3s2SrKtZVsX5Kn8slTrtM41s/o2s/93rYumM9bH2bevh01PlAObTs7fPTUt5DnNff1ueeybdhrsxchW9C1S0sR2kqjUu/DfWt6mR5k1Vgd2sTrUaiDoqnjrbUPgroOAjVN3aJh7DDz0l2KtriCntoK5aijkuq+bZ6+Tw+RBqa2+R/pDJWspVF0PIb9IWHhf/fYwzVcYMKitFU0tDKh8F31JV/JPOdag7S0uBevqF3rfKZe6svp/gNy9ca7h/PZFtFwq8uEpwqEqpIqCJh0/et7hIJz9Tl78ktPqifuWEu2bVrUO/iFq6xOBdqVu5QZYlrnSPf3jUqp6rKalVWqzz6KyqrduUOVZaoympVVquAqcpqVVZ3VVZblTtUWeLRltU77Lzjp9lLUI+eb/59lk0/mWzWl78e8n/Eb0Du\", \"compress_html_a11c874a363b4f8eaa9b202355f0158a\");</script><span style=\"color: #aaaaaa; font-family: monospace\">(Loading...)</span></div>"
      ],
      "text/plain": [
       "<IPython.core.display.HTML object>"
      ]
     },
     "metadata": {},
     "output_type": "display_data"
    },
    {
     "data": {
      "text/html": [
       "<div id=\"compress_html_0d1e9c45da2e4111a527b8e21ecc4719\"><script>window.treescope_decompress_enqueue(\"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\", \"compress_html_0d1e9c45da2e4111a527b8e21ecc4719\");</script></div>"
      ],
      "text/plain": [
       "<IPython.core.display.HTML object>"
      ]
     },
     "metadata": {},
     "output_type": "display_data"
    },
    {
     "data": {
      "text/html": [],
      "text/plain": [
       "Selection(\n",
       "  selected_by_path=OrderedDict({(DictKey(key='a'),): 1, (DictKey(key='b'),): <jax.Array([0, 1, 2, 3, 4, 5, 6, 7, 8, 9], dtype=int32)>, (DictKey(key='c'), SequenceKey(idx=0), DictKey(key='value')): <jax.Array([ 0,  1,  2,  3,  4,  5,  6,  7,  8,  9, 10, 11], dtype=int32)>, (DictKey(key='c'), SequenceKey(idx=1), DictKey(key='value')): <jax.Array([0., 0., 0., 0., 0., 0., 0.], dtype=float32)>, (DictKey(key='c'), SequenceKey(idx=2), DictKey(key='value')): 3}),\n",
       "  remainder={\n",
       "    'a': SelectionHole(path=(DictKey(key='a'),)),\n",
       "    'b': SelectionHole(path=(DictKey(key='b'),)),\n",
       "    'c': [\n",
       "      {\n",
       "        'value': SelectionHole(\n",
       "          path=(DictKey(key='c'), SequenceKey(idx=0), DictKey(key='value')),\n",
       "        ),\n",
       "      },\n",
       "      {\n",
       "        'value': SelectionHole(path=(DictKey(key='c'), SequenceKey(idx=1), DictKey(key='value'))),\n",
       "      },\n",
       "      {\n",
       "        'value': SelectionHole(path=(DictKey(key='c'), SequenceKey(idx=2), DictKey(key='value'))),\n",
       "      },\n",
       "    ],\n",
       "  },\n",
       ")"
      ]
     },
     "execution_count": 27,
     "metadata": {},
     "output_type": "execute_result"
    }
   ],
   "source": [
    "pz.select(my_nested_object).at_pytree_leaves()"
   ]
  },
  {
   "cell_type": "markdown",
   "metadata": {
    "id": "L88O37NHOyrP"
   },
   "source": [
    "Note that some PyTree nodes, like `None` or the empty tuple `()`, don't have any children and are ignored by `jax.tree_util.tree_map`, so they won't be selected by `.at_pytree_leaves`:"
   ]
  },
  {
   "cell_type": "code",
   "execution_count": 28,
   "metadata": {
    "execution": {
     "iopub.execute_input": "2024-04-17T19:20:18.119155Z",
     "iopub.status.busy": "2024-04-17T19:20:18.118931Z",
     "iopub.status.idle": "2024-04-17T19:20:18.132226Z",
     "shell.execute_reply": "2024-04-17T19:20:18.131434Z"
    },
    "id": "-wD3VJajO6TR"
   },
   "outputs": [
    {
     "data": {
      "text/html": [
       "<script> /* penzai.treescope rendering of a Python object (compressed) */ (()=>{ let observer; let lastStep = new Promise((resolve, reject) => { observer = new IntersectionObserver((entries) => { for (const entry of entries) { if (entry.isIntersecting) { resolve(); observer.disconnect(); return; } } }, {rootMargin: \"1000px\"}); }); window.treescope_decompress_enqueue = (encoded, destId) => { const previous = lastStep; const destElt = document.getElementById(destId); lastStep = (async () => { await previous; let blob = new Blob([ Uint8Array.from(atob(encoded), (m) => m.codePointAt(0)) ]); let reader = blob.stream().pipeThrough( new DecompressionStream(\"deflate\") ).pipeThrough( new TextDecoderStream(\"utf-8\") ).getReader(); let parts = []; while (true) { let step = await reader.read(); if (step.done) { break; } parts.push(step.value); } let newElt = document.createElement(\"div\"); newElt.innerHTML = parts.join(\"\"); destElt.parentNode.replaceChild(newElt, destElt); for (let oldScript of newElt.querySelectorAll(\"script\")) { let newScript = document.createElement(\"script\"); newScript.type = oldScript.type; newScript.textContent = oldScript.textContent; oldScript.parentNode.replaceChild(newScript, oldScript); } })(); requestAnimationFrame(() => { observer.observe(destElt); }); } })(); </script><div id=\"compress_html_b06303a803c84176a7da4f74b543b030\"><script>window.treescope_decompress_enqueue(\"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\", \"compress_html_b06303a803c84176a7da4f74b543b030\");</script><span style=\"color: #aaaaaa; font-family: monospace\">(Loading...)</span></div>"
      ],
      "text/plain": [
       "<IPython.core.display.HTML object>"
      ]
     },
     "metadata": {},
     "output_type": "display_data"
    },
    {
     "data": {
      "text/html": [],
      "text/plain": [
       "Selection(\n",
       "  selected_by_path=OrderedDict({(SequenceKey(idx=0),): 1, (SequenceKey(idx=1),): 2, (SequenceKey(idx=3),): 3, (SequenceKey(idx=5),): 4}),\n",
       "  remainder=[\n",
       "    SelectionHole(path=(SequenceKey(idx=0),)),\n",
       "    SelectionHole(path=(SequenceKey(idx=1),)),\n",
       "    (),\n",
       "    SelectionHole(path=(SequenceKey(idx=3),)),\n",
       "    None,\n",
       "    SelectionHole(path=(SequenceKey(idx=5),)),\n",
       "  ],\n",
       ")"
      ]
     },
     "execution_count": 28,
     "metadata": {},
     "output_type": "execute_result"
    }
   ],
   "source": [
    "pz.select([1, 2, (), 3, None, 4]).at_pytree_leaves()"
   ]
  },
  {
   "cell_type": "markdown",
   "metadata": {
    "id": "_afpL4O8O_VZ"
   },
   "source": [
    "If you want to select these too, you can use `.at_childless`:"
   ]
  },
  {
   "cell_type": "code",
   "execution_count": 29,
   "metadata": {
    "execution": {
     "iopub.execute_input": "2024-04-17T19:20:18.135679Z",
     "iopub.status.busy": "2024-04-17T19:20:18.135410Z",
     "iopub.status.idle": "2024-04-17T19:20:18.151415Z",
     "shell.execute_reply": "2024-04-17T19:20:18.150684Z"
    },
    "id": "byvIxqOZPDD6"
   },
   "outputs": [
    {
     "data": {
      "text/html": [
       "<script> /* penzai.treescope rendering of a Python object (compressed) */ (()=>{ let observer; let lastStep = new Promise((resolve, reject) => { observer = new IntersectionObserver((entries) => { for (const entry of entries) { if (entry.isIntersecting) { resolve(); observer.disconnect(); return; } } }, {rootMargin: \"1000px\"}); }); window.treescope_decompress_enqueue = (encoded, destId) => { const previous = lastStep; const destElt = document.getElementById(destId); lastStep = (async () => { await previous; let blob = new Blob([ Uint8Array.from(atob(encoded), (m) => m.codePointAt(0)) ]); let reader = blob.stream().pipeThrough( new DecompressionStream(\"deflate\") ).pipeThrough( new TextDecoderStream(\"utf-8\") ).getReader(); let parts = []; while (true) { let step = await reader.read(); if (step.done) { break; } parts.push(step.value); } let newElt = document.createElement(\"div\"); newElt.innerHTML = parts.join(\"\"); destElt.parentNode.replaceChild(newElt, destElt); for (let oldScript of newElt.querySelectorAll(\"script\")) { let newScript = document.createElement(\"script\"); newScript.type = oldScript.type; newScript.textContent = oldScript.textContent; oldScript.parentNode.replaceChild(newScript, oldScript); } })(); requestAnimationFrame(() => { observer.observe(destElt); }); } })(); </script><div id=\"compress_html_15296d385c824126ad3828b2126a4f41\"><script>window.treescope_decompress_enqueue(\"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\", \"compress_html_15296d385c824126ad3828b2126a4f41\");</script><span style=\"color: #aaaaaa; font-family: monospace\">(Loading...)</span></div>"
      ],
      "text/plain": [
       "<IPython.core.display.HTML object>"
      ]
     },
     "metadata": {},
     "output_type": "display_data"
    },
    {
     "data": {
      "text/html": [],
      "text/plain": [
       "Selection(\n",
       "  selected_by_path=OrderedDict({(SequenceKey(idx=0),): 1, (SequenceKey(idx=1),): 2, (SequenceKey(idx=2),): (), (SequenceKey(idx=3),): 3, (SequenceKey(idx=4),): None, (SequenceKey(idx=5),): 4}),\n",
       "  remainder=[\n",
       "    SelectionHole(path=(SequenceKey(idx=0),)),\n",
       "    SelectionHole(path=(SequenceKey(idx=1),)),\n",
       "    SelectionHole(path=(SequenceKey(idx=2),)),\n",
       "    SelectionHole(path=(SequenceKey(idx=3),)),\n",
       "    SelectionHole(path=(SequenceKey(idx=4),)),\n",
       "    SelectionHole(path=(SequenceKey(idx=5),)),\n",
       "  ],\n",
       ")"
      ]
     },
     "execution_count": 29,
     "metadata": {},
     "output_type": "execute_result"
    }
   ],
   "source": [
    "pz.select([1, 2, (), 3, None, 4]).at_childless()"
   ]
  },
  {
   "cell_type": "markdown",
   "metadata": {
    "id": "3y9uooSkPKoU"
   },
   "source": [
    "### Filtering selections\n",
    "Given an existing set of selected nodes, you can choose to filter down to only a subset that match a criterion:"
   ]
  },
  {
   "cell_type": "code",
   "execution_count": 30,
   "metadata": {
    "execution": {
     "iopub.execute_input": "2024-04-17T19:20:18.155229Z",
     "iopub.status.busy": "2024-04-17T19:20:18.155021Z",
     "iopub.status.idle": "2024-04-17T19:20:18.178267Z",
     "shell.execute_reply": "2024-04-17T19:20:18.177694Z"
    },
    "id": "Uk1-HVvKPOq6"
   },
   "outputs": [
    {
     "data": {
      "text/html": [
       "<script> /* penzai.treescope rendering of a Python object (compressed) */ (()=>{ let observer; let lastStep = new Promise((resolve, reject) => { observer = new IntersectionObserver((entries) => { for (const entry of entries) { if (entry.isIntersecting) { resolve(); observer.disconnect(); return; } } }, {rootMargin: \"1000px\"}); }); window.treescope_decompress_enqueue = (encoded, destId) => { const previous = lastStep; const destElt = document.getElementById(destId); lastStep = (async () => { await previous; let blob = new Blob([ Uint8Array.from(atob(encoded), (m) => m.codePointAt(0)) ]); let reader = blob.stream().pipeThrough( new DecompressionStream(\"deflate\") ).pipeThrough( new TextDecoderStream(\"utf-8\") ).getReader(); let parts = []; while (true) { let step = await reader.read(); if (step.done) { break; } parts.push(step.value); } let newElt = document.createElement(\"div\"); newElt.innerHTML = parts.join(\"\"); destElt.parentNode.replaceChild(newElt, destElt); for (let oldScript of newElt.querySelectorAll(\"script\")) { let newScript = document.createElement(\"script\"); newScript.type = oldScript.type; newScript.textContent = oldScript.textContent; oldScript.parentNode.replaceChild(newScript, oldScript); } })(); requestAnimationFrame(() => { observer.observe(destElt); }); } })(); </script><div id=\"compress_html_3582045a925445c9822726518e26f78e\"><script>window.treescope_decompress_enqueue(\"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\", \"compress_html_3582045a925445c9822726518e26f78e\");</script><span style=\"color: #aaaaaa; font-family: monospace\">(Loading...)</span></div>"
      ],
      "text/plain": [
       "<IPython.core.display.HTML object>"
      ]
     },
     "metadata": {},
     "output_type": "display_data"
    },
    {
     "data": {
      "text/html": [],
      "text/plain": [
       "Selection(\n",
       "  selected_by_path=OrderedDict({(SequenceKey(idx=0),): 0, (SequenceKey(idx=2),): 2, (SequenceKey(idx=4),): 4, (SequenceKey(idx=6),): 6, (SequenceKey(idx=8),): 8, (SequenceKey(idx=10),): 10, (SequenceKey(idx=12),): 12, (SequenceKey(idx=14),): 14, (SequenceKey(idx=16),): 16, (SequenceKey(idx=18),): 18}),\n",
       "  remainder=[SelectionHole(path=(SequenceKey(idx=0),)), 1, SelectionHole(path=(SequenceKey(idx=2),)), 3, SelectionHole(path=(SequenceKey(idx=4),)), 5, SelectionHole(path=(SequenceKey(idx=6),)), 7, SelectionHole(path=(SequenceKey(idx=8),)), 9, SelectionHole(path=(SequenceKey(idx=10),)), 11, SelectionHole(path=(SequenceKey(idx=12),)), 13, SelectionHole(path=(SequenceKey(idx=14),)), 15, SelectionHole(path=(SequenceKey(idx=16),)), 17, SelectionHole(path=(SequenceKey(idx=18),)), 19],\n",
       ")"
      ]
     },
     "execution_count": 30,
     "metadata": {},
     "output_type": "execute_result"
    }
   ],
   "source": [
    "pz.select(list(range(20))).at_instances_of(int).where(lambda x: x % 2 == 0)"
   ]
  },
  {
   "cell_type": "markdown",
   "metadata": {
    "id": "2Ae_LP3BdpGG"
   },
   "source": [
    "You can also choose to keep only the `n`th node that you've selected (e.g. the third integer in the collection), zero-indexed:"
   ]
  },
  {
   "cell_type": "code",
   "execution_count": 31,
   "metadata": {
    "execution": {
     "iopub.execute_input": "2024-04-17T19:20:18.181983Z",
     "iopub.status.busy": "2024-04-17T19:20:18.181777Z",
     "iopub.status.idle": "2024-04-17T19:20:18.191833Z",
     "shell.execute_reply": "2024-04-17T19:20:18.191053Z"
    },
    "id": "zkisw9V-eNaa"
   },
   "outputs": [
    {
     "data": {
      "text/html": [
       "<script> /* penzai.treescope rendering of a Python object (compressed) */ (()=>{ let observer; let lastStep = new Promise((resolve, reject) => { observer = new IntersectionObserver((entries) => { for (const entry of entries) { if (entry.isIntersecting) { resolve(); observer.disconnect(); return; } } }, {rootMargin: \"1000px\"}); }); window.treescope_decompress_enqueue = (encoded, destId) => { const previous = lastStep; const destElt = document.getElementById(destId); lastStep = (async () => { await previous; let blob = new Blob([ Uint8Array.from(atob(encoded), (m) => m.codePointAt(0)) ]); let reader = blob.stream().pipeThrough( new DecompressionStream(\"deflate\") ).pipeThrough( new TextDecoderStream(\"utf-8\") ).getReader(); let parts = []; while (true) { let step = await reader.read(); if (step.done) { break; } parts.push(step.value); } let newElt = document.createElement(\"div\"); newElt.innerHTML = parts.join(\"\"); destElt.parentNode.replaceChild(newElt, destElt); for (let oldScript of newElt.querySelectorAll(\"script\")) { let newScript = document.createElement(\"script\"); newScript.type = oldScript.type; newScript.textContent = oldScript.textContent; oldScript.parentNode.replaceChild(newScript, oldScript); } })(); requestAnimationFrame(() => { observer.observe(destElt); }); } })(); </script><div id=\"compress_html_1ab65a99d4764273bc7b02ce67dd79c3\"><script>window.treescope_decompress_enqueue(\"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\", \"compress_html_1ab65a99d4764273bc7b02ce67dd79c3\");</script><span style=\"color: #aaaaaa; font-family: monospace\">(Loading...)</span></div>"
      ],
      "text/plain": [
       "<IPython.core.display.HTML object>"
      ]
     },
     "metadata": {},
     "output_type": "display_data"
    },
    {
     "data": {
      "text/html": [],
      "text/plain": [
       "Selection(\n",
       "  selected_by_path=OrderedDict({(SequenceKey(idx=4),): 3}),\n",
       "  remainder=[\n",
       "    1,\n",
       "    'a',\n",
       "    2,\n",
       "    'b',\n",
       "    SelectionHole(path=(SequenceKey(idx=4),)),\n",
       "    'c',\n",
       "    4,\n",
       "    'd',\n",
       "  ],\n",
       ")"
      ]
     },
     "execution_count": 31,
     "metadata": {},
     "output_type": "execute_result"
    }
   ],
   "source": [
    "pz.select([1, \"a\", 2, \"b\", 3, \"c\", 4, \"d\"]).at_instances_of(int).pick_nth_selected(2)"
   ]
  },
  {
   "cell_type": "markdown",
   "metadata": {
    "id": "VK7GeXc6ka0s"
   },
   "source": [
    "### Inverting selections\n",
    "Selections can be inverted, which produces a new Selection which selects every PyTree node that did NOT contain any of the selected nodes:"
   ]
  },
  {
   "cell_type": "code",
   "execution_count": 32,
   "metadata": {
    "execution": {
     "iopub.execute_input": "2024-04-17T19:20:18.195494Z",
     "iopub.status.busy": "2024-04-17T19:20:18.195212Z",
     "iopub.status.idle": "2024-04-17T19:20:18.209924Z",
     "shell.execute_reply": "2024-04-17T19:20:18.209145Z"
    },
    "id": "CF1rqre8klTc"
   },
   "outputs": [
    {
     "name": "stdout",
     "output_type": "stream",
     "text": [
      "Original:\n"
     ]
    },
    {
     "data": {
      "text/html": [
       "<script> /* penzai.treescope rendering of a Python object (compressed) */ (()=>{ let observer; let lastStep = new Promise((resolve, reject) => { observer = new IntersectionObserver((entries) => { for (const entry of entries) { if (entry.isIntersecting) { resolve(); observer.disconnect(); return; } } }, {rootMargin: \"1000px\"}); }); window.treescope_decompress_enqueue = (encoded, destId) => { const previous = lastStep; const destElt = document.getElementById(destId); lastStep = (async () => { await previous; let blob = new Blob([ Uint8Array.from(atob(encoded), (m) => m.codePointAt(0)) ]); let reader = blob.stream().pipeThrough( new DecompressionStream(\"deflate\") ).pipeThrough( new TextDecoderStream(\"utf-8\") ).getReader(); let parts = []; while (true) { let step = await reader.read(); if (step.done) { break; } parts.push(step.value); } let newElt = document.createElement(\"div\"); newElt.innerHTML = parts.join(\"\"); destElt.parentNode.replaceChild(newElt, destElt); for (let oldScript of newElt.querySelectorAll(\"script\")) { let newScript = document.createElement(\"script\"); newScript.type = oldScript.type; newScript.textContent = oldScript.textContent; oldScript.parentNode.replaceChild(newScript, oldScript); } })(); requestAnimationFrame(() => { observer.observe(destElt); }); } })(); </script><div id=\"compress_html_5585934c401a48f7a780a3d1f32bfd01\"><script>window.treescope_decompress_enqueue(\"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\", \"compress_html_5585934c401a48f7a780a3d1f32bfd01\");</script><span style=\"color: #aaaaaa; font-family: monospace\">(Loading...)</span></div>"
      ],
      "text/plain": [
       "<IPython.core.display.HTML object>"
      ]
     },
     "metadata": {},
     "output_type": "display_data"
    },
    {
     "name": "stdout",
     "output_type": "stream",
     "text": [
      "Inverted:\n"
     ]
    },
    {
     "data": {
      "text/html": [
       "<script> /* penzai.treescope rendering of a Python object (compressed) */ (()=>{ let observer; let lastStep = new Promise((resolve, reject) => { observer = new IntersectionObserver((entries) => { for (const entry of entries) { if (entry.isIntersecting) { resolve(); observer.disconnect(); return; } } }, {rootMargin: \"1000px\"}); }); window.treescope_decompress_enqueue = (encoded, destId) => { const previous = lastStep; const destElt = document.getElementById(destId); lastStep = (async () => { await previous; let blob = new Blob([ Uint8Array.from(atob(encoded), (m) => m.codePointAt(0)) ]); let reader = blob.stream().pipeThrough( new DecompressionStream(\"deflate\") ).pipeThrough( new TextDecoderStream(\"utf-8\") ).getReader(); let parts = []; while (true) { let step = await reader.read(); if (step.done) { break; } parts.push(step.value); } let newElt = document.createElement(\"div\"); newElt.innerHTML = parts.join(\"\"); destElt.parentNode.replaceChild(newElt, destElt); for (let oldScript of newElt.querySelectorAll(\"script\")) { let newScript = document.createElement(\"script\"); newScript.type = oldScript.type; newScript.textContent = oldScript.textContent; oldScript.parentNode.replaceChild(newScript, oldScript); } })(); requestAnimationFrame(() => { observer.observe(destElt); }); } })(); </script><div id=\"compress_html_6a1b1d11d68d4bf8852735a0ed99f9b4\"><script>window.treescope_decompress_enqueue(\"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\", \"compress_html_6a1b1d11d68d4bf8852735a0ed99f9b4\");</script><span style=\"color: #aaaaaa; font-family: monospace\">(Loading...)</span></div>"
      ],
      "text/plain": [
       "<IPython.core.display.HTML object>"
      ]
     },
     "metadata": {},
     "output_type": "display_data"
    }
   ],
   "source": [
    "selection = pz.select([1, \"a\", 2, \"b\", 3, \"c\", 4, \"d\"]).at_instances_of(int).pick_nth_selected(2)\n",
    "\n",
    "print(\"Original:\")\n",
    "selection.show_selection()\n",
    "print(\"Inverted:\")\n",
    "selection.invert().show_selection()"
   ]
  },
  {
   "cell_type": "code",
   "execution_count": 33,
   "metadata": {
    "execution": {
     "iopub.execute_input": "2024-04-17T19:20:18.213343Z",
     "iopub.status.busy": "2024-04-17T19:20:18.213095Z",
     "iopub.status.idle": "2024-04-17T19:20:18.239141Z",
     "shell.execute_reply": "2024-04-17T19:20:18.238303Z"
    },
    "id": "HaLCG89dknQg"
   },
   "outputs": [
    {
     "name": "stdout",
     "output_type": "stream",
     "text": [
      "Original:\n"
     ]
    },
    {
     "data": {
      "text/html": [
       "<script> /* penzai.treescope rendering of a Python object (compressed) */ (()=>{ let observer; let lastStep = new Promise((resolve, reject) => { observer = new IntersectionObserver((entries) => { for (const entry of entries) { if (entry.isIntersecting) { resolve(); observer.disconnect(); return; } } }, {rootMargin: \"1000px\"}); }); window.treescope_decompress_enqueue = (encoded, destId) => { const previous = lastStep; const destElt = document.getElementById(destId); lastStep = (async () => { await previous; let blob = new Blob([ Uint8Array.from(atob(encoded), (m) => m.codePointAt(0)) ]); let reader = blob.stream().pipeThrough( new DecompressionStream(\"deflate\") ).pipeThrough( new TextDecoderStream(\"utf-8\") ).getReader(); let parts = []; while (true) { let step = await reader.read(); if (step.done) { break; } parts.push(step.value); } let newElt = document.createElement(\"div\"); newElt.innerHTML = parts.join(\"\"); destElt.parentNode.replaceChild(newElt, destElt); for (let oldScript of newElt.querySelectorAll(\"script\")) { let newScript = document.createElement(\"script\"); newScript.type = oldScript.type; newScript.textContent = oldScript.textContent; oldScript.parentNode.replaceChild(newScript, oldScript); } })(); requestAnimationFrame(() => { observer.observe(destElt); }); } })(); </script><div id=\"compress_html_c296c340b4ce454587fecb7701a41526\"><script>window.treescope_decompress_enqueue(\"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\", \"compress_html_c296c340b4ce454587fecb7701a41526\");</script><span style=\"color: #aaaaaa; font-family: monospace\">(Loading...)</span></div>"
      ],
      "text/plain": [
       "<IPython.core.display.HTML object>"
      ]
     },
     "metadata": {},
     "output_type": "display_data"
    },
    {
     "data": {
      "text/html": [
       "<div id=\"compress_html_678baeb78f754f98af0783da116b6a66\"><script>window.treescope_decompress_enqueue(\"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\", \"compress_html_678baeb78f754f98af0783da116b6a66\");</script></div>"
      ],
      "text/plain": [
       "<IPython.core.display.HTML object>"
      ]
     },
     "metadata": {},
     "output_type": "display_data"
    },
    {
     "name": "stdout",
     "output_type": "stream",
     "text": [
      "Inverted:\n"
     ]
    },
    {
     "data": {
      "text/html": [
       "<script> /* penzai.treescope rendering of a Python object (compressed) */ (()=>{ let observer; let lastStep = new Promise((resolve, reject) => { observer = new IntersectionObserver((entries) => { for (const entry of entries) { if (entry.isIntersecting) { resolve(); observer.disconnect(); return; } } }, {rootMargin: \"1000px\"}); }); window.treescope_decompress_enqueue = (encoded, destId) => { const previous = lastStep; const destElt = document.getElementById(destId); lastStep = (async () => { await previous; let blob = new Blob([ Uint8Array.from(atob(encoded), (m) => m.codePointAt(0)) ]); let reader = blob.stream().pipeThrough( new DecompressionStream(\"deflate\") ).pipeThrough( new TextDecoderStream(\"utf-8\") ).getReader(); let parts = []; while (true) { let step = await reader.read(); if (step.done) { break; } parts.push(step.value); } let newElt = document.createElement(\"div\"); newElt.innerHTML = parts.join(\"\"); destElt.parentNode.replaceChild(newElt, destElt); for (let oldScript of newElt.querySelectorAll(\"script\")) { let newScript = document.createElement(\"script\"); newScript.type = oldScript.type; newScript.textContent = oldScript.textContent; oldScript.parentNode.replaceChild(newScript, oldScript); } })(); requestAnimationFrame(() => { observer.observe(destElt); }); } })(); </script><div id=\"compress_html_f2d14b234f2d41beb2ab3e86aab08cac\"><script>window.treescope_decompress_enqueue(\"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\", \"compress_html_f2d14b234f2d41beb2ab3e86aab08cac\");</script><span style=\"color: #aaaaaa; font-family: monospace\">(Loading...)</span></div>"
      ],
      "text/plain": [
       "<IPython.core.display.HTML object>"
      ]
     },
     "metadata": {},
     "output_type": "display_data"
    },
    {
     "data": {
      "text/html": [
       "<div id=\"compress_html_7a7f239ae9c34d69a756af4533f14fb3\"><script>window.treescope_decompress_enqueue(\"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\", \"compress_html_7a7f239ae9c34d69a756af4533f14fb3\");</script></div>"
      ],
      "text/plain": [
       "<IPython.core.display.HTML object>"
      ]
     },
     "metadata": {},
     "output_type": "display_data"
    }
   ],
   "source": [
    "selection = pz.select(my_nested_object).at_keypaths([\n",
    "    (jax.tree_util.DictKey(key='c'), jax.tree_util.SequenceKey(idx=2), jax.tree_util.DictKey(key='value')),\n",
    "    (jax.tree_util.DictKey(key='c'), jax.tree_util.SequenceKey(idx=0)),\n",
    "])\n",
    "\n",
    "print(\"Original:\")\n",
    "selection.show_selection()\n",
    "print(\"Inverted:\")\n",
    "selection.invert().show_selection()"
   ]
  },
  {
   "cell_type": "markdown",
   "metadata": {
    "id": "-6RVyMq6NY6r"
   },
   "source": [
    "### Building more complex selections\n",
    "For highly dynamic selections, you can drop down to lower-level manipulation.\n",
    "\n",
    "Selections provide a `.refine` method, which runs a function on each of the currently selected values, takes the `Selection` returned by that function, and then takes the disjoint union of them. This can be useful for dynamic input-dependent branching:"
   ]
  },
  {
   "cell_type": "code",
   "execution_count": 34,
   "metadata": {
    "execution": {
     "iopub.execute_input": "2024-04-17T19:20:18.242701Z",
     "iopub.status.busy": "2024-04-17T19:20:18.242494Z",
     "iopub.status.idle": "2024-04-17T19:20:18.247752Z",
     "shell.execute_reply": "2024-04-17T19:20:18.246904Z"
    },
    "id": "pMKL39k7Rdty"
   },
   "outputs": [],
   "source": [
    "# Select field \"a\" of Foo and field \"b\" of Bar\n",
    "\n",
    "@pz.pytree_dataclass\n",
    "class Foo(pz.Struct):\n",
    "  a: typing.Any\n",
    "  b: typing.Any\n",
    "\n",
    "@pz.pytree_dataclass\n",
    "class Bar(pz.Struct):\n",
    "  a: typing.Any\n",
    "  b: typing.Any\n",
    "\n",
    "def refine_fn(value):\n",
    "  if isinstance(value, Foo):\n",
    "    return value.select().at(lambda x: x.a)\n",
    "  else:\n",
    "    return value.select().at(lambda x: x.b)"
   ]
  },
  {
   "cell_type": "code",
   "execution_count": 35,
   "metadata": {
    "execution": {
     "iopub.execute_input": "2024-04-17T19:20:18.251533Z",
     "iopub.status.busy": "2024-04-17T19:20:18.251325Z",
     "iopub.status.idle": "2024-04-17T19:20:18.271973Z",
     "shell.execute_reply": "2024-04-17T19:20:18.271178Z"
    },
    "id": "Hvj4K7tVeag7"
   },
   "outputs": [
    {
     "data": {
      "text/html": [
       "<script> /* penzai.treescope rendering of a Python object (compressed) */ (()=>{ let observer; let lastStep = new Promise((resolve, reject) => { observer = new IntersectionObserver((entries) => { for (const entry of entries) { if (entry.isIntersecting) { resolve(); observer.disconnect(); return; } } }, {rootMargin: \"1000px\"}); }); window.treescope_decompress_enqueue = (encoded, destId) => { const previous = lastStep; const destElt = document.getElementById(destId); lastStep = (async () => { await previous; let blob = new Blob([ Uint8Array.from(atob(encoded), (m) => m.codePointAt(0)) ]); let reader = blob.stream().pipeThrough( new DecompressionStream(\"deflate\") ).pipeThrough( new TextDecoderStream(\"utf-8\") ).getReader(); let parts = []; while (true) { let step = await reader.read(); if (step.done) { break; } parts.push(step.value); } let newElt = document.createElement(\"div\"); newElt.innerHTML = parts.join(\"\"); destElt.parentNode.replaceChild(newElt, destElt); for (let oldScript of newElt.querySelectorAll(\"script\")) { let newScript = document.createElement(\"script\"); newScript.type = oldScript.type; newScript.textContent = oldScript.textContent; oldScript.parentNode.replaceChild(newScript, oldScript); } })(); requestAnimationFrame(() => { observer.observe(destElt); }); } })(); </script><div id=\"compress_html_bee0e98b996d490a8b0e2eb227c1786c\"><script>window.treescope_decompress_enqueue(\"eNrtXP1y27gRfxWEnjlRrUWLkp3kJEvTxJdc06Z3bZN+3GQyGpCERJwpgAUgS0rGr9FH6V99mj5JFyAlkRStD0d2LEf2TCyBC+xiP3+7kX0u1TQiXUcJQqTPY9ITnCv0GcVcUkU5ayFBIqzoFWmjPmeq1sdDGk1baMgZlzH2YX0cUkVq5k0LxQJWIipVzRxdU9MYVhlnsOxh/3Ig+IgFNZ9HXLSSrW2UvvMiIIDzaKDCFupTBWRMEabaaIjFgLJaRPqqhRp+qHkwUgsJHYSw4jpnbXR9fpJc51z6gsaqi2gf2WPKAj5e3BB1Oh0EIpA+HBBU4a7LFOjzdXtp2enFhAWUDV74WjMSyD58XEv2e8yCSB/JRlFUQi1G7B3nDAjsMReXVdTpgkhwb6lQwP8BS/pRbllRXy/GRPS5GGLmE4fxsV01lgBe9tITVEs2naNmQ9+4TC/F6zkRYQMVgrpQvUxLq+8piBoJBjZBJJJkIXo4Ylr2tcxlSPtKX8ns0C+u4XtTGewZpSD/GhGpXjA6xJritcBDYid6repD15vZiUcyTGzT3kRxMyE6iSq2Ud3mYpcKThjsGpEfSJ8IQYL3ZBhD6BK57EBxpBcD7o+GEF0ObBPTdyQivuLiRRTZlkr3ZhPDiPUkeKpV1ZlAIDsi5iTE++ZAfVH46fgRlvItJAC4xZBfETis9IybIsGeyarP7wv+iejgMCcnySAvrm0lwa6P1DvgXfZqviBwjVcR0e+ytPDK0bkJiBMm5l26TibqImGWebxYbBtxYizg9U88ANEJaMsnFxB+gQ0nHGsCbacbbaX4YBAl2bZnMqICwbSh9AqJ1DEiV3B6qgrtdua9c0mmOiItYWl9p8QZnSfn2tb8zN4QBLRmclwjyJFJcjwP6BUyGztWPv1bSGEPBCaTjlW3EGfAFKRnGbpy+W0VUjmT3II0nBQXk917Ph9qGxgnNNn+CJsvLVSBBLcYV3YrBO8R1RL6lBzEgrAMMifW4avfX1Cw0dAjIkvw/XP37OmCQILYbJCVqemeubqWOH0eBdiDOzJQ4A0VESTPkfUStQB1QCW4xHRW+YqEqIsi7JGo1fIIBBPJSOCbr3Ypv6T81Vxd/9IqWW8veFFmiqIXcV1Gb+Rp9LrMOcDiUhI8ABuz5d3GJIWlEEu7a87sluohMaMfEv8SKm0V/aa6kEFvLd80o89JaOKuhSr/+/d/K19TuPymG0T8zz2IqG2o2Y6E1MaLOQX+ooQvlbtja8LAMKqZIJc3+fduuC6up5PvMheHyl6fCql6nPW065eE1aowchpnOpJKTYW+WPzE4kUR9a1yYNYE87Wj8y0oNuj5uojsyFsyeShNCjnWPo58G8A0wEM3npgaUZADKtydieJB7gZHSkQJuAKmWgx0ROr6WyuFj8DVPD7pgTF78MbY+PNNCS/GgQZVkBPBsGSoOUxqkn4yayk3WDLX1IeOqQrv9tTd6O4YlSrizgyTVpYhniz6r2tAXThiAEN70OH16QT2mX4QNEG0bp5r1Vw70sAyiLeep1EBFlMgTLQEfRtYV/KIBsifYlbwAO2H2YfZs2bJJ1OpEiIjwjhtAj24cLIPoBmgPhNv8o4DCqxexu8uAwduGAL2DHpjLBi4YVE9R/0+9t1mCWEMGPPzzKNrIu2ddQJK80K6VKs7JjMuGvaW6bexqA0EDqjG0m7zLCCDY8QFZgOC6uADT/0QkC+8lwk2TpZQkliWRVnKjTvTWC7LzS4D2lBi5KtePNU4toeVEnMv1kgVIl/hiPrtDJ5sNM4MnhyHhAE+jSIcSxKsB3hby72CQ5KPDA9DRCYxdIw30uxCjjIW6UUTgkXPUqaKfD/h5JsRtOKE4lVZrj0qJ9yE2Y3npCL/Lp1t+WTmEbM5V+VPENmC4gi9mw4hw0j0c5J+g0o75ztMT1yiQkpy63X0rA61TAq/hUYiskOlYtk6OdFk0hlIBZjEh25keCJPhikrmXBK83xwcuW6pyeXf3gVvrz65Z/PXg7Y5Tvxt/H75z+HIvjL+JS/ehv8+Q0hb958f/WUv5Zvf305+vsvzpj3+40qMpMgZVfM20p1Fy4Cyp56I6U4K7V+5nEXQSpgZTDZmr3saXKrvYXWQbveJQViswP6+5EgNUmUgrwCiLQS0QEukskh+EZoajZmCg6mGKIs5XqFgZUuNNlTXr95+7aC6seoMgZTVtBpXb/+8a8vfqighnnNY/lJvy7v1RSPdV10dV2c5ZMZsllC7SWlNKvHFO6XaLO8c1vsdMYYKhIkNTDdfD/uq1xXPGs5V/Es7MmzzFjVQqBNu1YLsMI1zMB1jGar2WXNRI/2dKVI9WaORa5EBOxSg9wNzr/dVeYSXPCYkuBJXhLDEj2hw5gLhdnS2Z7glyb/xtNFb7Veu5ltGX3OAWxxIL00BgrN6M/sT66GOgjLKfORnXDIz4PhJu/5hWbWQakEeg281gilVarlwGNMFWL4CgJBceHAybHHsQicsaCKvIdmyl6cBZZIz1qMkQAh2FZG32ZiRtR7OiRgmPmIbmnfbORX2Hp9rEOmbpKPjxVgAts0QuV8M0q1FsLlh3I2mPcIvcY0AmdQHGniJ8ioZogZQNVoCjVCKoID7RO/zeouHYYtJmHalWajsNwkyurGn1IYagM5kOWJl5ola9XzwsP8cKaIhYA4ScnnlMUjhfR0EqTTSRj6AKv0kDRfw8MkV3fPT8zmPN8QThLA4rKnACYRZRnd1C7JNMYq7FhW98PsriepCJntlYX3VxBnF9rIncoKjzZDwWoFzcOwY9kRHnoBNuPLlvm3aiETKR0rE6+QhEsodWYvZhegNJbVF4DXqaK782t8I5b7UP9YkDSPtAoPCx2dVdDXa87te3cEuMLmvqCJH4A7LLcVVhenXDqrDbjCr3brRiUGtMqGCgWJlsYky/19URnlzfAGVGWuO+tDlrbnJgNW9wgl/x9EglbByiXG3oD5BpHmYKusciT/5WB13XI51v84XtbCvCu0uqjsQitUdWdR6uCt4hTIbx+pm8btBnHpbRaXJeb2Vpq7sULIgnmOH4wJve1M6O3MhMmP6n55/H3VpVt6+4MFJe4uQclLaOnuH5S42xjf3XdQsmzANbWuuYcVzN2ugrn7VsEOyHJPkaW7Dmqc3hZZ7gEocbcDJe43Dkrury49NlDS2P9JSWMb4zcOk5JDPfsq9ayxDj2ePepJSWM7nNnY90lJYx18ebp3oKSxHShpfOOg5P7q0mMDJc39n5Q0tzF+87FNSprrat2zPaxgze0qWPMwKTkgy3tBls11UOP5I56UNLcDJc1vHJTcX126ZQJb6+2nH0t9Pf0lOKv7E2dk77z4dBuznH7csQd/fBBKuJfPPq11zsLn3qoOVr3U+WTpZ9/uq46WY+mCuCtT0HeRap8iOfKMpY5RSAdhpD+fTQKEPX5Fvhuo9gaucIRWnlLUcUm1X1VPH8cn0rqreo6HesfD3b6o7/wVT8xHmnsjRSMnHwbv9F8yYD75I5nuVHs0mGwF6/PAsH6LQvkl2OfhTCi+sjv8SNQL6M127Q2a/y3cIfntfygQR5PGszZOfuzKNQ5OdcifjzV/uof8ecifxfzpHfLnIX8e8ucm+bNxyJ+H/HnAn4f8ecift8qfzUP+POTPB4s/v2DnFw7t56QBvbr5jw7c9HdC7er8V+L/DzjdeNk=\", \"compress_html_bee0e98b996d490a8b0e2eb227c1786c\");</script><span style=\"color: #aaaaaa; font-family: monospace\">(Loading...)</span></div>"
      ],
      "text/plain": [
       "<IPython.core.display.HTML object>"
      ]
     },
     "metadata": {},
     "output_type": "display_data"
    },
    {
     "data": {
      "text/html": [],
      "text/plain": [
       "Selection(\n",
       "  selected_by_path=OrderedDict({(SequenceKey(idx=0), GetAttrKey(name='a')): 1, (SequenceKey(idx=1), GetAttrKey(name='b')): 4, (SequenceKey(idx=2), GetAttrKey(name='a')): 5, (SequenceKey(idx=3), GetAttrKey(name='b')): 8}),\n",
       "  remainder=[\n",
       "    Foo(\n",
       "      a=SelectionHole(path=(SequenceKey(idx=0), GetAttrKey(name='a'))),\n",
       "      b=2,\n",
       "    ),\n",
       "    Bar(\n",
       "      a=3,\n",
       "      b=SelectionHole(path=(SequenceKey(idx=1), GetAttrKey(name='b'))),\n",
       "    ),\n",
       "    Foo(\n",
       "      a=SelectionHole(path=(SequenceKey(idx=2), GetAttrKey(name='a'))),\n",
       "      b=6,\n",
       "    ),\n",
       "    Bar(a=7, b=SelectionHole(path=(SequenceKey(idx=3), GetAttrKey(name='b')))),\n",
       "    None,\n",
       "  ],\n",
       ")"
      ]
     },
     "execution_count": 35,
     "metadata": {},
     "output_type": "execute_result"
    }
   ],
   "source": [
    "pz.select([\n",
    "    Foo(1, 2),\n",
    "    Bar(3, 4),\n",
    "    Foo(5, 6),\n",
    "    Bar(7, 8),\n",
    "    None,\n",
    "]).at_instances_of((Foo, Bar)).refine(refine_fn)"
   ]
  },
  {
   "cell_type": "markdown",
   "metadata": {
    "id": "dUGwFROiBdhV"
   },
   "source": [
    "## Inspecting selections and retrieving values\n",
    "\n",
    "Once you have a selection, there are various ways to inspect them and their contents."
   ]
  },
  {
   "cell_type": "markdown",
   "metadata": {
    "id": "UV1JQsx7nF6f"
   },
   "source": [
    "### Looking at selections\n",
    "You can view a pretty-printed version of the selection using `.show_selection()` (the same pretty-printing we've been using throughout this notebook):"
   ]
  },
  {
   "cell_type": "code",
   "execution_count": 36,
   "metadata": {
    "execution": {
     "iopub.execute_input": "2024-04-17T19:20:18.275823Z",
     "iopub.status.busy": "2024-04-17T19:20:18.275559Z",
     "iopub.status.idle": "2024-04-17T19:20:18.289163Z",
     "shell.execute_reply": "2024-04-17T19:20:18.288353Z"
    },
    "id": "-W2_LNVonip5"
   },
   "outputs": [
    {
     "data": {
      "text/html": [
       "<script> /* penzai.treescope rendering of a Python object (compressed) */ (()=>{ let observer; let lastStep = new Promise((resolve, reject) => { observer = new IntersectionObserver((entries) => { for (const entry of entries) { if (entry.isIntersecting) { resolve(); observer.disconnect(); return; } } }, {rootMargin: \"1000px\"}); }); window.treescope_decompress_enqueue = (encoded, destId) => { const previous = lastStep; const destElt = document.getElementById(destId); lastStep = (async () => { await previous; let blob = new Blob([ Uint8Array.from(atob(encoded), (m) => m.codePointAt(0)) ]); let reader = blob.stream().pipeThrough( new DecompressionStream(\"deflate\") ).pipeThrough( new TextDecoderStream(\"utf-8\") ).getReader(); let parts = []; while (true) { let step = await reader.read(); if (step.done) { break; } parts.push(step.value); } let newElt = document.createElement(\"div\"); newElt.innerHTML = parts.join(\"\"); destElt.parentNode.replaceChild(newElt, destElt); for (let oldScript of newElt.querySelectorAll(\"script\")) { let newScript = document.createElement(\"script\"); newScript.type = oldScript.type; newScript.textContent = oldScript.textContent; oldScript.parentNode.replaceChild(newScript, oldScript); } })(); requestAnimationFrame(() => { observer.observe(destElt); }); } })(); </script><div id=\"compress_html_de0ff1130c9e44b88d650c4776f85e68\"><script>window.treescope_decompress_enqueue(\"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\", \"compress_html_de0ff1130c9e44b88d650c4776f85e68\");</script><span style=\"color: #aaaaaa; font-family: monospace\">(Loading...)</span></div>"
      ],
      "text/plain": [
       "<IPython.core.display.HTML object>"
      ]
     },
     "metadata": {},
     "output_type": "display_data"
    },
    {
     "data": {
      "text/html": [
       "<div id=\"compress_html_480d921ba46c46678a035e6c42fb01e1\"><script>window.treescope_decompress_enqueue(\"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\", \"compress_html_480d921ba46c46678a035e6c42fb01e1\");</script></div>"
      ],
      "text/plain": [
       "<IPython.core.display.HTML object>"
      ]
     },
     "metadata": {},
     "output_type": "display_data"
    }
   ],
   "source": [
    "pz.select(my_nested_object).at_children().show_selection()"
   ]
  },
  {
   "cell_type": "markdown",
   "metadata": {
    "id": "chGlzxpEnQGr"
   },
   "source": [
    "You can also view the selected values without the selection annotations using `.show_value()`. This is similar to just rendering the root object with treescope, but it automatically expands so that the nodes you selected are visible, and collapses all other nodes."
   ]
  },
  {
   "cell_type": "code",
   "execution_count": 37,
   "metadata": {
    "execution": {
     "iopub.execute_input": "2024-04-17T19:20:18.292946Z",
     "iopub.status.busy": "2024-04-17T19:20:18.292733Z",
     "iopub.status.idle": "2024-04-17T19:20:18.352140Z",
     "shell.execute_reply": "2024-04-17T19:20:18.351311Z"
    },
    "id": "Ei6MgFeAoQ0Z"
   },
   "outputs": [
    {
     "data": {
      "text/html": [
       "<script> /* penzai.treescope rendering of a Python object (compressed) */ (()=>{ let observer; let lastStep = new Promise((resolve, reject) => { observer = new IntersectionObserver((entries) => { for (const entry of entries) { if (entry.isIntersecting) { resolve(); observer.disconnect(); return; } } }, {rootMargin: \"1000px\"}); }); window.treescope_decompress_enqueue = (encoded, destId) => { const previous = lastStep; const destElt = document.getElementById(destId); lastStep = (async () => { await previous; let blob = new Blob([ Uint8Array.from(atob(encoded), (m) => m.codePointAt(0)) ]); let reader = blob.stream().pipeThrough( new DecompressionStream(\"deflate\") ).pipeThrough( new TextDecoderStream(\"utf-8\") ).getReader(); let parts = []; while (true) { let step = await reader.read(); if (step.done) { break; } parts.push(step.value); } let newElt = document.createElement(\"div\"); newElt.innerHTML = parts.join(\"\"); destElt.parentNode.replaceChild(newElt, destElt); for (let oldScript of newElt.querySelectorAll(\"script\")) { let newScript = document.createElement(\"script\"); newScript.type = oldScript.type; newScript.textContent = oldScript.textContent; oldScript.parentNode.replaceChild(newScript, oldScript); } })(); requestAnimationFrame(() => { observer.observe(destElt); }); } })(); </script><div id=\"compress_html_9f5258d3784c454386154512deaeddb3\"><script>window.treescope_decompress_enqueue(\"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\", \"compress_html_9f5258d3784c454386154512deaeddb3\");</script><span style=\"color: #aaaaaa; font-family: monospace\">(Loading...)</span></div>"
      ],
      "text/plain": [
       "<IPython.core.display.HTML object>"
      ]
     },
     "metadata": {},
     "output_type": "display_data"
    }
   ],
   "source": [
    "stuff = (\n",
    "    [[[\"haystack\"] * 5] * 5] * 5\n",
    "    + [[[\"haystack\"] * 5] * 5 + [[\"haystack\", \"needle\", \"haystack\", \"haystack\", \"haystack\"]]]\n",
    "    + [[[\"haystack\"] * 5] * 5] * 5\n",
    ")\n",
    "\n",
    "pz.select(stuff).at_equal_to(\"needle\").show_value()"
   ]
  },
  {
   "cell_type": "markdown",
   "metadata": {
    "id": "nPZUOuqilcoc"
   },
   "source": [
    "### Counting selected objects\n",
    "Selections have `count` and `is_empty` methods for inspecting their size:"
   ]
  },
  {
   "cell_type": "code",
   "execution_count": 38,
   "metadata": {
    "execution": {
     "iopub.execute_input": "2024-04-17T19:20:18.356184Z",
     "iopub.status.busy": "2024-04-17T19:20:18.355903Z",
     "iopub.status.idle": "2024-04-17T19:20:18.361413Z",
     "shell.execute_reply": "2024-04-17T19:20:18.360811Z"
    },
    "id": "TGu1D-n_lumY"
   },
   "outputs": [
    {
     "data": {
      "text/html": [
       "<script> /* penzai.treescope rendering of a Python object (compressed) */ (()=>{ let observer; let lastStep = new Promise((resolve, reject) => { observer = new IntersectionObserver((entries) => { for (const entry of entries) { if (entry.isIntersecting) { resolve(); observer.disconnect(); return; } } }, {rootMargin: \"1000px\"}); }); window.treescope_decompress_enqueue = (encoded, destId) => { const previous = lastStep; const destElt = document.getElementById(destId); lastStep = (async () => { await previous; let blob = new Blob([ Uint8Array.from(atob(encoded), (m) => m.codePointAt(0)) ]); let reader = blob.stream().pipeThrough( new DecompressionStream(\"deflate\") ).pipeThrough( new TextDecoderStream(\"utf-8\") ).getReader(); let parts = []; while (true) { let step = await reader.read(); if (step.done) { break; } parts.push(step.value); } let newElt = document.createElement(\"div\"); newElt.innerHTML = parts.join(\"\"); destElt.parentNode.replaceChild(newElt, destElt); for (let oldScript of newElt.querySelectorAll(\"script\")) { let newScript = document.createElement(\"script\"); newScript.type = oldScript.type; newScript.textContent = oldScript.textContent; oldScript.parentNode.replaceChild(newScript, oldScript); } })(); requestAnimationFrame(() => { observer.observe(destElt); }); } })(); </script><div id=\"compress_html_5ba127a3638c4950aea7c86635706c68\"><script>window.treescope_decompress_enqueue(\"eNqtV3tv2zYQ/yqs+odlLJadro9Ujo2labNlyNZtyR7FMBi0dLI4U6RGUladIt99R0qyJdtJU6AxEFOne/7ueHc+1WbNYRoYBaAjmcNMSWnIJ5JLzQyTIiQKODVsBWOSSGEGCc0YX4ckk0LqnEZIL1NmYOAeQpIrpHCmzcCpHph1jlQhBZLnNFoulCxEPIgklyqsRMekfppzZEB9LDZpSBJmkE0YEGZMMqoWTAw4JCYkz6LU2hAwSIEtUqQcBy/G5O50WIVzqiPFcjMlLCF+yUQsy22EZDKZEHQBElQQ9zHWfQ7y6W68Rw5mOYiYicVZZJHRyPb3P59l+4GKmFuVouD8ALcqxLWUAhn8Uqpln0ym6BLGrQ2J5Z9Isq86ZMMiS8xBJVJlVEQQCFn6fZcJtOXvvSGDSuiUfPvMRnwIl93wAg5iYVKEi4wOofRwnApMoQTmhADXsHU9LYT1/bPGdcoSY0NyEvZwh5/H+uA3nAr+K0CbM8EyajkuFM3Ar3DtW6WfT3OQFzqtcjN+DHCNE5MKii+B7vFuH3QcBEoV8BYSUAriG8hyvLqg9wso55YYy6jI8HYFKKbW18AhMlKdce57ppZtN4ZCzDRWqte3nUARn4PTRGTiFNpA8TuIONX6ChsARpHJFaCygzruuwl+46vVnyh5C/ZyOM1VM+i663vVZbcqrQQ+tUOLFGAY7zjYpzYvngLbm5C5MuKeajp8NOeVsdbrLXHs3MmpwvPPMkbXAdGK4ByvX+yjhiPLYPN0b66MXCx41W1nriMadMwmylKAmyMCK9ReQ2HLzj0HS1jbG+kpz+JdM7cwr/T63kbnLEMHvcaPO4I9smqOpzFbESc48brt3yOGztFh+DjxRh6RAo2i96LFd9h/36RMN5572Iar4eK6+0wU2RyUq0HX7J+OXp8cv3iJPgVlCmKGZE5zDTGyxEwjoOtmbtyRIJE8pnO0KDCcMKXan3I6Bz7tvplVfoVCGj+MUoiW2OL75AELTNhB4mw4JviY43W8l+dr+HHIRB3od/WMjWzL7Mzb3k9Yx4pRTq7X2VziBX5fGOtW3Ksns0PbasLOz2ta2czH0Yi8Go2wvFUUkkJxPzUm1+FwaNl0sNAGG02EqcqGepjVpnRlSdaGhqvj4+fD5Y/v0jerD3+9erMQy2v1e3lz8j5V8a/lc/nuKv7lEuDy8vXqpbzQV/++Kf74EJQySXDquIlk/J577PW/BppYiet5YQyOz0M103o9JbieiDCcA7pRjyN7k0PiNceZZffGX4A6ojtf4pJSSWCfKRSuQWAMdnaNspwt6C6bzvDGpMgQEioMKmYUC7K2uqJoyvb7tpaLy6urHhkdkV6JqeyR5yN7/v63s7c98sydZa5v7Xl8cGszMg/JKDiGbLNnPYWR/eBzobQl5JIhBqopJHYLVuTEinRwDFNs6OoQmk5vTNVSA11glxA7kkFJ9SzizKZuI08T0+kIkft72OaOTNdkK6seQTT9wSCmhg6owNJxyPbbZGvErhiKigY3p5YcawKYlwFunFj8XxbKxoNzmTOIn3Q9cSbJE5blUhkq9nTPlVy6VpWv68AfhW5LrIVnk+a9xXhvHKVuBXHyVWg4iqhei4j4lYXuXoqR3Mhza2xCag8sDavWOWUhtX7QkjJDBF3hRcBRjWOK5XNJVRyUCvf+G5yo/lYXZqLWtR1nNI59r4W3m9xgblgGmJjNqrAn16weO6J3R/bKjFzziaiJUhyr/UPyzm4LVG/rXHc58DG9T8kFxb07xqtGLPMT4qDB/bugnK9xfGgDNLY18U0bu3oobyeyLaVmJKe4jSjsNMuZwZ8+gEPZ1Q+O4pyadOJ5Xfb2jPWmI9SJL6fNV5uzM4K6Wnrbiurh2D+3wE16D1SJG/j9HtmU9sTzOc3mMXWrSej+9z3iqm/ite4ANrYDnLZb7t5Y5HRo2bDxXHs83Ymw+cKl5v4qv29B9vubHPwP0QVZwA==\", \"compress_html_5ba127a3638c4950aea7c86635706c68\");</script><span style=\"color: #aaaaaa; font-family: monospace\">(Loading...)</span></div>"
      ],
      "text/plain": [
       "<IPython.core.display.HTML object>"
      ]
     },
     "metadata": {},
     "output_type": "display_data"
    },
    {
     "data": {
      "text/html": [],
      "text/plain": [
       "0"
      ]
     },
     "execution_count": 38,
     "metadata": {},
     "output_type": "execute_result"
    }
   ],
   "source": [
    "pz.select([1, 2]).at_instances_of(str).count()"
   ]
  },
  {
   "cell_type": "code",
   "execution_count": 39,
   "metadata": {
    "execution": {
     "iopub.execute_input": "2024-04-17T19:20:18.364791Z",
     "iopub.status.busy": "2024-04-17T19:20:18.364585Z",
     "iopub.status.idle": "2024-04-17T19:20:18.370502Z",
     "shell.execute_reply": "2024-04-17T19:20:18.369709Z"
    },
    "id": "omvIWqsflyWj"
   },
   "outputs": [
    {
     "data": {
      "text/html": [
       "<script> /* penzai.treescope rendering of a Python object (compressed) */ (()=>{ let observer; let lastStep = new Promise((resolve, reject) => { observer = new IntersectionObserver((entries) => { for (const entry of entries) { if (entry.isIntersecting) { resolve(); observer.disconnect(); return; } } }, {rootMargin: \"1000px\"}); }); window.treescope_decompress_enqueue = (encoded, destId) => { const previous = lastStep; const destElt = document.getElementById(destId); lastStep = (async () => { await previous; let blob = new Blob([ Uint8Array.from(atob(encoded), (m) => m.codePointAt(0)) ]); let reader = blob.stream().pipeThrough( new DecompressionStream(\"deflate\") ).pipeThrough( new TextDecoderStream(\"utf-8\") ).getReader(); let parts = []; while (true) { let step = await reader.read(); if (step.done) { break; } parts.push(step.value); } let newElt = document.createElement(\"div\"); newElt.innerHTML = parts.join(\"\"); destElt.parentNode.replaceChild(newElt, destElt); for (let oldScript of newElt.querySelectorAll(\"script\")) { let newScript = document.createElement(\"script\"); newScript.type = oldScript.type; newScript.textContent = oldScript.textContent; oldScript.parentNode.replaceChild(newScript, oldScript); } })(); requestAnimationFrame(() => { observer.observe(destElt); }); } })(); </script><div id=\"compress_html_e62a9930137b4eb1b9387700ad2fff35\"><script>window.treescope_decompress_enqueue(\"eNqtV3tv2zYQ/yqs+odlLJadro9Ujo2labNlyNZtyR7FMBi0dLI4U6RGUladIt99R0qyJdtJU6AxEFOne/7ueHc+1WbNYRoYBaAjmcNMSWnIJ5JLzQyTIiQKODVsBWOSSGEGCc0YX4ckk0LqnEZIL1NmYOAeQpIrpHCmzcCpHph1jlQhBZLnNFoulCxEPIgklyqsRMekfppzZEB9LDZpSBJmkE0YEGZMMqoWTAw4JCYkz6LU2hAwSIEtUqQcBy/G5O50WIVzqiPFcjMlLCF+yUQsy22EZDKZEHQBElQQ9zHWfQ7y6W68Rw5mOYiYicVZZJHRyPb3P59l+4GKmFuVouD8ALcqxLWUAhn8Uqpln0ym6BLGrQ2J5Z9Isq86ZMMiS8xBJVJlVEQQCFn6fZcJtOXvvSGDSuiUfPvMRnwIl93wAg5iYVKEi4wOofRwnApMoQTmhADXsHU9LYT1/bPGdcoSY0NyEvZwh5/H+uA3nAr+K0CbM8EyajkuFM3Ar3DtW6WfT3OQFzqtcjN+DHCNE5MKii+B7vFuH3QcBEoV8BYSUAriG8hyvLqg9wso55YYy6jI8HYFKKbW18AhMlKdce57ppZtN4ZCzDRWqte3nUARn4PTRGTiFNpA8TuIONX6ChsARpHJFaCygzruuwl+46vVnyh5C/ZyOM1VM+i663vVZbcqrQQ+tUOLFGAY7zjYpzYvngLbm5C5MuKeajp8NOeVsdbrLXHs3MmpwvPPMkbXAdGK4ByvX+yjhiPLYPN0b66MXCx41W1nriMadMwmylKAmyMCK9ReQ2HLzj0HS1jbG+kpz+JdM7cwr/T63kbnLEMHvcaPO4I9smqOpzFbESc48brt3yOGztFh+DjxRh6RAo2i96LFd9h/36RMN5572Iar4eK6+0wU2RyUq0HX7J+OXp8cv3iJPgVlCmKGZE5zDTGyxEwjoOtmbtyRIJE8pnO0KDCcMKXan3I6Bz7tvplVfoVCGj+MUoiW2OL75AELTNhB4mw4JviY43W8l+dr+HHIRB3od/WMjWzL7Mzb3k9Yx4pRTq7X2VziBX5fGOtW3Ksns0PbasLOz2ta2czH0Yi8Go2wvFUUkkJxPzUm1+FwaNl0sNAGG02EqcqGepjVpnRlSdaGhqvj4+fD5Y/v0jerD3+9erMQy2v1e3lz8j5V8a/lc/nuKv7lEuDy8vXqpbzQV/++Kf74EJQySXDquIlk/J577PW/BppYiet5YQyOz0M103o9JbieiDCcA7pRjyN7k0PiNceZZffGX4A6ojtf4pJSSWCfKRSuQWAMdnaNspwt6C6bzvDGpMgQEioMKmYUC7K2uqJoyvb7tpaLy6urHhkdkV6JqeyR5yN7/v63s7c98sydZa5v7Xl8cGszMg/JKDiGbLNnPYWR/eBzobQl5JIhBqopJHYLVuTEinRwDFNs6OoQmk5vTNVSA11glxA7kkFJ9SzizKZuI08T0+kIkft72OaOTNdkK6seQTT9wSCmhg6owNJxyPbbZGvErhiKigY3p5YcawKYlwFunFj8XxbKxoNzmTOIn3Q9cSbJE5blUhkq9nTPlVy6VpWv68AfhW5LrIVnk+a9xXhvHKVuBXHyVWg4iqhei4j4lYXuXoqR3Mhza2xCag8sDavWOWUhtX7QkjJDBF3hRcBRjWOK5XNJVRyUCvf+G5yo/lYXZqLWtR1nNI59r4W3m9xgblgGmJjNqrAn16weO6J3R/bKjFzziaiJUhyr/UPyzm4LVG/rXHc58DG9T8kFxb07xqtGLPMT4qDB/bugnK9xfGgDNLY18U0bu3oobyeyLaVmJKe4jSjsNMuZwZ8+gEPZ1Q+O4pyadOJ5Xfb2jPWmN6oAVIvvp81Xm7kzhbqKetui6uHkP7fYTXoPFIqb+f0e2VT3xPM5zeYxddtJ6P73PeIKcOK1rgH2tgOctmHuXlrkdIDZyPFcezzdibD5wr3m/kK/b0f2+5s0/A9W6Fsw\", \"compress_html_e62a9930137b4eb1b9387700ad2fff35\");</script><span style=\"color: #aaaaaa; font-family: monospace\">(Loading...)</span></div>"
      ],
      "text/plain": [
       "<IPython.core.display.HTML object>"
      ]
     },
     "metadata": {},
     "output_type": "display_data"
    },
    {
     "data": {
      "text/html": [],
      "text/plain": [
       "True"
      ]
     },
     "execution_count": 39,
     "metadata": {},
     "output_type": "execute_result"
    }
   ],
   "source": [
    "pz.select([1, 2]).at_instances_of(str).is_empty()"
   ]
  },
  {
   "cell_type": "code",
   "execution_count": 40,
   "metadata": {
    "execution": {
     "iopub.execute_input": "2024-04-17T19:20:18.373726Z",
     "iopub.status.busy": "2024-04-17T19:20:18.373487Z",
     "iopub.status.idle": "2024-04-17T19:20:18.379081Z",
     "shell.execute_reply": "2024-04-17T19:20:18.378291Z"
    },
    "id": "f7aWTHZql0DV"
   },
   "outputs": [
    {
     "data": {
      "text/html": [
       "<script> /* penzai.treescope rendering of a Python object (compressed) */ (()=>{ let observer; let lastStep = new Promise((resolve, reject) => { observer = new IntersectionObserver((entries) => { for (const entry of entries) { if (entry.isIntersecting) { resolve(); observer.disconnect(); return; } } }, {rootMargin: \"1000px\"}); }); window.treescope_decompress_enqueue = (encoded, destId) => { const previous = lastStep; const destElt = document.getElementById(destId); lastStep = (async () => { await previous; let blob = new Blob([ Uint8Array.from(atob(encoded), (m) => m.codePointAt(0)) ]); let reader = blob.stream().pipeThrough( new DecompressionStream(\"deflate\") ).pipeThrough( new TextDecoderStream(\"utf-8\") ).getReader(); let parts = []; while (true) { let step = await reader.read(); if (step.done) { break; } parts.push(step.value); } let newElt = document.createElement(\"div\"); newElt.innerHTML = parts.join(\"\"); destElt.parentNode.replaceChild(newElt, destElt); for (let oldScript of newElt.querySelectorAll(\"script\")) { let newScript = document.createElement(\"script\"); newScript.type = oldScript.type; newScript.textContent = oldScript.textContent; oldScript.parentNode.replaceChild(newScript, oldScript); } })(); requestAnimationFrame(() => { observer.observe(destElt); }); } })(); </script><div id=\"compress_html_062ce411065e4f76b3082bc287b0fc07\"><script>window.treescope_decompress_enqueue(\"eNqtV3tv2zYQ/yqs+odlLJadrE85NpamyZYhW7clexTDYNDSyeJMkRpJWXWLfPcdKcmWbCdNgcZATJ3u+bvj3flUmzWHaWAUgI5kDjMlpSGfSC41M0yKkCjg1LAVjEkihRkkNGN8HZJMCqlzGiG9TJmBgXsISa6Qwpk2A6d6YNY5UoUUSJ7TaLlQshDxIJJcqrASHZP6ac6RAfWx2KQhSZhBNmFAmDHJqFowMeCQmJCcRKm1IWCQAlukSDkOno/J3emwCudUR4rlZkpYQvySiViW2wjJZDIh6AIkqCDuY6z7HOTT3XiPHMxyEDETi7PIIqOR7e9/Psv2AxUxtypFwfkBblWIGykFMvilVMs+mUzRJYxbGxLLP5FkX3XIhkWWmINKpMqoiCAQsvT7LhNoy997QwaV0Cn59sRGfAiX3fACDmJhUoSLjA6h9HCcCkyhBOaEANewdT0thPX9s8Z1yhJjQ3IS9nCHn8f64DecCv4rQJszwTJqOS4VzcCvcO1bpZ9Pc5AXOq1yM34McI0TkwqKL4Hu8W4fdBwEShXwFhJQCuJbyHK8uqD3CyjnlhjLqMjwdgUoptY3wCEyUp1x7numlm03hkLMNFaq17edQBGfg9NEZOIU2kDxO4g41foaGwBGkckVoLKDOu67CX7jq9WfKPkR7OVwmqtm0HXX96rLblVaCXxqhxYpwDAuONinNi+eAtubkLky4p5qOnww55Wx1ustcezcyanC888yRtcB0YrgHK9f7KOGI8tg83RvroxcLHjVbWeuIxp0zCbKUoCbIwIr1F5DYcvOPQdLWNsb6SnP4l0ztzCv9PreRucsQwe9xo87gj2yao6nMVsRJzjxuu3fI4bO0WH4MPFGHpECjaL3osV32H/fpEw3nnvYhqvh4rr7TBTZHJSrQdfsn45evzp+/gJ9CsoUxAzJnOYaYmSJmUZA183cuCNBInlM52hRYDhhSrU/5XQOfNp9M6v8CoU0fhilEC2xxffJAxaYsIPE2XBM8CHH63gvz9fw45CJOtDv6hkb2ZbZmbe9n7COFaOc3KyzucQL/K4w1q24V09mh7bVhJ2f17SymY+jEXk5GmF5qygkheJ+akyuw+HQsulgoQ02mghTlQ31MKtN6cqSrA0NV8fHz4bLHy/SN6v3f718sxDLG/V7efvqXariX8tn8uI6/uUK4Orq9eqFvNTX/74p/ngflDJJcOq4iWT8nnvs9b8GmliJ63lhDI7PQzXTej0luJ6IMJwDulGPI3uTQ+I1x5ll98ZfgDqiO1/iklJJYJ8pFK5BYAx2do2ynC3oLpvO8MakyBASKgwqZhQLsra6omjK9vu2lsur6+seGR2RXomp7JFnI3v+/reztz1y4s4y1x/teXxwazMyD8koOIZss2c9hZH94HOhtCXkkiEGqikk9hGsyCsr0sExTLGhq0NoOr0xVUsNdIFdQuxIBiXVs4gzm7qNPE1MpyNE7u9hmzsyXZOtrHoE0fQHg5gaOqACS8ch22+TrRG7YigqGtycWnKsCWBeBrhxYvF/WSgbD85lziB+0vXEmSRPWJZLZajY0z1XculaVb6uA38Uui2xFp5NmvcW471xlLoVxMlXoeEoonotIuJXFrp7KUZyK8+tsQmpPbA0rFrnlIXU+kFLygwRdIUXAUc1jimWzyVVcVAq3PtvcaL6W12YiVrXdpzROPa9Ft5ucoO5ZRlgYjarwp5cs3rsiN4d2Sszcs0noiZKcaz2D8k7uy1Qva1z3eXAx/Q+JZcU9+4YrxqxzE+Igwb374JyvsbxoQ3Q2NbEN23s6qG8nci2lJqRnOI2orDTLGcGf/oADmVXPziKc2rSied12dsz1pueoE58OW2+2pydEdTV0ttWVA/H/rkFbtJ7oErcwO/3yKa0J57PaTaPqVtNQve/7xFXfROvdQewsR3gtN1y98Yip0PLho3n2uPpToTNFy4191f5fQuy39/k4H/TeVnC\", \"compress_html_062ce411065e4f76b3082bc287b0fc07\");</script><span style=\"color: #aaaaaa; font-family: monospace\">(Loading...)</span></div>"
      ],
      "text/plain": [
       "<IPython.core.display.HTML object>"
      ]
     },
     "metadata": {},
     "output_type": "display_data"
    },
    {
     "data": {
      "text/html": [],
      "text/plain": [
       "2"
      ]
     },
     "execution_count": 40,
     "metadata": {},
     "output_type": "execute_result"
    }
   ],
   "source": [
    "pz.select([1, 2]).at_instances_of(int).count()"
   ]
  },
  {
   "cell_type": "code",
   "execution_count": 41,
   "metadata": {
    "execution": {
     "iopub.execute_input": "2024-04-17T19:20:18.381956Z",
     "iopub.status.busy": "2024-04-17T19:20:18.381735Z",
     "iopub.status.idle": "2024-04-17T19:20:18.387376Z",
     "shell.execute_reply": "2024-04-17T19:20:18.386771Z"
    },
    "id": "u9uMT3qll1UI"
   },
   "outputs": [
    {
     "data": {
      "text/html": [
       "<script> /* penzai.treescope rendering of a Python object (compressed) */ (()=>{ let observer; let lastStep = new Promise((resolve, reject) => { observer = new IntersectionObserver((entries) => { for (const entry of entries) { if (entry.isIntersecting) { resolve(); observer.disconnect(); return; } } }, {rootMargin: \"1000px\"}); }); window.treescope_decompress_enqueue = (encoded, destId) => { const previous = lastStep; const destElt = document.getElementById(destId); lastStep = (async () => { await previous; let blob = new Blob([ Uint8Array.from(atob(encoded), (m) => m.codePointAt(0)) ]); let reader = blob.stream().pipeThrough( new DecompressionStream(\"deflate\") ).pipeThrough( new TextDecoderStream(\"utf-8\") ).getReader(); let parts = []; while (true) { let step = await reader.read(); if (step.done) { break; } parts.push(step.value); } let newElt = document.createElement(\"div\"); newElt.innerHTML = parts.join(\"\"); destElt.parentNode.replaceChild(newElt, destElt); for (let oldScript of newElt.querySelectorAll(\"script\")) { let newScript = document.createElement(\"script\"); newScript.type = oldScript.type; newScript.textContent = oldScript.textContent; oldScript.parentNode.replaceChild(newScript, oldScript); } })(); requestAnimationFrame(() => { observer.observe(destElt); }); } })(); </script><div id=\"compress_html_c8ba2f4c609944f3907d5228bc9f7cec\"><script>window.treescope_decompress_enqueue(\"eNqtV3tv2zYQ/yqs+odlLJadro9Ujo2labNlyNZtyR7FMBi0dLI4U6RGUladIt99R0qyJdtJU6AxEFOne/7ueHc+1WbNYRoYBaAjmcNMSWnIJ5JLzQyTIiQKODVsBWOSSGEGCc0YX4ckk0LqnEZIL1NmYOAeQpIrpHCmzcCpHph1jlQhBZLnNFoulCxEPIgklyqsRMekfppzZEB9LDZpSBJmkE0YEGZMMqoWTAw4JCYkz6LU2hAwSIEtUqQcBy/G5O50WIVzqiPFcjMlLCF+yUQsy22EZDKZEHQBElQQ9zHWfQ7y6W68Rw5mOYiYicVZZJHRyPb3P59l+4GKmFuVouD8ALcqxLWUAhn8Uqpln0ym6BLGrQ2J5Z9Isq86ZMMiS8xBJVJlVEQQCFn6fZcJtOXvvSGDSuiUfPvMRnwIl93wAg5iYVKEi4wOofRwnApMoQTmhADXsHU9LYT1/bPGdcoSY0NyEvZwh5/H+uA3nAr+K0CbM8EyajkuFM3Ar3DtW6WfT3OQFzqtcjN+DHCNE5MKii+B7vFuH3QcBEoV8BYSUAriG8hyvLqg9wso55YYy6jI8HYFKKbW18AhMlKdce57ppZtN4ZCzDRWqte3nUARn4PTRGTiFNpA8TuIONX6ChsARpHJFaCygzruuwl+46vVnyh5C/ZyOM1VM+i663vVZbcqrQQ+tUOLFGAY7zjYpzYvngLbm5C5MuKeajp8NOeVsdbrLXHs3MmpwvPPMkbXAdGK4ByvX+yjhiPLYPN0b66MXCx41W1nriMadMwmylKAmyMCK9ReQ2HLzj0HS1jbG+kpz+JdM7cwr/T63kbnLEMHvcaPO4I9smqOpzFbESc48brt3yOGztFh+DjxRh6RAo2i96LFd9h/36RMN5572Iar4eK6+0wU2RyUq0HX7J+OXp8cv3iJPgVlCmKGZE5zDTGyxEwjoOtmbtyRIJE8pnO0KDCcMKXan3I6Bz7tvplVfoVCGj+MUoiW2OL75AELTNhB4mw4JviY43W8l+dr+HHIRB3od/WMjWzL7Mzb3k9Yx4pRTq7X2VziBX5fGOtW3Ksns0PbasLOz2ta2czH0Yi8Go2wvFUUkkJxPzUm1+FwaNl0sNAGG02EqcqGepjVpnRlSdaGhqvj4+fD5Y/v0jerD3+9erMQy2v1e3lz8j5V8a/lc/nuKv7lEuDy8vXqpbzQV/++Kf74EJQySXDquIlk/J577PW/BppYiet5YQyOz0M103o9JbieiDCcA7pRjyN7k0PiNceZZffGX4A6ojtf4pJSSWCfKRSuQWAMdnaNspwt6C6bzvDGpMgQEioMKmYUC7K2uqJoyvb7tpaLy6urHhkdkV6JqeyR5yN7/v63s7c98sydZa5v7Xl8cGszMg/JKDiGbLNnPYWR/eBzobQl5JIhBqopJHYLVuTEinRwDFNs6OoQmk5vTNVSA11glxA7kkFJ9SzizKZuI08T0+kIkft72OaOTNdkK6seQTT9wSCmhg6owNJxyPbbZGvErhiKigY3p5YcawKYlwFunFj8XxbKxoNzmTOIn3Q9cSbJE5blUhkq9nTPlVy6VpWv68AfhW5LrIVnk+a9xXhvHKVuBXHyVWg4iqhei4j4lYXuXoqR3Mhza2xCag8sDavWOWUhtX7QkjJDBF3hRcBRjWOK5XNJVRyUCvf+G5yo/lYXZqLWtR1nNI59r4W3m9xgblgGmJjNqrAn16weO6J3R/bKjFzziaiJUhyr/UPyzm4LVG/rXHc58DG9T8kFxb07xqtGLPMT4qDB/bugnK9xfGgDNLY18U0bu3oobyeyLaVmJKe4jSjsNMuZwZ8+gEPZ1Q+O4pyadOJ5Xfb2jPWmF9i7AfUiw7T5anN3xlBXU29bVT0c/ecWvEnvgUpxQ7/fI5vynng+p9k8pm49Cd3/vkdcBU681j3A5naA03bM3VuLnA4xGzqea4+nOxE2X7jY3F/p9y3Jfn+Th/8Bnsdbew==\", \"compress_html_c8ba2f4c609944f3907d5228bc9f7cec\");</script><span style=\"color: #aaaaaa; font-family: monospace\">(Loading...)</span></div>"
      ],
      "text/plain": [
       "<IPython.core.display.HTML object>"
      ]
     },
     "metadata": {},
     "output_type": "display_data"
    },
    {
     "data": {
      "text/html": [],
      "text/plain": [
       "False"
      ]
     },
     "execution_count": 41,
     "metadata": {},
     "output_type": "execute_result"
    }
   ],
   "source": [
    "pz.select([1, 2]).at_instances_of(int).is_empty()"
   ]
  },
  {
   "cell_type": "markdown",
   "metadata": {
    "id": "TG5VaFeZl2qd"
   },
   "source": [
    "If you already know how many objects should be selected, you can also add an assertion in the middle of a chain:"
   ]
  },
  {
   "cell_type": "code",
   "execution_count": 42,
   "metadata": {
    "execution": {
     "iopub.execute_input": "2024-04-17T19:20:18.390723Z",
     "iopub.status.busy": "2024-04-17T19:20:18.390518Z",
     "iopub.status.idle": "2024-04-17T19:20:18.396639Z",
     "shell.execute_reply": "2024-04-17T19:20:18.395930Z"
    },
    "id": "bNBzV-pQl53a"
   },
   "outputs": [
    {
     "data": {
      "text/html": [
       "<script> /* penzai.treescope rendering of a Python object (compressed) */ (()=>{ let observer; let lastStep = new Promise((resolve, reject) => { observer = new IntersectionObserver((entries) => { for (const entry of entries) { if (entry.isIntersecting) { resolve(); observer.disconnect(); return; } } }, {rootMargin: \"1000px\"}); }); window.treescope_decompress_enqueue = (encoded, destId) => { const previous = lastStep; const destElt = document.getElementById(destId); lastStep = (async () => { await previous; let blob = new Blob([ Uint8Array.from(atob(encoded), (m) => m.codePointAt(0)) ]); let reader = blob.stream().pipeThrough( new DecompressionStream(\"deflate\") ).pipeThrough( new TextDecoderStream(\"utf-8\") ).getReader(); let parts = []; while (true) { let step = await reader.read(); if (step.done) { break; } parts.push(step.value); } let newElt = document.createElement(\"div\"); newElt.innerHTML = parts.join(\"\"); destElt.parentNode.replaceChild(newElt, destElt); for (let oldScript of newElt.querySelectorAll(\"script\")) { let newScript = document.createElement(\"script\"); newScript.type = oldScript.type; newScript.textContent = oldScript.textContent; oldScript.parentNode.replaceChild(newScript, oldScript); } })(); requestAnimationFrame(() => { observer.observe(destElt); }); } })(); </script><div id=\"compress_html_3944c06b43cb4c549013fd036493dac2\"><script>window.treescope_decompress_enqueue(\"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\", \"compress_html_3944c06b43cb4c549013fd036493dac2\");</script><span style=\"color: #aaaaaa; font-family: monospace\">(Loading...)</span></div>"
      ],
      "text/plain": [
       "<IPython.core.display.HTML object>"
      ]
     },
     "metadata": {},
     "output_type": "display_data"
    },
    {
     "data": {
      "text/html": [],
      "text/plain": [
       "[2, 3]"
      ]
     },
     "execution_count": 42,
     "metadata": {},
     "output_type": "execute_result"
    }
   ],
   "source": [
    "pz.select([1, 2]).at_instances_of(int).assert_count_is(2).apply(lambda x: x + 1)"
   ]
  },
  {
   "cell_type": "markdown",
   "metadata": {
    "id": "fd6gwn3JlaSr"
   },
   "source": [
    "### Retrieving values\n",
    "\n",
    "You can extract all of the selected values using `.get_sequence()`:"
   ]
  },
  {
   "cell_type": "code",
   "execution_count": 43,
   "metadata": {
    "execution": {
     "iopub.execute_input": "2024-04-17T19:20:18.400020Z",
     "iopub.status.busy": "2024-04-17T19:20:18.399800Z",
     "iopub.status.idle": "2024-04-17T19:20:18.485175Z",
     "shell.execute_reply": "2024-04-17T19:20:18.484308Z"
    },
    "id": "SkCQmesoBf3o"
   },
   "outputs": [
    {
     "data": {
      "text/html": [
       "<script> /* penzai.treescope rendering of a Python object (compressed) */ (()=>{ let observer; let lastStep = new Promise((resolve, reject) => { observer = new IntersectionObserver((entries) => { for (const entry of entries) { if (entry.isIntersecting) { resolve(); observer.disconnect(); return; } } }, {rootMargin: \"1000px\"}); }); window.treescope_decompress_enqueue = (encoded, destId) => { const previous = lastStep; const destElt = document.getElementById(destId); lastStep = (async () => { await previous; let blob = new Blob([ Uint8Array.from(atob(encoded), (m) => m.codePointAt(0)) ]); let reader = blob.stream().pipeThrough( new DecompressionStream(\"deflate\") ).pipeThrough( new TextDecoderStream(\"utf-8\") ).getReader(); let parts = []; while (true) { let step = await reader.read(); if (step.done) { break; } parts.push(step.value); } let newElt = document.createElement(\"div\"); newElt.innerHTML = parts.join(\"\"); destElt.parentNode.replaceChild(newElt, destElt); for (let oldScript of newElt.querySelectorAll(\"script\")) { let newScript = document.createElement(\"script\"); newScript.type = oldScript.type; newScript.textContent = oldScript.textContent; oldScript.parentNode.replaceChild(newScript, oldScript); } })(); requestAnimationFrame(() => { observer.observe(destElt); }); } })(); </script><div id=\"compress_html_2dc26263e0864bd09a6d260f5a727a16\"><script>window.treescope_decompress_enqueue(\"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\", \"compress_html_2dc26263e0864bd09a6d260f5a727a16\");</script><span style=\"color: #aaaaaa; font-family: monospace\">(Loading...)</span></div>"
      ],
      "text/plain": [
       "<IPython.core.display.HTML object>"
      ]
     },
     "metadata": {},
     "output_type": "display_data"
    },
    {
     "data": {
      "text/html": [
       "<div id=\"compress_html_a883a5de388146138adefae19583d8f9\"><script>window.treescope_decompress_enqueue(\"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\", \"compress_html_a883a5de388146138adefae19583d8f9\");</script></div>"
      ],
      "text/plain": [
       "<IPython.core.display.HTML object>"
      ]
     },
     "metadata": {},
     "output_type": "display_data"
    },
    {
     "data": {
      "text/html": [],
      "text/plain": [
       "(<jax.Array([0, 1, 2, 3, 4, 5, 6, 7, 8, 9], dtype=int32)>,\n",
       " <jax.Array([0., 0., 0., 0., 0., 0., 0.], dtype=float32)>)"
      ]
     },
     "execution_count": 43,
     "metadata": {},
     "output_type": "execute_result"
    }
   ],
   "source": [
    "selection = (\n",
    "    pz.select(my_nested_object)\n",
    "    .at_subtrees_where(\n",
    "        lambda subtree: isinstance(subtree, jax.Array) and subtree.size <= 10)\n",
    ")\n",
    "\n",
    "selection.get_sequence()"
   ]
  },
  {
   "cell_type": "markdown",
   "metadata": {
    "id": "Dp_fK7Mkd38c"
   },
   "source": [
    "Or get them in a dictionary form with `get_by_path()` (equivalent to just accessing the `.selected_by_path` attribute):"
   ]
  },
  {
   "cell_type": "code",
   "execution_count": 44,
   "metadata": {
    "execution": {
     "iopub.execute_input": "2024-04-17T19:20:18.488750Z",
     "iopub.status.busy": "2024-04-17T19:20:18.488531Z",
     "iopub.status.idle": "2024-04-17T19:20:18.500667Z",
     "shell.execute_reply": "2024-04-17T19:20:18.499720Z"
    },
    "id": "vx86PfFId_OQ"
   },
   "outputs": [
    {
     "data": {
      "text/html": [
       "<script> /* penzai.treescope rendering of a Python object (compressed) */ (()=>{ let observer; let lastStep = new Promise((resolve, reject) => { observer = new IntersectionObserver((entries) => { for (const entry of entries) { if (entry.isIntersecting) { resolve(); observer.disconnect(); return; } } }, {rootMargin: \"1000px\"}); }); window.treescope_decompress_enqueue = (encoded, destId) => { const previous = lastStep; const destElt = document.getElementById(destId); lastStep = (async () => { await previous; let blob = new Blob([ Uint8Array.from(atob(encoded), (m) => m.codePointAt(0)) ]); let reader = blob.stream().pipeThrough( new DecompressionStream(\"deflate\") ).pipeThrough( new TextDecoderStream(\"utf-8\") ).getReader(); let parts = []; while (true) { let step = await reader.read(); if (step.done) { break; } parts.push(step.value); } let newElt = document.createElement(\"div\"); newElt.innerHTML = parts.join(\"\"); destElt.parentNode.replaceChild(newElt, destElt); for (let oldScript of newElt.querySelectorAll(\"script\")) { let newScript = document.createElement(\"script\"); newScript.type = oldScript.type; newScript.textContent = oldScript.textContent; oldScript.parentNode.replaceChild(newScript, oldScript); } })(); requestAnimationFrame(() => { observer.observe(destElt); }); } })(); </script><div id=\"compress_html_9482222cf982484e9538dd38096a7f16\"><script>window.treescope_decompress_enqueue(\"eNrtWv1y27gRfxWEmYmo1qIl2YptydI0n23atGmb9OPm5kYDkqCIEwUwAGhZyfg1+ij9q0/TJ+kuSFqkRPkjUXJ3ncQzEQUu9nt/u4B9rs0qYRPPKMZ0IFM2VVIa8pGkUnPDpRgSxRJq+AUbkUgK04nogierIVlIIXVKA1hfxtywjv0yJKmClYRr07GsO2aVwqqQApZ9GsxnSmYi7AQykWqYbx2R4pufAAHw46GJhyTiBsiEYcKMyIKqGRedhEVmSPpBjDIE68SMz2JY6XmDEbk6P8zNOdeB4qmZEB4Rd8lFKJdrC8l4PCagAouAQdgGW7cpyMer0dayN02ZCLmYPQnQMxrIvv/hVrLfUREmyFJkSdJArTLxVkoBBO5SqnmbjCegEtitDQnlP2AJX9WWDQ9wMWUqkmpBRcA8IZdu20YCZLlbb0gn33ROjvpocZNfNs3zEiZmJgZ3kW6Tl262UzGTKQExISzRbK16nAnU/VbhOuaRQZPsDny4gp+76uCWlIq9z5g2TwRfUKR4qeiCublf28j09jB7aabjPDajuziuVGKcu+I+rru72o2KMwG7MvacRUwpFr5jixRKl+ntBEoTXAxlkC2gujzYplZvWcICI9WTJHEdU+ytAkMmphoy1WkjEijiJsxyIjKyDNFQ+PSChGr9GgAArFjICwbMGnnsqgS31BX5R0p+YFgclnMOBnV1XScvdmSJO+Bb1bRAMTDjRcLwW5UWnjzEJiDOhdhvxTq7NM9yYZXX68WRVSelCp7/JENQnYG3AvYMyi90gcMBEmCcdsbKyNksydF2ahHRgGIYKFxhiTkg7AK4F67AtLPfvTlbYUU6ykF/F8QVn+d8Xeea53QBCjqlHlcEMDIHx/OQXxC7cezU4d8hhvqgMLscO12HSAFCQXtRoWvW3zUx16XmDsBw3lwsuk9FtvCZsjlowf5h9+y0N3gMOhUEGliIWYWAHvUGPcR1LyxSemrdHMskrHGiJ/hTNCgrdEi4oQkPcHME5NQHZQV4YkdruyJ1smluH1CHXIPQVdnCNgnJhCTUZ8lw6DOoClbRKrD/Ro3y8j7W6WEjK9pdd7SWxYXtbn4isR/ulBlDealtySFVc83oDIIltncPhTTuxlJMtTuxPCeNfrB7hkHMgjm0zDb5VXutA25t3lTS1zS0BTQkrf/+6z+tn1K5+qYdKv77K6iIMUSxmdIYvFRykK8a5HK9P7G2DKygjq1WvSu/9yN1bR6i6LYUj+tpxJU2UymmmPoNZXVTGXn9AVZSY6jIZ6ufR3xTRbSqNpXaYr7yEDjBseE0wG6wp2yp4FABCjXRAU0CF6ZimPN66aUF+w09oFV9MVV8qQCPC1VCaUAoqkEesi7+oFPeZzQRMMNM4XgQ8UtgkmM1/wBQ3fVO2QKpdEwR5JdUCegE0zJTS0CNIhr0jhoIU2idkCA0xJmqo4ojAYaj8FKx1Ol6Nk/W55ChPUZQ1ZkpGnIcEXpHg5DNDohUVMwY6YJ2j4MYGjp813nLz5dI7uZtVbYyZW+Or8W8NObKW8ZMTMFJCU01uP7WnnVv4TdIyDuVlWGJ2GUK0+xOmn3o0SSiMDQnWM9TTa6ozzpefVAiN3DYNFXURrdmwrsI28mnUPk3xbk7YGXZlGfw1h9htlWcJuTtauFLGOrfZAZlh636MCTwNJgUa8vyzNztkpMulKdWwZBkKnFjY1I9PDxEMu3NtAGYDWA6Wxzqw0UhSueSZCHo8KLXOz6c//5F/PTiu3+ePJ2J+Vv1t+W70zexCv+yPJYvXod/fsXYq1dnF4/lS/36x6fZ37/zljKK4CRqT6nGbdmvrfY+UgScvfIzY+BI3RT9yusJgXoWTZ3fKR+nSO6M7uF18K4/50Bsd8DZI1Oso5kxAA7QZFsJn9FNMr2A3IiBYEioMMCYU6iyQuoFBVHY96pcXr56/bpFugektYRQtshxF59/+9cnz1ukb59lqj/gc/P4aWSKsNtD2C3RtQTrrUGkAamrfiwmmAZvNg+j653ekuppAFM6hO56P41MbbYvp+ibZG7sqYusRNUh4E230wmpoR0qIHWsZ9vVZRSC1w4I94XfLFvS04RBXDoAwJD89zPlWoNnMuUsfFDXxIokD/gilcpQscXbV3Ju8TddrcfF271b2Vbx53VP3rws2zqixvZawu7PTYPjKdUrERA3l1C/qwJL3slnKGxMCg1wDbLWKoUuRT3oknJDBL2AQoDjOxxdeepLqkJvqbhh72A+dNe8IBIFr/URF9q861T8bU/zzLzjCwaBub4+2NpXXkdsbL06wJLpWvAJqIHG7trZrlluxanOWrn6hYEL4X1IXlKeQDIYSZD4AbGuWVABk1Cygh6hDaMh5sSvq74rDurrUzqmUnlMr58CN8cMOHDnQHnORZoZgvcZY8dCoy8vnUYmBYrCyxxBJ+eHdnNdbgycFIiYTw1MIMw4VuPOnK1SauKx49TJ6y104+XGJOhMcKxgxVUbmA2kk+LjDY6VLHzOA+N+vH5V2Fjh2VonfYtI8QxjO27dkMj2nqLdItfVN3bchC78kNoblaH9v+0QWyBjp1KmgL0NlAjom6AClDag6CF4LrwwqVtY88zWwO7c9N75Wqlxx5SYuDdE6Jdu22ek94/00mLqNDM82UhwzOw/sNVePQdFOb6PNdW7N2fy6OFl/2Tk5x835GptEHcmBxuk+Ue7+DxoXh5uc7w+YjgTsr8S4eHYub5B7PdpN6BHbNA/6R2zswF9fDLonoWDfvds0A0ff73c24bcpvA33XxCmBIzwsR6ohTFXmKO+m6vewDjr+eRRzMzaozHwf0dvhHnL4+637tlUWAit/xW+6D9ww4ofvQ+k2Z0Vx459Scj9V1x27nZgXjpXthS/O4SjvE4U+e3wN0RYhIQ7Un8t7bwrS3srS0E+24Ld4KjX17Kf6G0eIu/FBYB23dq8PDyE1Ij/3WeM+l9S4dvKFFFiQuaZGy/SPHpO3+aGTMaRNQ/PQoDenxyHJwMTo/OTvu0N2C+7x8FweAnSNFPnS2jRFKcLk9uGy7vFKOf02gZwFhIqpiKONiDtRqVzeZW+3Nn0PsK+38aVvOPq/bPIgm+yq1O+WFds+t6dddfa7nt68u//wHRo8y+\", \"compress_html_9482222cf982484e9538dd38096a7f16\");</script><span style=\"color: #aaaaaa; font-family: monospace\">(Loading...)</span></div>"
      ],
      "text/plain": [
       "<IPython.core.display.HTML object>"
      ]
     },
     "metadata": {},
     "output_type": "display_data"
    },
    {
     "data": {
      "text/html": [
       "<div id=\"compress_html_c045b89b5bf14873b7e5620c892d8c86\"><script>window.treescope_decompress_enqueue(\"eNrtWlmP2zYQ/isDBY2lRFYs38faQJv0IS95KPoWBAJF0pZqmlQkeo8G+987pHzJ9nq9202CFl5grZU493yc4Vh7xdJrKPSd4GOHpUUmyN0QpJLcgZSNnanKI8anPM85i5pN0qCkxTvNXtjmgw7p9jqNAes0G4NOg3WZM7kqMiLx08ibBLHSWi1EKvlQKu0GUyUYiQWPpGJ8mJDCnQgSczGprkRazWai5BnShNM5Z54Hbzz4BhlhLJWzulbZEBpB2OGLERgN9YSns0QPIQzss/uAKoHGkzjO+TVy2tshvOr20YvGloCqxYJLHd0kXEb8Fu1nnL2YvWutxP5stGIwjdFbglgQOh9BjJ+zXC0lq68Wrknu1uuxUHRePvKQSuWM52UMwuwWCiVSdoqyTMRjxPcQJHcZz9GyeZTzhdI8StQ1z2Hf6EMz1VzQxO23fzFJaXcgbAxKiTekiAqaKyGQXatgmuaFjnRK52dLHbSD0MhtDCBsdYPeUcE2+ifVeQcKdU5kkepUyeGBcggL4KTg9VTW1VL7MFVS128syPbWTFYTmkSIfcojwad6B6jm1iC1Q5MqXW4lbQnzEr4bykITA6SIJqlgOZcb48ucwgSqJC8G2U0VsOgYwYLkM3S0dIQSQd0mTaCOlrZpUubiEVu/m2kreJemlcC2Vh2Fd6V0WD8w1iKBN+CG6M4uy0pugVTc87xNDLas9fN513rXm9BybkSun9ZXj39gNLdlxEawnhOWLouVgyFfoHcPO2Yt/XdGPArxb5VKV+bXlLAzKt1p4vsAJX6XvrRN8onWdPWubJC2WwIVpCjGju0/tgDpPM1WrXTdmSsOYDthcb/dIaNjqUHdI6cquuIFpEVUVkUlbSFE4tLbq1RmSw0ae8DYsf7F6tY5KmQVCmR9Z5mq+rZdRCPIuXaAEU3qc36XEZ2MnT3zKlV5lRioFlTnnFitFr8uiZBkwaMs59P01plkXP5N0kDnnBdUZRxhlqElBba3KRHCVP4AU2JPLuXlk9J/rKVnxmm3un71bhWxHb01IzVeYvplDZR8L7DnjGtbpQkeLDB6hiqiZtHVSVp4tTI25vHYcQVZxIxArhTCxXx6zhYCG8Ih1I5Q1kawoiESIUrKvlZ7jwxg4o5/bw5oVW92o7e/J6G6J50T1AekCntaKonAw0SWj58EkaDCewwwUYHZkTNn8vrVbbM3+jXPyZ37ueFD6EPTh5YPbR86PnR96PnQ92HwxQdmwZ1K3Wp6JV81FP4hzFCZIFnB8XQLxwJWOTc6PwAS1dCcD5A9vufD5UzwPAwHHCyeCYaUHYWCXC5ioyFsNNqtfr8fdlv9ZqP/X85typ6TWeT6iXm1m+uZmTW8p9rWy3epE+OfcxIGr45i5aDt/EVu123FFqcTveMU0JwUn0m9U5JPrjuTl0vA7gSNdVbokV2AsnIa/6xj5e3rmR6dgNBP3ErGs+dsJsv3Utvp3K22Fyf/EsuzwlY5Q26/d4K9eduZeE/LBJr54EHzcHtstsTTDiKHO2d9Yen15OoJ39BNO1MS91uMknavTXudfmvQbxIcReI4blHa2X5Dd5k8LpPHZfJ4yckj8OH472a7T4Uil8njfz159LvdsNO9TB6XyeMyeVwmj8vkcZk8fvzk8YSDyCOTR0FRt564rgfjCXyjShZY/+x2/sgKGMNn5/x/DvDBOX9O+TLCuQZcwTWkqKcxwsvVVnUguJzpBJ++fWtevxi6chGJmaJLU1kDvP1dcPPnb3cfmbvh/px+8UaWp1DLnPIPOGA9zGYnLAfewh5/eRtkBAuj/oRFP8DTjcCEvzfV0N2ILt9BryTaNX/Fi0K2VOaF+zV37Yu1e89cMRdl/Nd5uMGCq252xgkuvy75kn9YhfVPvkADNC9cb8P7DxWb6EQ=\", \"compress_html_c045b89b5bf14873b7e5620c892d8c86\");</script></div>"
      ],
      "text/plain": [
       "<IPython.core.display.HTML object>"
      ]
     },
     "metadata": {},
     "output_type": "display_data"
    },
    {
     "data": {
      "text/html": [],
      "text/plain": [
       "OrderedDict([((DictKey(key='b'),),\n",
       "              <jax.Array([0, 1, 2, 3, 4, 5, 6, 7, 8, 9], dtype=int32)>),\n",
       "             ((DictKey(key='c'), SequenceKey(idx=1), DictKey(key='value')),\n",
       "              <jax.Array([0., 0., 0., 0., 0., 0., 0.], dtype=float32)>)])"
      ]
     },
     "execution_count": 44,
     "metadata": {},
     "output_type": "execute_result"
    }
   ],
   "source": [
    "selection.get_by_path()"
   ]
  },
  {
   "cell_type": "markdown",
   "metadata": {
    "id": "fFsp4DQ5pmMu"
   },
   "source": [
    "If you know there's exactly one value, you can just call `.get()`"
   ]
  },
  {
   "cell_type": "code",
   "execution_count": 45,
   "metadata": {
    "execution": {
     "iopub.execute_input": "2024-04-17T19:20:18.505283Z",
     "iopub.status.busy": "2024-04-17T19:20:18.505068Z",
     "iopub.status.idle": "2024-04-17T19:20:18.514380Z",
     "shell.execute_reply": "2024-04-17T19:20:18.513769Z"
    },
    "id": "hYFSKPPinEdk"
   },
   "outputs": [
    {
     "data": {
      "text/html": [
       "<script> /* penzai.treescope rendering of a Python object (compressed) */ (()=>{ let observer; let lastStep = new Promise((resolve, reject) => { observer = new IntersectionObserver((entries) => { for (const entry of entries) { if (entry.isIntersecting) { resolve(); observer.disconnect(); return; } } }, {rootMargin: \"1000px\"}); }); window.treescope_decompress_enqueue = (encoded, destId) => { const previous = lastStep; const destElt = document.getElementById(destId); lastStep = (async () => { await previous; let blob = new Blob([ Uint8Array.from(atob(encoded), (m) => m.codePointAt(0)) ]); let reader = blob.stream().pipeThrough( new DecompressionStream(\"deflate\") ).pipeThrough( new TextDecoderStream(\"utf-8\") ).getReader(); let parts = []; while (true) { let step = await reader.read(); if (step.done) { break; } parts.push(step.value); } let newElt = document.createElement(\"div\"); newElt.innerHTML = parts.join(\"\"); destElt.parentNode.replaceChild(newElt, destElt); for (let oldScript of newElt.querySelectorAll(\"script\")) { let newScript = document.createElement(\"script\"); newScript.type = oldScript.type; newScript.textContent = oldScript.textContent; oldScript.parentNode.replaceChild(newScript, oldScript); } })(); requestAnimationFrame(() => { observer.observe(destElt); }); } })(); </script><div id=\"compress_html_11e6405b3c2c4d04b6485fa76015ce0c\"><script>window.treescope_decompress_enqueue(\"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\", \"compress_html_11e6405b3c2c4d04b6485fa76015ce0c\");</script><span style=\"color: #aaaaaa; font-family: monospace\">(Loading...)</span></div>"
      ],
      "text/plain": [
       "<IPython.core.display.HTML object>"
      ]
     },
     "metadata": {},
     "output_type": "display_data"
    },
    {
     "data": {
      "text/html": [
       "<div id=\"compress_html_79b2342d1e954411ba3c926835ff5aef\"><script>window.treescope_decompress_enqueue(\"eNrtWEtv2zgQ/iuEiq2l1lYtPxI/YgO76R566WGxtyIQKJG2uKZJlaKdpEX++w5J2bJsx3HTtMUCG4BWJM4MhzPfPMgrwtao0PecTjzCipzj+xESUlAPMTLxZlLFhM6oUpTESe9yMEy6EZ11k95sSIaXpBMlw0vau+gNurMLb3pV5FjAr5E3DROptVxyJuhISO2HM8kJTjiNhSR0lOHCn3KcUD6tz8Razufc8YzSjKYLSoIAvQnQV5RjQpiYt7TMR6gdRn26HCOzQiujbJ7pEYpC++0hTCUH5XGSKLoGTvs6Qq8uBh3cblcEqVwuqdDxbUZFTO9Af0LJi+m7WRXbv2pVsVomVO0QtIeDqH+xJQBrm11VBAnH6WKMEvidK7kSpFVOrLHyW62Ey3ThPgVAJRWhyhkpyu9QITkjpyidp54ifkBhdp9TBZotYkWXUtM4k2vYx77Sh2rKBU8zf9D7zXit10dRe+gk3uIiLlIlOQd2LcMZU4WONUsXZ0sd9sLIyG0PUdS9CC+PCrbuOblccLCgVlgUTDMpRgeLo6hAFBe0xURLrnQTzaTQrVuLwr0549UszWIIjpTGnM70DpLNq4FyP83qdMpKqgiVw/eW8vMKc4GXNM4VnbE7oLQaFOwLNVQDFwWFxgaPcZoxThQV2y06z6MpqpO8GPK3ycRiaIyWWM3BHG67Keap30kz1AJNe2nmPPaErj9MtTIInGoO/laro0FQy0B2H+ARnqE3yI9gO7sspdwCqGgQBFsbVKyt83k3625C1XJuRW6+tsrPP9GaVbKxFmwpTNiqKDcY0SXs7vGNWU2/T4knIf61lg+df02iOyMfniZ+CEHiDylvlZNPVThbsmxK0orlu8A2BdyaVitKi1TmkE6k1OGWOF6CJuiEBCbMmi6RGiLQ9knCcxZ7VE6p8tU71zzYTgKlHBfFxKurWbYZm66l5hWopCQZ9Pp4fAxvYLuxVxddcw3MOY9dMZGvNNJQ7Sae9VEi77yjPKU7gfWdZaqLr+qlhkCl2kMEa9xa0Psc62zi7WlTqz8luFC9dHjnmKac3CsR3jSn4gtmlaMgVHLQpIBCPsOcmxoXggdsE+ceH6X+ayM9N5v26/NX70qL7azbMFKTFUBYNJAU1xyq66RRLZpBjwXWM1RxaiZ9nbEiaDjbmM8Tz+d4mRCMDJJG9jfwKo9vCUeocYSyMUYlDRYAOOwqeOMaGJCxO/y/7VXru9m13n5eQfW84p2gPiCVUL2ZwBzaplxNvgkiYY33GGDiArwj5t709au7zuX4d6Xwvf8JtZsIRTA6MLowejD6MC5gXMIYwBg2oRODEd00EbFwZ0J3O4GTVDdO8xB4sDzHeUGJN0XHTFhrqr2fAJK6sc6HzB7f8wF0JpweBwicup4JD0aOgsMdNbxp1G73uoPBoNPvdTqDwX/Zt4w8x7PA9Qv9aoPrmZ41vD+3bp04G3snYfDqKFYOCtE/+G5TaGy6OlFNTgHNY/BN6J0kfXLem76cA3avFyDzcj22E8hlTrM/uzH3+nquxycg9AtDyezsOcFk+V4qnM4NtT07Nf+35Vlmq3WV1aUc2rtr8KbBt3mi1ss/GR7bkPje1uQwljYPwtagRQra6KnvB2gyRV9TKQrIiDbAP5ACTdAn7/wbzZvxTCrkc6oRA9b2GB5XlbSQUzHXcN5mb9+a85uhc5NATGS6MukzhNc/OTX//nH/gfhb7k/sBk6RhqeQK5XS92x9gs3exXroLdrjd69hjiH76Y+Q2UNoYTh49dqkPH8r2l11lRLtXLPkBSEVlbnXW1PfnswfAvME8zqTbkx7C1lV3u6cIqj4vKIr+r406990CQpoWvjBlvdfW//arw==\", \"compress_html_79b2342d1e954411ba3c926835ff5aef\");</script></div>"
      ],
      "text/plain": [
       "<IPython.core.display.HTML object>"
      ]
     },
     "metadata": {},
     "output_type": "display_data"
    },
    {
     "data": {
      "text/html": [],
      "text/plain": [
       "{'value': <jax.Array([ 0,  1,  2,  3,  4,  5,  6,  7,  8,  9, 10, 11], dtype=int32)>}"
      ]
     },
     "execution_count": 45,
     "metadata": {},
     "output_type": "execute_result"
    }
   ],
   "source": [
    "pz.select(my_nested_object).at(lambda root: root[\"c\"][0]).get()"
   ]
  },
  {
   "cell_type": "markdown",
   "metadata": {
    "id": "MkI4lVkKxvSX"
   },
   "source": [
    "You can also get the selected objects in a dictionary form by accessing the `selected_by_path` attribute, which is how selections store their selected nodes internally:"
   ]
  },
  {
   "cell_type": "code",
   "execution_count": 46,
   "metadata": {
    "execution": {
     "iopub.execute_input": "2024-04-17T19:20:18.517906Z",
     "iopub.status.busy": "2024-04-17T19:20:18.517702Z",
     "iopub.status.idle": "2024-04-17T19:20:18.529921Z",
     "shell.execute_reply": "2024-04-17T19:20:18.529155Z"
    },
    "id": "UNJ6Zq-7x1px"
   },
   "outputs": [
    {
     "data": {
      "text/html": [
       "<script> /* penzai.treescope rendering of a Python object (compressed) */ (()=>{ let observer; let lastStep = new Promise((resolve, reject) => { observer = new IntersectionObserver((entries) => { for (const entry of entries) { if (entry.isIntersecting) { resolve(); observer.disconnect(); return; } } }, {rootMargin: \"1000px\"}); }); window.treescope_decompress_enqueue = (encoded, destId) => { const previous = lastStep; const destElt = document.getElementById(destId); lastStep = (async () => { await previous; let blob = new Blob([ Uint8Array.from(atob(encoded), (m) => m.codePointAt(0)) ]); let reader = blob.stream().pipeThrough( new DecompressionStream(\"deflate\") ).pipeThrough( new TextDecoderStream(\"utf-8\") ).getReader(); let parts = []; while (true) { let step = await reader.read(); if (step.done) { break; } parts.push(step.value); } let newElt = document.createElement(\"div\"); newElt.innerHTML = parts.join(\"\"); destElt.parentNode.replaceChild(newElt, destElt); for (let oldScript of newElt.querySelectorAll(\"script\")) { let newScript = document.createElement(\"script\"); newScript.type = oldScript.type; newScript.textContent = oldScript.textContent; oldScript.parentNode.replaceChild(newScript, oldScript); } })(); requestAnimationFrame(() => { observer.observe(destElt); }); } })(); </script><div id=\"compress_html_111b3280c42f46b4940a836c28663e8c\"><script>window.treescope_decompress_enqueue(\"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\", \"compress_html_111b3280c42f46b4940a836c28663e8c\");</script><span style=\"color: #aaaaaa; font-family: monospace\">(Loading...)</span></div>"
      ],
      "text/plain": [
       "<IPython.core.display.HTML object>"
      ]
     },
     "metadata": {},
     "output_type": "display_data"
    },
    {
     "data": {
      "text/html": [
       "<div id=\"compress_html_4932f5d3678349d7b0cbfec0d85a73be\"><script>window.treescope_decompress_enqueue(\"eNrtWltv2zYU/isHKlZLraxatuz4DmztHvrSh2FvRSFQFG1ppklVonNZkf++Q0q+yHYcJ0tbbHCAWJF47ufjOTxyxnF6DYW642xixWmRcXI3BCEFsyCNJ9ZM5mHMZizPWRwGvSAY+D6hg6gdBLRLGOm1/TbpXfktQnu+NR0XGRH4qeVNvUgqJZc8FWwopLK9meQxiTgLhYzZMCGFPeUkYnxaXwmVnM95yTOkCaMLFjsOvHHgG2QkjlMxbyqZDaHl+V22HIHW0ExYOk/UEHzPPLv3qORoPIminF0jp7kdwqtev01arS0BlcslEyq8SZgI2S3aH7P4xexdayXmZ6MVg6mN3hJEnNDFCCL8nOdyJeJmtXBNcrvZjLiki/KRg1Qyj1lexsDPbqGQPI1PUZaJeIz4HrzkLmM5WrYIc7aUioWJvGY57Bt9aKZccJrY/eAXnZSgC35rUEq8IUVY0FxyjuxKerM0L1SoUro4W+og8HwttzUAv9Pzro4KNtE/qc45UKhyIopUpVIMD5SDXwAjBWumoilXyoWZFKp5Y0C2t6azmtAkROxTFnI2UztA1bcaqV2a1OlyI2lLmJfw3VAWimgghTRJeZwzsTG+zClMoU7yYpDdVAGDjhEsST5HR0tHKOHUbtMEmmhpQJMyF4/Y+t1Mq+BdmlYC21h1FN610mH8wFjzBN6A7aM7uyyV3AKpmOM4mxhsWZvn8671rjeh4dyIXD9tVo9/YDS3ZcREsJmTOF0VlYM+W6J3DztmLP13RjwK8W+1SlfmV5ewMyrdaeJ7DyV+l760TfKJ1jR+VzZI0y2BclIUE8v0H1OAVJ5mVStdd+aaA9hO4qgfdMnoWGpQ98iqi655AWkRllVRClMIkbj0dpyKbKVAYQ+YWMa/SN5aR4VUoUDWd4aprm/bRRSCnCkLYqJIc8HuMqKSibVnXq0qV4mBekG1zolVtfh1RbggSxZmOZult9Y0Y+JvknoqZ6ygMmMIswwtKbC9zQjnuvJ7mBJzcikvn6T6Yy09007b9fXxuypiO3obWmq0wvSLBkjxnmPPmTS2ShM8WGD0NFVI9aKtkrRwGmVs9OOJZXOyjGICuZQIF/3pWFsIbAiH0DhC2RhBRUMEQpSUfa3xHhlAxx3/3hzQ6t7sRm9/T0J9T1onqA9IJfa0VBCOh4ksnzwJIl6N9xhgwgKzI+bW9PWr2/bV6Nc8J3f255YLvgttFzouBC50Xei5cOVC34XBFxdiA+5UqE7bKfnqoXAPYYbKOMkKFltTOBaw2rnR+gGQqIfmfIDs8T0fLmeC52E44GDxTDCk8VEoiNUy0hr8Vivo9Pt9v9fpt1v9/3Ju0/g5mUWun5hXs7memVnNe6ptvXyXOjH+WSdh8OooVg7azl/kdt1WTHE60TtOAc1K8ZlQOyX55Lo1fbkE7E7QWGe5GpkFKCun9s84Vt6+nqvRCQj9xK2kPXvOZjJ8L7Wdzt1qe3FyL7E8K2y1M+T2vRPszdvW1HlaJtDMBw+ah9tjsyWedhA53DnrS5xeT8dPeEPX6VM2mxHS8a/0C7ou8VtXvXbABpSSqBf0tm/oLpPHZfK4TB4vOXl4Lhz/3Wz3GZfkMnn8ryePfq/nd3uXyeMyeVwmj8vkcZk8LpPHj588nnAQeWTyKCjqVlPbdmAyhW9UigLrn9nOH+MCJvDZOv+fA1ywzp9TvoxwrgGbMwUp6mmN8DLeqvY4E3OV4NO3b/XXL5quXETiWNKVrqwe3v7Omf7zt7uPsb3h/px+cUaGp5CrnLIPOGA9zGYmLAvewh5/eetlBAuj+oRF38PTDceEv9fV0N6ILr+DriSaNbfiRSFbKv2F+zWzzRdr946+Yi7K+K/zcIMFV97sjBNMfF2xFftQhfVPtkQDFCtsZ8P7D1jN57g=\", \"compress_html_4932f5d3678349d7b0cbfec0d85a73be\");</script></div>"
      ],
      "text/plain": [
       "<IPython.core.display.HTML object>"
      ]
     },
     "metadata": {},
     "output_type": "display_data"
    },
    {
     "data": {
      "text/html": [],
      "text/plain": [
       "OrderedDict([((DictKey(key='b'),),\n",
       "              <jax.Array([0, 1, 2, 3, 4, 5, 6, 7, 8, 9], dtype=int32)>),\n",
       "             ((DictKey(key='c'), SequenceKey(idx=1), DictKey(key='value')),\n",
       "              <jax.Array([0., 0., 0., 0., 0., 0., 0.], dtype=float32)>)])"
      ]
     },
     "execution_count": 46,
     "metadata": {},
     "output_type": "execute_result"
    }
   ],
   "source": [
    "(\n",
    "    pz.select(my_nested_object)\n",
    "    .at_subtrees_where(\n",
    "        lambda subtree: isinstance(subtree, jax.Array) and subtree.size <= 10\n",
    "    )\n",
    ").selected_by_path"
   ]
  },
  {
   "cell_type": "markdown",
   "metadata": {
    "id": "ebPObknTmCAo"
   },
   "source": [
    "### Partitioning PyTrees\n",
    "\n",
    "You can use `.partition()` to split a selected object into two parts, one containing only the selected subtrees, and one containing everything else:"
   ]
  },
  {
   "cell_type": "code",
   "execution_count": 47,
   "metadata": {
    "execution": {
     "iopub.execute_input": "2024-04-17T19:20:18.533452Z",
     "iopub.status.busy": "2024-04-17T19:20:18.533228Z",
     "iopub.status.idle": "2024-04-17T19:20:18.536901Z",
     "shell.execute_reply": "2024-04-17T19:20:18.536049Z"
    },
    "id": "H-CcdaMyqq3M"
   },
   "outputs": [],
   "source": [
    "selected, rest = (\n",
    "    pz.select(my_nested_object)\n",
    "    .at_subtrees_where(\n",
    "        lambda subtree: isinstance(subtree, jax.Array) and subtree.size <= 10)\n",
    ").partition()"
   ]
  },
  {
   "cell_type": "code",
   "execution_count": 48,
   "metadata": {
    "execution": {
     "iopub.execute_input": "2024-04-17T19:20:18.540116Z",
     "iopub.status.busy": "2024-04-17T19:20:18.539901Z",
     "iopub.status.idle": "2024-04-17T19:20:18.552892Z",
     "shell.execute_reply": "2024-04-17T19:20:18.552170Z"
    },
    "id": "DaUwe2Iyq6ko"
   },
   "outputs": [
    {
     "data": {
      "text/html": [
       "<script> /* penzai.treescope rendering of a Python object (compressed) */ (()=>{ let observer; let lastStep = new Promise((resolve, reject) => { observer = new IntersectionObserver((entries) => { for (const entry of entries) { if (entry.isIntersecting) { resolve(); observer.disconnect(); return; } } }, {rootMargin: \"1000px\"}); }); window.treescope_decompress_enqueue = (encoded, destId) => { const previous = lastStep; const destElt = document.getElementById(destId); lastStep = (async () => { await previous; let blob = new Blob([ Uint8Array.from(atob(encoded), (m) => m.codePointAt(0)) ]); let reader = blob.stream().pipeThrough( new DecompressionStream(\"deflate\") ).pipeThrough( new TextDecoderStream(\"utf-8\") ).getReader(); let parts = []; while (true) { let step = await reader.read(); if (step.done) { break; } parts.push(step.value); } let newElt = document.createElement(\"div\"); newElt.innerHTML = parts.join(\"\"); destElt.parentNode.replaceChild(newElt, destElt); for (let oldScript of newElt.querySelectorAll(\"script\")) { let newScript = document.createElement(\"script\"); newScript.type = oldScript.type; newScript.textContent = oldScript.textContent; oldScript.parentNode.replaceChild(newScript, oldScript); } })(); requestAnimationFrame(() => { observer.observe(destElt); }); } })(); </script><div id=\"compress_html_55201d7da4f5458d9a91c485243f3670\"><script>window.treescope_decompress_enqueue(\"eNrtWv1y27gRfxWEmUZUa9GSLNmxZGnq5JJrOundtXE/bjwZDUiCIk4UwACQZCXj1+ij9K8+TZ+kC4CUSImWv+PLzJ1nTiS4X9hd/HaxkxOplgkZekoQIgOekpHgXKEvKOWSKspZDwmSYEXnpI8izlQjwlOaLHtoyhmXKQ5gfRFTRRrmpYdSASsJlaphRDfUMoVVxhks+ziYjAWfsbAR8ISLnmXto+zNT4AA5NFQxT0UUQVkTBGm+miKxZiyRkIi1UPtINY6GGnEhI5jWGl53T66PNm32zmRgaCpGiIaIXdBWcgX6x2iwWCAwAQSgYCwDnvdpkBfLvtby94oJSykbHwaaM9IIDv/eC3ZnzALEy2SzZKkglrM2AfOGRC4Cy4mdTQYgkmwb6lQyP8JS/pTaVnRQC+mRERcTDELiMf4wq2bSIAud+sLalimE3TQ1juu8svm9ryEsLGKwV2oWeWl3fsURM0Eg5ggkkiyNj2eMW37tcplTCOlt2Q49MMl/N3UBjenFOTTjEh1yugUa4q3Ak+Ja/1a10KvD7OXzmRsY9O/ieNyIwbWFbdx3c3NrjScMOCake9IRIQg4RmZpnB0idxOoDTRiyEPZlM4XR6wieUHkpBAcXGaJK6jMt4iMMzYSEKmOnWNBAK5CTGSEI+MQL1R+PWCBEv5HgAAdjHlcwLCKmVcdRLc3FYtPxL8M9GHw0i2YFA213XsYdciNQe8FbcWCALbeJMQ/VakhSdPYxMQWyXmLVsnF+q1VVb4vF7sG3NSLOD5Bx6C6QS8FZDXcPxCFyTsaQIdpytjpfh4nFi0HRlEVGCYDpReIYnaQ2QO0jNX6LQz796ELPWJdISj/Z0RF3xu5brOSuZoCgY6uR2XCDDSguNJSOfIMA6cMvw7SGEfDCYXA6fpIM5AKVjPCnTV9rsqpjK33AEYtsXFoPtIAgUbmxw0YP8cH7S6LQ3bloCEIw3pa4KsGmwXjTkWbqPhJzyY2CXYnc9FSERD8RSKQXqBJE9ouIvS50rx6XXEl8iLIS0EWDYZ6XxWZBRDUgu0afS2mXySBLH7svM71PRanS5qNY+txAWWIwgCTxJgV9yLqJBqZAD6plKPO15Ly20eo9bBoXdUKbjHuHJ3qqtvKVQCs7zybypHLYkIlqQBhZjPIEVNQ7AwJXjjm45qmOHQyJyNmCfg9mL4j/Rf1lWYTOkhqnBCA80cATn2IcMYpO8V/QjsuEQ2skkJ1CGVoHSZ9x2bhGiIEuyTpNfzCUBZIeeeB+a/fqU+23w0Wrr7yHqUZn+tizLTkpgE2qHTpM+25hCLiSR4DCeMbXObUG4sxVi6QyNzWOkHw9MLYhJMoM+po9/X1zZo1mqmnL5koUG9Hqr979//rT2lcWWmK0z8z1cw0UAAqJ0JqYOXcgr6RYVeKh9OrTkGRlHDQKy8Kr8fRut6e7r0bWvxqBxZLOHMwsf2sdp1jLx2V5+kylChe5tvI75pot5V6SphDvOlFwfxyFxgRnpZG45D3aBlVE2vu0knDOqtCYW9iKwodf2EUIWjQDcFD5R/BWTLYKa0mQAngQuXI2j3oazZmlC2AzqWRzMlK6zWlBDKKwlNdX1OmvpPO+XTDCcMWtkR3BIjegFCLPrTz0S77iWZaioZY102Flgw8Owoz/0coqMIB62DCsIUOqitgJgAZ17KlhpZkNb1rWduk1g0xgKHVHeKrYNuSMZ7iEM9HBPUBOsOg3jP1kfb+dklZN28bcpW7j2Y40sxb6wybhETNgInJTiV4Pprq+Ctle/QYGufbUI0EblI4VJzJc1D2FGlItuoJVi31VWuKLe8XrlfRjskbG6VlTr4asKbKLtSTmbyH7PxS0DyY5OPYmp/gSuOoDhBH5ZTn8Pd7seZ0rrDWrm9YnookPSLfRsckGYTHTXheEoR9NBMJG6sVCp7+/uaTHpjqQC4A2gUp/tyf5qpklYTzxTtz1utzv7kz2/iV/Of/3X0aswmH8TfF2cvf4xF+NdFh795H/70jpB3747nh/ytfP/Lq9k/fvYWPIradWSGFcqtmdda/SFSBJy99GfQ4rPK6Bc+DxGcZ1bVSzj540iTO/1beB28608oEBsOuILOBGlIohSAA5TtWkLHeJNMTiE3YiDoIcwUCKbQT4eZVricUDMKKEp5++79+xpq7qHaAkJZQ52mfv7+b6ff1VDbPPNUftbP1Q2tuS3B5UTDbo6uOVhvtTYVSF30Y9YTVXizur1dc5oLSgB9P4RuxY8jVbot5H35Lp0bPGWVhag62VUvxAo3MIPUMZ6tF5e1Ej19KlyHqu5At9vKyoLXPKUkfFa2xKhEz+g05UJhtiXbF3xi8DddrhvQ671bYCv4c1WTN2emW5OK2EynDL/dGhogLJcsQK7VUB5Zwk7O+GutbIAyC/QaZK0xSrtU24EXmCrE8BwOguLCA8mpz7EIvYWgipxBx+muZelru5W1nnRAmXedgr/NUIeoMzolEJjVFGmLL59KbbBe7ukj0zTgE2AFhd013WK13oJTnbVx5bmRC+F9jt5iCvduOGpIEz9DxjVTzKATSpZQI6QiONQ58Yei77J5zXpYo1Mpn9aU75WbbYYzPLFAeUJZOlNIj7UGjoFGn184lUIyFIWPFkGHJ/uGuax3PQlR0IEQ5RiLGxOyTLGKB44z/AIGAwOwZyYU2GvrnKwhzl5r1w9qO/LMTJPqNbQ6HAPHTfDUD7GZe/XM/+sOMvk7cAqnCKCxglLj7eaZB0rjb70BeHasxcPVNuxP0Qlb/bSz67tzjQfLn4uDMmf44vlF+6iP7U/Zoh66VWDOa7j2Mde1cldh0tXL+tx+vpr18hJuFID3rX6VofnQaOPutHFF2uAs91UbHzeuB84wJewzpgAcguhxqzJIDM7xyu74gat37Ayy5aecxq1vhND+7G3bsmpnnSGqinep13S+QkabYF2R1i8+zbjqX8Vjv945y2+a8/fPaX9XTtNw4KxGh0E38Al5SQ67x2GndYj9drfdah90D3Dn+NjvHjk7kPFhgbAC0ZyqCSfsMVH9X/CFdyoE1givDtpuq7kHTannoRdj1f+GU9O/Q2r631JqBjeA20fMstuheqBR/fyr11yj+NZpENw/DR6vDle59rx5n5rZ/K1mfk1gsvG6S1JqtqeBp8fr4+8BKOetj0/Rx+e67xTB1q8YWa4vOXOczMiNO6IOtEMHXf+o22x2OofH2I+OfRJ2IuJ3OkfN6NE6ovt3QlHCse6Fjq5rhXZhyd6vCG9aH89rJni1u6btmv9BEcj+XH5zAP5kx/+h+stKQG3/1kZ8Q4e6fbccbD/KEf74bTnvKe4Eu5DvaV3yVUaT+U9I51eP8K/6h6HmqFqe/wOK+0Sk\", \"compress_html_55201d7da4f5458d9a91c485243f3670\");</script><span style=\"color: #aaaaaa; font-family: monospace\">(Loading...)</span></div>"
      ],
      "text/plain": [
       "<IPython.core.display.HTML object>"
      ]
     },
     "metadata": {},
     "output_type": "display_data"
    },
    {
     "data": {
      "text/html": [
       "<div id=\"compress_html_39847ac6f1fd4ab4bab7d1df8ae47ee4\"><script>window.treescope_decompress_enqueue(\"eNrtWVlv2zgQ/isECzRSKyu+5PgUsNvuQ1/6sNi3ohAocWxxQ5MqRafJFv3vOzp8KHEcJ01T7MIGbFnkzHCOb4YcacrFFcntjYQZ5SLPJLsZE6UVUCL4jM61iTjMwRjgURIkMcAQBsGI9zsDFneDbqfbC3qsPxrFwQUNp3nGFP4W8kI/1tbqpRQKxkpbx59ryVksIVKawzhluRNKFoMMmzOR1YuFrHjGSQrJJXDXJW9c8o1kjHOhFi2rszFp+50AlhNSrNBKQSxSOyYdvxz77idaovIsjg1cIWd5OyavBsMua7e3BIleLkHZ6GsKKoJr1J8DfzZ916uy8rNdVa2WMZgdgvZo2AkGBUFuWSEhSlIhuQFVceBArA1HnpA0SZ5N1034Y6mTywlZMrMQqiVhjm5NmEycbpKSFrq9n6Quqkoe0vWnqVaJr1XLtRS80opcMeO0WiVVq9QF9WxgprSj7QcyJW+I00FzdllquTlSgeu6Gx9sWVvH867XrdKggCtybkSuR1v18At6s9YUjSo92DKMi1VeG9iBJVp3v2Glpj+mxIMQ31VxHd9Odr03ujXl2p2Hib/7KPGnFKRtkA/UpOl5VRnLMkkSyfJ8RsvCY/RKcWtEVtfQdUluGIBlgsfDfsAm+0KDy0xoU3TDCpyrjJsKla0ssTcZLlCaE+trupenthxZz0umpvgUJRg09DKyiGmwlHBmWesSbjJm0xm9pc06yIVrSB0HkiZphEQJRAUU6TGuqSe/rJhUbAlRZmAurmmYgfqHCd8agDzRGSCqMtQktxDNmZQxYs7HCJQ7VHX5qO2fa+lZYbTTnJ+e1x7bWfeskBqvMNrqjGj1Torkcna2XTTFDQS9V1BFSTHp2FTk7lnlm2J4Rh3JljFnxGiN6Ch+XbqN+IZwTM72UJ5NSE3DFCKSWaEVUr5DBlL4Hf9vNuKmNbveu52CpJmC9AD1HVJtBFY0JiMDmZk9CiJ+g3cfYKIco6MWNHz96rp7MfnNGHbjfGp7pOORrkd6Hul7JPDIwCMXHhl6ZPTZI7wEt1C213UrvqYrvLsww8Uky3LgNCT7HNY4H9AXgETTNccD5Bbf0+FyJHjuhwMeIJ8IBsH3QqE6NdGw0273e8PhsDPoDbvt4X85toI/JbLI9QvjWibXEyNb8L7sLnXgmE8PwuDVXqzc2Xb+ZtfrbaUsTgf2jkNAowLHlN0pyQfnafh8AdjtlLDOSjspJ0hVOQv7SsOq29cLOzkAoV+YSoVlT0mmku+50unYVLvlJ+/ky6Pc1jhDbp8v7BwjTXHkpqH7uEigmvceNO+mxyYlHncQuZs56wsXV+H0EU9i+gDDXhBfBLgR9gcjFs9HMfD+HOJ+/6I933kSc2o0To3GqdH4gUbD98j+7ya751KzU6Pxv240hoNBJxicGo1To3FqNE6NxqnRODUaL99oPOIg8kCjkSe4tg0dxyWzkHxLtMqx/pXp/IHnZEY+0ePf+XqEHt+WfJ5gG0McCZYIXKc9wct0u7QvQS1siqNv3xYvVwq6ahKJuU5WRWX18fYPCcXf328+cGfD/Ul8diclT65XJoH32E/dz1Y2VJS8Jbf4q1s/Y1gY7Ucs+j6ebiQG/F1RDZ2NaH8uTL6WWM55NS8K2VIZWOorcMrXZt/d4oqxqPy/jsNXLLj66047AerLClbwvnbrX7BEBSzkjrvh/RcT3SRM\", \"compress_html_39847ac6f1fd4ab4bab7d1df8ae47ee4\");</script></div>"
      ],
      "text/plain": [
       "<IPython.core.display.HTML object>"
      ]
     },
     "metadata": {},
     "output_type": "display_data"
    },
    {
     "data": {
      "text/html": [],
      "text/plain": [
       "{'a': NotInThisPartition(),\n",
       " 'b': <jax.Array([0, 1, 2, 3, 4, 5, 6, 7, 8, 9], dtype=int32)>,\n",
       " 'c': [NotInThisPartition(),\n",
       "  {'value': <jax.Array([0., 0., 0., 0., 0., 0., 0.], dtype=float32)>},\n",
       "  NotInThisPartition()]}"
      ]
     },
     "execution_count": 48,
     "metadata": {},
     "output_type": "execute_result"
    }
   ],
   "source": [
    "selected"
   ]
  },
  {
   "cell_type": "code",
   "execution_count": 49,
   "metadata": {
    "execution": {
     "iopub.execute_input": "2024-04-17T19:20:18.556346Z",
     "iopub.status.busy": "2024-04-17T19:20:18.556085Z",
     "iopub.status.idle": "2024-04-17T19:20:18.567651Z",
     "shell.execute_reply": "2024-04-17T19:20:18.566834Z"
    },
    "id": "n-y-RvcSq7V-"
   },
   "outputs": [
    {
     "data": {
      "text/html": [
       "<script> /* penzai.treescope rendering of a Python object (compressed) */ (()=>{ let observer; let lastStep = new Promise((resolve, reject) => { observer = new IntersectionObserver((entries) => { for (const entry of entries) { if (entry.isIntersecting) { resolve(); observer.disconnect(); return; } } }, {rootMargin: \"1000px\"}); }); window.treescope_decompress_enqueue = (encoded, destId) => { const previous = lastStep; const destElt = document.getElementById(destId); lastStep = (async () => { await previous; let blob = new Blob([ Uint8Array.from(atob(encoded), (m) => m.codePointAt(0)) ]); let reader = blob.stream().pipeThrough( new DecompressionStream(\"deflate\") ).pipeThrough( new TextDecoderStream(\"utf-8\") ).getReader(); let parts = []; while (true) { let step = await reader.read(); if (step.done) { break; } parts.push(step.value); } let newElt = document.createElement(\"div\"); newElt.innerHTML = parts.join(\"\"); destElt.parentNode.replaceChild(newElt, destElt); for (let oldScript of newElt.querySelectorAll(\"script\")) { let newScript = document.createElement(\"script\"); newScript.type = oldScript.type; newScript.textContent = oldScript.textContent; oldScript.parentNode.replaceChild(newScript, oldScript); } })(); requestAnimationFrame(() => { observer.observe(destElt); }); } })(); </script><div id=\"compress_html_127f3494384a46f295f5b77e22c30d01\"><script>window.treescope_decompress_enqueue(\"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\", \"compress_html_127f3494384a46f295f5b77e22c30d01\");</script><span style=\"color: #aaaaaa; font-family: monospace\">(Loading...)</span></div>"
      ],
      "text/plain": [
       "<IPython.core.display.HTML object>"
      ]
     },
     "metadata": {},
     "output_type": "display_data"
    },
    {
     "data": {
      "text/html": [
       "<div id=\"compress_html_483c56647a934d1cba05e96787173e00\"><script>window.treescope_decompress_enqueue(\"eNrtWG1z2jgQ/isaZ6bYDTjgQEN58cxdex/6pR9u7lsm45GtBesiJFcWBK6T/34rvwBOCKVpms7NHDPCWNpd7T77aCUxYXxFcrMRMHUYzzNBNyMilQSHcDZ1ZkpHDGagNbCoPxxeBQmNu7Nutw8BDINZPwjoVZ91B/33g5kTTvKMSvy29kI/VsaoheASRlIZ158pwWgsIJKKwSiluRsKGoMImyORUfO5KHVGSQrJLTDPI2898pVklDEu5x2jshHp+r0BLMbEztBJgc9TMyI9v+i79xMl0HkaxxpWqFm8jsjZu2FAu92dQKIWC5AmuktBRrBG/xmwF/O3npUWHztrbqgViJKUC6ZBlm5gR6w0A01C0hR5MVe22Y2FSm7HZEH1nMuOgBmillCRuEGSkg6i2k9SD10l3/L1p7lWmq9cy5XgrPSKrKh2O51CqlP4gn42KFHE0fUHIiVvidvDcPZVKrs5SoHneVsMdqqd03XreUuWWzai5tZk3dupul8RzcpTDKpAsKMp48u8CrAHC4zu6cAKT3/MiW9SfN/FOr+9bH0wu5VkDedx4XsfLf6UerNL8pGSM7koC19RBUkiaJ5PnaKuaLWUzGieVSWyrriNALBMsHjYH9DxodTgNGOnaboRBY6VwU24zJaGmE2GExThxGrtHNSpIkfVi0KpaT5FCxoDvY0MchqMQxg1tHMLm4yadOo88KZOsoWGVHkgaZJGKJRAZKnonAJNNfhlSYWkC4gyDTO+dsIM5D+U+0YD5InKAFmVoSe5gWhGhYiRcz5moNiAysdnZf6srWc2aLc5PrmoENubt2WtxkvMtmwRJT8IntxOW7tJU9wfED0rFSV20DUpz71WiY3tnjquoIuYUaKVQnbYb8/ZZXwrOCKtA5KtMalkqERGUsOVRMkPqEAs7vh7u882o9lH7+ESJM0l6ByRfiSqNMeKRkWkIdPT76KI39A9RJgox+zIuRO+OVsHV+PftKYb95p024T0sAXYLrH1sQ2wvcN2hW2I7X2b9FCu17tpE1bQnUtzGXilpSY47cfEw+kFzXJgTkgOQdg4EDivQJImWKdT5oHe8wl0Ip2eJgieGJ9JD84OkkMuF7GdoYcHzsvhcBgM8MA5HP6Xc8vZczKLWr8wr8XiemZmre7r7ltHzvXOURqcHeTKo43ob7quN5qiXB3ZTY4RzeHYJ81ekT467oQvl4D9qxFWXmHGxQApK6eNrwisfH0zN+MjFPqFS8lG9pzFVOi91HI6dak9wKn9P5YnwdY4Ve7+UNg7WGp7CHdC7/sygW4+efR8vDy2S+JHjyaP11L9YHyFXiTojQld1yPTkHxNlMyxIhYL/BPLyZRcO6f/G3MznilNXAGGcFTtjvEx2VnzBci5waspPz+3Vx0rVw6iMFPJ0pZPH1//EGB//r75xNyt9jW/wQuX1cnVUifwka+OqBX/IznknDzQL1/9jGL1M5+xsvt4hBGY1Q+25Llb0/6M67y2WIy1K100spPSsFArcItL7L1nnwhvCWkN7R1WVXW3d4sA+WUJS/hYwfoXLNABA7nrbXX/BWx4r9c=\", \"compress_html_483c56647a934d1cba05e96787173e00\");</script></div>"
      ],
      "text/plain": [
       "<IPython.core.display.HTML object>"
      ]
     },
     "metadata": {},
     "output_type": "display_data"
    },
    {
     "data": {
      "text/html": [],
      "text/plain": [
       "{'a': 1,\n",
       " 'b': NotInThisPartition(),\n",
       " 'c': [{'value': <jax.Array([ 0,  1,  2,  3,  4,  5,  6,  7,  8,  9, 10, 11], dtype=int32)>},\n",
       "  {'value': NotInThisPartition()},\n",
       "  {'value': 3}]}"
      ]
     },
     "execution_count": 49,
     "metadata": {},
     "output_type": "execute_result"
    }
   ],
   "source": [
    "rest"
   ]
  },
  {
   "cell_type": "markdown",
   "metadata": {
    "id": "lIj7wg-oqv1t"
   },
   "source": [
    "You can then process the two parts independently, and then recombine them into a single object using `pz.combine`:"
   ]
  },
  {
   "cell_type": "code",
   "execution_count": 50,
   "metadata": {
    "execution": {
     "iopub.execute_input": "2024-04-17T19:20:18.571118Z",
     "iopub.status.busy": "2024-04-17T19:20:18.570878Z",
     "iopub.status.idle": "2024-04-17T19:20:18.621880Z",
     "shell.execute_reply": "2024-04-17T19:20:18.621024Z"
    },
    "id": "8SoBMXJmrBgY"
   },
   "outputs": [
    {
     "data": {
      "text/html": [
       "<script> /* penzai.treescope rendering of a Python object (compressed) */ (()=>{ let observer; let lastStep = new Promise((resolve, reject) => { observer = new IntersectionObserver((entries) => { for (const entry of entries) { if (entry.isIntersecting) { resolve(); observer.disconnect(); return; } } }, {rootMargin: \"1000px\"}); }); window.treescope_decompress_enqueue = (encoded, destId) => { const previous = lastStep; const destElt = document.getElementById(destId); lastStep = (async () => { await previous; let blob = new Blob([ Uint8Array.from(atob(encoded), (m) => m.codePointAt(0)) ]); let reader = blob.stream().pipeThrough( new DecompressionStream(\"deflate\") ).pipeThrough( new TextDecoderStream(\"utf-8\") ).getReader(); let parts = []; while (true) { let step = await reader.read(); if (step.done) { break; } parts.push(step.value); } let newElt = document.createElement(\"div\"); newElt.innerHTML = parts.join(\"\"); destElt.parentNode.replaceChild(newElt, destElt); for (let oldScript of newElt.querySelectorAll(\"script\")) { let newScript = document.createElement(\"script\"); newScript.type = oldScript.type; newScript.textContent = oldScript.textContent; oldScript.parentNode.replaceChild(newScript, oldScript); } })(); requestAnimationFrame(() => { observer.observe(destElt); }); } })(); </script><div id=\"compress_html_06ad9b602a644616a117e546a777545d\"><script>window.treescope_decompress_enqueue(\"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\", \"compress_html_06ad9b602a644616a117e546a777545d\");</script><span style=\"color: #aaaaaa; font-family: monospace\">(Loading...)</span></div>"
      ],
      "text/plain": [
       "<IPython.core.display.HTML object>"
      ]
     },
     "metadata": {},
     "output_type": "display_data"
    },
    {
     "data": {
      "text/html": [
       "<div id=\"compress_html_78f61e23b2f14d259cb0648e08a86447\"><script>window.treescope_decompress_enqueue(\"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\", \"compress_html_78f61e23b2f14d259cb0648e08a86447\");</script></div>"
      ],
      "text/plain": [
       "<IPython.core.display.HTML object>"
      ]
     },
     "metadata": {},
     "output_type": "display_data"
    },
    {
     "data": {
      "text/html": [],
      "text/plain": [
       "{'a': 1,\n",
       " 'b': <jax.Array([100, 101, 102, 103, 104, 105, 106, 107, 108, 109], dtype=int32)>,\n",
       " 'c': [{'value': <jax.Array([ 0,  1,  2,  3,  4,  5,  6,  7,  8,  9, 10, 11], dtype=int32)>},\n",
       "  {'value': <jax.Array([100., 100., 100., 100., 100., 100., 100.], dtype=float32)>},\n",
       "  {'value': 3}]}"
      ]
     },
     "execution_count": 50,
     "metadata": {},
     "output_type": "execute_result"
    }
   ],
   "source": [
    "pz.combine(\n",
    "    jax.tree_util.tree_map(lambda x: x + 100, selected),\n",
    "    rest,\n",
    ")"
   ]
  },
  {
   "cell_type": "markdown",
   "metadata": {
    "id": "69K7pItirIuA"
   },
   "source": [
    "Partitioning and combining are inspired by `equinox.partition` and `equinox.combine`. If you're already familiar with those, the main differences are:\n",
    "- You generally don't need to use `partition` and `combine` when running JAX transformations like `jax.jit`. By convention, Penzai models store all of their static metadata in `dataclasses.field(metadata={\"pytree_node\": False})` fields which are not part of the PyTree traversal, which means partitioning isn't as strictly necessary as it is in equinox workflows. Instead, partitioning is primarily useful if you want to apply different logic to two sets of leaves, e.g. taking a gradient only with respect to a specific subset of parameters, or defining different shardings for different array subsets.\n",
    "- Penzai uses a specific sentinel `NotInThisPartition()` to identify removed nodes, rather than `None`.\n",
    "- Penzai partitions are built to support manipulation at the subtree level, rather than at the leaf level. It's OK to build and combine partitions even when neither partition is a strict PyTree prefix of the other, as long as the overlapping parts don't conflict.\n",
    "- Penzai partitions are always created with selectors, rather than being built by a standalone function.\n"
   ]
  },
  {
   "cell_type": "markdown",
   "metadata": {
    "id": "bfYZoC-ANf1Z"
   },
   "source": [
    "## Modifying selected values\n",
    "\n",
    "An important feature of selections is that they allow you to perform detailed modifications to (copies of) large trees. Selections expose a number of methods for this purpose."
   ]
  },
  {
   "cell_type": "markdown",
   "metadata": {
    "id": "Y7lQebLlwpRJ"
   },
   "source": [
    "### Replacing selected values\n",
    "The simplest modification you can make is to replace each selected subtree with another subtree or value:"
   ]
  },
  {
   "cell_type": "code",
   "execution_count": 51,
   "metadata": {
    "execution": {
     "iopub.execute_input": "2024-04-17T19:20:18.626153Z",
     "iopub.status.busy": "2024-04-17T19:20:18.625921Z",
     "iopub.status.idle": "2024-04-17T19:20:18.633581Z",
     "shell.execute_reply": "2024-04-17T19:20:18.632986Z"
    },
    "id": "Ew7gWKgMNg0h"
   },
   "outputs": [
    {
     "data": {
      "text/html": [
       "<script> /* penzai.treescope rendering of a Python object (compressed) */ (()=>{ let observer; let lastStep = new Promise((resolve, reject) => { observer = new IntersectionObserver((entries) => { for (const entry of entries) { if (entry.isIntersecting) { resolve(); observer.disconnect(); return; } } }, {rootMargin: \"1000px\"}); }); window.treescope_decompress_enqueue = (encoded, destId) => { const previous = lastStep; const destElt = document.getElementById(destId); lastStep = (async () => { await previous; let blob = new Blob([ Uint8Array.from(atob(encoded), (m) => m.codePointAt(0)) ]); let reader = blob.stream().pipeThrough( new DecompressionStream(\"deflate\") ).pipeThrough( new TextDecoderStream(\"utf-8\") ).getReader(); let parts = []; while (true) { let step = await reader.read(); if (step.done) { break; } parts.push(step.value); } let newElt = document.createElement(\"div\"); newElt.innerHTML = parts.join(\"\"); destElt.parentNode.replaceChild(newElt, destElt); for (let oldScript of newElt.querySelectorAll(\"script\")) { let newScript = document.createElement(\"script\"); newScript.type = oldScript.type; newScript.textContent = oldScript.textContent; oldScript.parentNode.replaceChild(newScript, oldScript); } })(); requestAnimationFrame(() => { observer.observe(destElt); }); } })(); </script><div id=\"compress_html_68c63493bc514fd8a8239b2542fb290a\"><script>window.treescope_decompress_enqueue(\"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\", \"compress_html_68c63493bc514fd8a8239b2542fb290a\");</script><span style=\"color: #aaaaaa; font-family: monospace\">(Loading...)</span></div>"
      ],
      "text/plain": [
       "<IPython.core.display.HTML object>"
      ]
     },
     "metadata": {},
     "output_type": "display_data"
    },
    {
     "data": {
      "text/html": [],
      "text/plain": [
       "{'a': 1,\n",
       " 'b': 'hello world!',\n",
       " 'c': [{'value': 'hello world!'}, {'value': 'hello world!'}, {'value': 3}]}"
      ]
     },
     "execution_count": 51,
     "metadata": {},
     "output_type": "execute_result"
    }
   ],
   "source": [
    "pz.select(my_nested_object).at_instances_of(jax.Array).set(\"hello world!\")"
   ]
  },
  {
   "cell_type": "markdown",
   "metadata": {
    "id": "HduHi3ifw8qn"
   },
   "source": [
    "You can optionally provide different values for each selected node:"
   ]
  },
  {
   "cell_type": "code",
   "execution_count": 52,
   "metadata": {
    "execution": {
     "iopub.execute_input": "2024-04-17T19:20:18.637298Z",
     "iopub.status.busy": "2024-04-17T19:20:18.637090Z",
     "iopub.status.idle": "2024-04-17T19:20:18.644659Z",
     "shell.execute_reply": "2024-04-17T19:20:18.644063Z"
    },
    "id": "rDlkeqI3w1-C"
   },
   "outputs": [
    {
     "data": {
      "text/html": [
       "<script> /* penzai.treescope rendering of a Python object (compressed) */ (()=>{ let observer; let lastStep = new Promise((resolve, reject) => { observer = new IntersectionObserver((entries) => { for (const entry of entries) { if (entry.isIntersecting) { resolve(); observer.disconnect(); return; } } }, {rootMargin: \"1000px\"}); }); window.treescope_decompress_enqueue = (encoded, destId) => { const previous = lastStep; const destElt = document.getElementById(destId); lastStep = (async () => { await previous; let blob = new Blob([ Uint8Array.from(atob(encoded), (m) => m.codePointAt(0)) ]); let reader = blob.stream().pipeThrough( new DecompressionStream(\"deflate\") ).pipeThrough( new TextDecoderStream(\"utf-8\") ).getReader(); let parts = []; while (true) { let step = await reader.read(); if (step.done) { break; } parts.push(step.value); } let newElt = document.createElement(\"div\"); newElt.innerHTML = parts.join(\"\"); destElt.parentNode.replaceChild(newElt, destElt); for (let oldScript of newElt.querySelectorAll(\"script\")) { let newScript = document.createElement(\"script\"); newScript.type = oldScript.type; newScript.textContent = oldScript.textContent; oldScript.parentNode.replaceChild(newScript, oldScript); } })(); requestAnimationFrame(() => { observer.observe(destElt); }); } })(); </script><div id=\"compress_html_7e0942aa96e54bbebf4598a55cded8b7\"><script>window.treescope_decompress_enqueue(\"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\", \"compress_html_7e0942aa96e54bbebf4598a55cded8b7\");</script><span style=\"color: #aaaaaa; font-family: monospace\">(Loading...)</span></div>"
      ],
      "text/plain": [
       "<IPython.core.display.HTML object>"
      ]
     },
     "metadata": {},
     "output_type": "display_data"
    },
    {
     "data": {
      "text/html": [],
      "text/plain": [
       "{'a': 1,\n",
       " 'b': 'replacement 0',\n",
       " 'c': [{'value': 'replacement 1'}, {'value': 'replacement 2'}, {'value': 3}]}"
      ]
     },
     "execution_count": 52,
     "metadata": {},
     "output_type": "execute_result"
    }
   ],
   "source": [
    "pz.select(my_nested_object).at_instances_of(jax.Array).set_sequence([f\"replacement {i}\" for i in range(3)])"
   ]
  },
  {
   "cell_type": "markdown",
   "metadata": {
    "id": "81cktrxfxGcm"
   },
   "source": [
    "Or provide a mapping based on the selected keypaths:"
   ]
  },
  {
   "cell_type": "code",
   "execution_count": 53,
   "metadata": {
    "execution": {
     "iopub.execute_input": "2024-04-17T19:20:18.648182Z",
     "iopub.status.busy": "2024-04-17T19:20:18.647942Z",
     "iopub.status.idle": "2024-04-17T19:20:18.656270Z",
     "shell.execute_reply": "2024-04-17T19:20:18.655650Z"
    },
    "id": "3u5yEQ1RxCsF"
   },
   "outputs": [
    {
     "data": {
      "text/html": [
       "<script> /* penzai.treescope rendering of a Python object (compressed) */ (()=>{ let observer; let lastStep = new Promise((resolve, reject) => { observer = new IntersectionObserver((entries) => { for (const entry of entries) { if (entry.isIntersecting) { resolve(); observer.disconnect(); return; } } }, {rootMargin: \"1000px\"}); }); window.treescope_decompress_enqueue = (encoded, destId) => { const previous = lastStep; const destElt = document.getElementById(destId); lastStep = (async () => { await previous; let blob = new Blob([ Uint8Array.from(atob(encoded), (m) => m.codePointAt(0)) ]); let reader = blob.stream().pipeThrough( new DecompressionStream(\"deflate\") ).pipeThrough( new TextDecoderStream(\"utf-8\") ).getReader(); let parts = []; while (true) { let step = await reader.read(); if (step.done) { break; } parts.push(step.value); } let newElt = document.createElement(\"div\"); newElt.innerHTML = parts.join(\"\"); destElt.parentNode.replaceChild(newElt, destElt); for (let oldScript of newElt.querySelectorAll(\"script\")) { let newScript = document.createElement(\"script\"); newScript.type = oldScript.type; newScript.textContent = oldScript.textContent; oldScript.parentNode.replaceChild(newScript, oldScript); } })(); requestAnimationFrame(() => { observer.observe(destElt); }); } })(); </script><div id=\"compress_html_8b8bfc1bdf33412b9a04c73acb5b1bdf\"><script>window.treescope_decompress_enqueue(\"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\", \"compress_html_8b8bfc1bdf33412b9a04c73acb5b1bdf\");</script><span style=\"color: #aaaaaa; font-family: monospace\">(Loading...)</span></div>"
      ],
      "text/plain": [
       "<IPython.core.display.HTML object>"
      ]
     },
     "metadata": {},
     "output_type": "display_data"
    },
    {
     "data": {
      "text/html": [],
      "text/plain": [
       "{'a': 1, 'b': 'A', 'c': [{'value': 'B'}, {'value': 'C'}, {'value': 3}]}"
      ]
     },
     "execution_count": 53,
     "metadata": {},
     "output_type": "execute_result"
    }
   ],
   "source": [
    "pz.select(my_nested_object).at_instances_of(jax.Array).set_by_path({\n",
    "    (jax.tree_util.DictKey(key='b'),): \"A\",\n",
    "    (jax.tree_util.DictKey(key='c'), jax.tree_util.SequenceKey(idx=0), jax.tree_util.DictKey(key='value')): \"B\",\n",
    "    (jax.tree_util.DictKey(key='c'), jax.tree_util.SequenceKey(idx=1), jax.tree_util.DictKey(key='value')): \"C\",\n",
    "})"
   ]
  },
  {
   "cell_type": "markdown",
   "metadata": {
    "id": "wIWQ8ChOeMQe"
   },
   "source": [
    "`set_by_path` accepts the same input as is produced by `get_by_path`, which can be convenient for modifying some values and then putting them back, or for taking gradients with respect to only a subset of values:"
   ]
  },
  {
   "cell_type": "code",
   "execution_count": 54,
   "metadata": {
    "execution": {
     "iopub.execute_input": "2024-04-17T19:20:18.659919Z",
     "iopub.status.busy": "2024-04-17T19:20:18.659711Z",
     "iopub.status.idle": "2024-04-17T19:20:18.668350Z",
     "shell.execute_reply": "2024-04-17T19:20:18.667505Z"
    },
    "id": "A4FdZZuHeWYO"
   },
   "outputs": [
    {
     "data": {
      "text/html": [
       "<script> /* penzai.treescope rendering of a Python object (compressed) */ (()=>{ let observer; let lastStep = new Promise((resolve, reject) => { observer = new IntersectionObserver((entries) => { for (const entry of entries) { if (entry.isIntersecting) { resolve(); observer.disconnect(); return; } } }, {rootMargin: \"1000px\"}); }); window.treescope_decompress_enqueue = (encoded, destId) => { const previous = lastStep; const destElt = document.getElementById(destId); lastStep = (async () => { await previous; let blob = new Blob([ Uint8Array.from(atob(encoded), (m) => m.codePointAt(0)) ]); let reader = blob.stream().pipeThrough( new DecompressionStream(\"deflate\") ).pipeThrough( new TextDecoderStream(\"utf-8\") ).getReader(); let parts = []; while (true) { let step = await reader.read(); if (step.done) { break; } parts.push(step.value); } let newElt = document.createElement(\"div\"); newElt.innerHTML = parts.join(\"\"); destElt.parentNode.replaceChild(newElt, destElt); for (let oldScript of newElt.querySelectorAll(\"script\")) { let newScript = document.createElement(\"script\"); newScript.type = oldScript.type; newScript.textContent = oldScript.textContent; oldScript.parentNode.replaceChild(newScript, oldScript); } })(); requestAnimationFrame(() => { observer.observe(destElt); }); } })(); </script><div id=\"compress_html_bc71afdfb5d34ab087008243fa495bf4\"><script>window.treescope_decompress_enqueue(\"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\", \"compress_html_bc71afdfb5d34ab087008243fa495bf4\");</script><span style=\"color: #aaaaaa; font-family: monospace\">(Loading...)</span></div>"
      ],
      "text/plain": [
       "<IPython.core.display.HTML object>"
      ]
     },
     "metadata": {},
     "output_type": "display_data"
    },
    {
     "data": {
      "text/html": [],
      "text/plain": [
       "{'a': 1,\n",
       " 'b': 'A JAX array: [0 1 2 3 4 5 6 7 8 9]',\n",
       " 'c': [{'value': 'A JAX array: [ 0  1  2  3  4  5  6  7  8  9 10 11]'},\n",
       "  {'value': 'A JAX array: [0. 0. 0. 0. 0. 0. 0.]'},\n",
       "  {'value': 3}]}"
      ]
     },
     "execution_count": 54,
     "metadata": {},
     "output_type": "execute_result"
    }
   ],
   "source": [
    "selection = pz.select(my_nested_object).at_instances_of(jax.Array)\n",
    "selection.set_by_path(\n",
    "    {key: f\"A JAX array: {value}\" for key, value in selection.get_by_path().items()}\n",
    ")"
   ]
  },
  {
   "cell_type": "code",
   "execution_count": 55,
   "metadata": {
    "execution": {
     "iopub.execute_input": "2024-04-17T19:20:18.672028Z",
     "iopub.status.busy": "2024-04-17T19:20:18.671798Z",
     "iopub.status.idle": "2024-04-17T19:20:19.210407Z",
     "shell.execute_reply": "2024-04-17T19:20:19.209491Z"
    },
    "id": "YEpc6lCxel42"
   },
   "outputs": [
    {
     "data": {
      "text/html": [
       "<script> /* penzai.treescope rendering of a Python object (compressed) */ (()=>{ let observer; let lastStep = new Promise((resolve, reject) => { observer = new IntersectionObserver((entries) => { for (const entry of entries) { if (entry.isIntersecting) { resolve(); observer.disconnect(); return; } } }, {rootMargin: \"1000px\"}); }); window.treescope_decompress_enqueue = (encoded, destId) => { const previous = lastStep; const destElt = document.getElementById(destId); lastStep = (async () => { await previous; let blob = new Blob([ Uint8Array.from(atob(encoded), (m) => m.codePointAt(0)) ]); let reader = blob.stream().pipeThrough( new DecompressionStream(\"deflate\") ).pipeThrough( new TextDecoderStream(\"utf-8\") ).getReader(); let parts = []; while (true) { let step = await reader.read(); if (step.done) { break; } parts.push(step.value); } let newElt = document.createElement(\"div\"); newElt.innerHTML = parts.join(\"\"); destElt.parentNode.replaceChild(newElt, destElt); for (let oldScript of newElt.querySelectorAll(\"script\")) { let newScript = document.createElement(\"script\"); newScript.type = oldScript.type; newScript.textContent = oldScript.textContent; oldScript.parentNode.replaceChild(newScript, oldScript); } })(); requestAnimationFrame(() => { observer.observe(destElt); }); } })(); </script><div id=\"compress_html_7b2eb885869e427aafe7086b52629e62\"><script>window.treescope_decompress_enqueue(\"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\", \"compress_html_7b2eb885869e427aafe7086b52629e62\");</script><span style=\"color: #aaaaaa; font-family: monospace\">(Loading...)</span></div>"
      ],
      "text/plain": [
       "<IPython.core.display.HTML object>"
      ]
     },
     "metadata": {},
     "output_type": "display_data"
    },
    {
     "data": {
      "text/html": [
       "<div id=\"compress_html_59c6b50ba5794c7aa3ce6f8c5d2bba83\"><script>window.treescope_decompress_enqueue(\"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\", \"compress_html_59c6b50ba5794c7aa3ce6f8c5d2bba83\");</script></div>"
      ],
      "text/plain": [
       "<IPython.core.display.HTML object>"
      ]
     },
     "metadata": {},
     "output_type": "display_data"
    },
    {
     "data": {
      "text/html": [],
      "text/plain": [
       "OrderedDict([((DictKey(key='b'),),\n",
       "              <jax.Array([ 0.,  2.,  4.,  6.,  8., 10., 12., 14., 16., 18.], dtype=float32)>),\n",
       "             ((DictKey(key='c'), SequenceKey(idx=0), DictKey(key='value')),\n",
       "              <jax.Array([1., 1., 1., 1., 1., 1., 1., 1., 1., 1., 1., 1.], dtype=float32)>),\n",
       "             ((DictKey(key='c'), SequenceKey(idx=1), DictKey(key='value')),\n",
       "              <jax.Array([0., 0., 0., 0., 0., 0., 0.], dtype=float32)>)])"
      ]
     },
     "execution_count": 55,
     "metadata": {},
     "output_type": "execute_result"
    }
   ],
   "source": [
    "def my_loss(obj):\n",
    "  return obj[\"a\"] + jnp.sum(obj[\"b\"]**2) + jnp.sum(obj[\"c\"][0][\"value\"])\n",
    "\n",
    "my_float_object = jax.tree_util.tree_map(lambda leaf: jnp.array(leaf, dtype=jnp.float32), my_nested_object)\n",
    "\n",
    "# Take gradients w.r.t. non-scalars only, ignoring my_float_object[\"a\"] and my_float_object[\"c\"][2][\"value\"]\n",
    "gradient_selection = pz.select(my_float_object).at_instances_of(jax.Array).where(lambda arr: arr.size > 1)\n",
    "\n",
    "jax.grad(\n",
    "    # Swap in the version of the values that JAX is taking gradients for:\n",
    "    lambda vectors_by_path: my_loss(gradient_selection.set_by_path(vectors_by_path))\n",
    ")(gradient_selection.get_by_path())"
   ]
  },
  {
   "cell_type": "markdown",
   "metadata": {
    "id": "bkZAwu42ftwC"
   },
   "source": [
    "You can also use `select_and_set_by_path` to infer the selection from the input paths instead:"
   ]
  },
  {
   "cell_type": "code",
   "execution_count": 56,
   "metadata": {
    "execution": {
     "iopub.execute_input": "2024-04-17T19:20:19.214523Z",
     "iopub.status.busy": "2024-04-17T19:20:19.214276Z",
     "iopub.status.idle": "2024-04-17T19:20:19.243048Z",
     "shell.execute_reply": "2024-04-17T19:20:19.242212Z"
    },
    "id": "73vXA1ZvfxFK"
   },
   "outputs": [
    {
     "data": {
      "text/html": [
       "<script> /* penzai.treescope rendering of a Python object (compressed) */ (()=>{ let observer; let lastStep = new Promise((resolve, reject) => { observer = new IntersectionObserver((entries) => { for (const entry of entries) { if (entry.isIntersecting) { resolve(); observer.disconnect(); return; } } }, {rootMargin: \"1000px\"}); }); window.treescope_decompress_enqueue = (encoded, destId) => { const previous = lastStep; const destElt = document.getElementById(destId); lastStep = (async () => { await previous; let blob = new Blob([ Uint8Array.from(atob(encoded), (m) => m.codePointAt(0)) ]); let reader = blob.stream().pipeThrough( new DecompressionStream(\"deflate\") ).pipeThrough( new TextDecoderStream(\"utf-8\") ).getReader(); let parts = []; while (true) { let step = await reader.read(); if (step.done) { break; } parts.push(step.value); } let newElt = document.createElement(\"div\"); newElt.innerHTML = parts.join(\"\"); destElt.parentNode.replaceChild(newElt, destElt); for (let oldScript of newElt.querySelectorAll(\"script\")) { let newScript = document.createElement(\"script\"); newScript.type = oldScript.type; newScript.textContent = oldScript.textContent; oldScript.parentNode.replaceChild(newScript, oldScript); } })(); requestAnimationFrame(() => { observer.observe(destElt); }); } })(); </script><div id=\"compress_html_858a09161f8c4716b9063c1aaba30be8\"><script>window.treescope_decompress_enqueue(\"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\", \"compress_html_858a09161f8c4716b9063c1aaba30be8\");</script><span style=\"color: #aaaaaa; font-family: monospace\">(Loading...)</span></div>"
      ],
      "text/plain": [
       "<IPython.core.display.HTML object>"
      ]
     },
     "metadata": {},
     "output_type": "display_data"
    },
    {
     "data": {
      "text/html": [
       "<div id=\"compress_html_13dc24a642c54a99b1a88d8682007d8f\"><script>window.treescope_decompress_enqueue(\"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\", \"compress_html_13dc24a642c54a99b1a88d8682007d8f\");</script></div>"
      ],
      "text/plain": [
       "<IPython.core.display.HTML object>"
      ]
     },
     "metadata": {},
     "output_type": "display_data"
    },
    {
     "data": {
      "text/html": [],
      "text/plain": [
       "OrderedDict([((DictKey(key='b'),),\n",
       "              <jax.Array([ 0.,  2.,  4.,  6.,  8., 10., 12., 14., 16., 18.], dtype=float32)>),\n",
       "             ((DictKey(key='c'), SequenceKey(idx=0), DictKey(key='value')),\n",
       "              <jax.Array([1., 1., 1., 1., 1., 1., 1., 1., 1., 1., 1., 1.], dtype=float32)>),\n",
       "             ((DictKey(key='c'), SequenceKey(idx=1), DictKey(key='value')),\n",
       "              <jax.Array([0., 0., 0., 0., 0., 0., 0.], dtype=float32)>)])"
      ]
     },
     "execution_count": 56,
     "metadata": {},
     "output_type": "execute_result"
    }
   ],
   "source": [
    "def my_loss(obj):\n",
    "  return obj[\"a\"] + jnp.sum(obj[\"b\"]**2) + jnp.sum(obj[\"c\"][0][\"value\"])\n",
    "\n",
    "my_float_object = jax.tree_util.tree_map(lambda leaf: jnp.array(leaf, dtype=jnp.float32), my_nested_object)\n",
    "\n",
    "# Take gradients w.r.t. non-scalars only, ignoring my_float_object[\"a\"] and my_float_object[\"c\"][2][\"value\"]\n",
    "# No need to store the gradient selection itself, since it can be inferred from vectors_by_path.\n",
    "vectors_by_path = pz.select(my_float_object).at_instances_of(jax.Array).where(lambda arr: arr.size > 1).get_by_path()\n",
    "\n",
    "jax.grad(\n",
    "    lambda vectors_by_path: my_loss(pz.select(my_float_object).select_and_set_by_path(vectors_by_path))\n",
    ")(vectors_by_path)"
   ]
  },
  {
   "cell_type": "markdown",
   "metadata": {
    "id": "p91fKstrxqoe"
   },
   "source": [
    "### Applying functions to selected values\n",
    "\n",
    "You can use `.apply` to apply a function to every selected object, similar to `jax.tree_util.tree_map` except that it applies to the selected subtrees rather than to the leaves:"
   ]
  },
  {
   "cell_type": "code",
   "execution_count": 57,
   "metadata": {
    "execution": {
     "iopub.execute_input": "2024-04-17T19:20:19.246700Z",
     "iopub.status.busy": "2024-04-17T19:20:19.246438Z",
     "iopub.status.idle": "2024-04-17T19:20:19.352739Z",
     "shell.execute_reply": "2024-04-17T19:20:19.351830Z"
    },
    "id": "PrRQyM58xbOE"
   },
   "outputs": [
    {
     "data": {
      "text/html": [
       "<script> /* penzai.treescope rendering of a Python object (compressed) */ (()=>{ let observer; let lastStep = new Promise((resolve, reject) => { observer = new IntersectionObserver((entries) => { for (const entry of entries) { if (entry.isIntersecting) { resolve(); observer.disconnect(); return; } } }, {rootMargin: \"1000px\"}); }); window.treescope_decompress_enqueue = (encoded, destId) => { const previous = lastStep; const destElt = document.getElementById(destId); lastStep = (async () => { await previous; let blob = new Blob([ Uint8Array.from(atob(encoded), (m) => m.codePointAt(0)) ]); let reader = blob.stream().pipeThrough( new DecompressionStream(\"deflate\") ).pipeThrough( new TextDecoderStream(\"utf-8\") ).getReader(); let parts = []; while (true) { let step = await reader.read(); if (step.done) { break; } parts.push(step.value); } let newElt = document.createElement(\"div\"); newElt.innerHTML = parts.join(\"\"); destElt.parentNode.replaceChild(newElt, destElt); for (let oldScript of newElt.querySelectorAll(\"script\")) { let newScript = document.createElement(\"script\"); newScript.type = oldScript.type; newScript.textContent = oldScript.textContent; oldScript.parentNode.replaceChild(newScript, oldScript); } })(); requestAnimationFrame(() => { observer.observe(destElt); }); } })(); </script><div id=\"compress_html_4349b599f48e40f9afe628f443fa9cc7\"><script>window.treescope_decompress_enqueue(\"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\", \"compress_html_4349b599f48e40f9afe628f443fa9cc7\");</script><span style=\"color: #aaaaaa; font-family: monospace\">(Loading...)</span></div>"
      ],
      "text/plain": [
       "<IPython.core.display.HTML object>"
      ]
     },
     "metadata": {},
     "output_type": "display_data"
    },
    {
     "data": {
      "text/html": [
       "<div id=\"compress_html_0ba1b79d31e74a72864b7ed7a2af35b0\"><script>window.treescope_decompress_enqueue(\"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\", \"compress_html_0ba1b79d31e74a72864b7ed7a2af35b0\");</script></div>"
      ],
      "text/plain": [
       "<IPython.core.display.HTML object>"
      ]
     },
     "metadata": {},
     "output_type": "display_data"
    },
    {
     "data": {
      "text/html": [],
      "text/plain": [
       "{'a': 1,\n",
       " 'b': <jax.Array([100, 101, 104, 109, 116, 125, 136, 149, 164, 181], dtype=int32)>,\n",
       " 'c': [{'value': <jax.Array([100, 101, 104, 109, 116, 125, 136, 149, 164, 181, 200, 221], dtype=int32)>},\n",
       "  {'value': <jax.Array([100., 100., 100., 100., 100., 100., 100.], dtype=float32)>},\n",
       "  {'value': 3}]}"
      ]
     },
     "execution_count": 57,
     "metadata": {},
     "output_type": "execute_result"
    }
   ],
   "source": [
    "pz.select(my_nested_object).at_instances_of(jax.Array).apply(lambda x: x**2 + 100)"
   ]
  },
  {
   "cell_type": "markdown",
   "metadata": {
    "id": "CNBv2zCFysUP"
   },
   "source": [
    "You can also do `apply(fn, with_keypath=True)` to get access to the key paths as well:"
   ]
  },
  {
   "cell_type": "code",
   "execution_count": 58,
   "metadata": {
    "execution": {
     "iopub.execute_input": "2024-04-17T19:20:19.356346Z",
     "iopub.status.busy": "2024-04-17T19:20:19.356085Z",
     "iopub.status.idle": "2024-04-17T19:20:19.365045Z",
     "shell.execute_reply": "2024-04-17T19:20:19.364235Z"
    },
    "id": "8sT0FJ2yypAd"
   },
   "outputs": [
    {
     "data": {
      "text/html": [
       "<script> /* penzai.treescope rendering of a Python object (compressed) */ (()=>{ let observer; let lastStep = new Promise((resolve, reject) => { observer = new IntersectionObserver((entries) => { for (const entry of entries) { if (entry.isIntersecting) { resolve(); observer.disconnect(); return; } } }, {rootMargin: \"1000px\"}); }); window.treescope_decompress_enqueue = (encoded, destId) => { const previous = lastStep; const destElt = document.getElementById(destId); lastStep = (async () => { await previous; let blob = new Blob([ Uint8Array.from(atob(encoded), (m) => m.codePointAt(0)) ]); let reader = blob.stream().pipeThrough( new DecompressionStream(\"deflate\") ).pipeThrough( new TextDecoderStream(\"utf-8\") ).getReader(); let parts = []; while (true) { let step = await reader.read(); if (step.done) { break; } parts.push(step.value); } let newElt = document.createElement(\"div\"); newElt.innerHTML = parts.join(\"\"); destElt.parentNode.replaceChild(newElt, destElt); for (let oldScript of newElt.querySelectorAll(\"script\")) { let newScript = document.createElement(\"script\"); newScript.type = oldScript.type; newScript.textContent = oldScript.textContent; oldScript.parentNode.replaceChild(newScript, oldScript); } })(); requestAnimationFrame(() => { observer.observe(destElt); }); } })(); </script><div id=\"compress_html_f50381872d05402a9ce2bea1c23f5e47\"><script>window.treescope_decompress_enqueue(\"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\", \"compress_html_f50381872d05402a9ce2bea1c23f5e47\");</script><span style=\"color: #aaaaaa; font-family: monospace\">(Loading...)</span></div>"
      ],
      "text/plain": [
       "<IPython.core.display.HTML object>"
      ]
     },
     "metadata": {},
     "output_type": "display_data"
    },
    {
     "data": {
      "text/html": [],
      "text/plain": [
       "{'a': 1,\n",
       " 'b': \"key=(DictKey(key='b'),), value=[0 1 2 3 4 5 6 7 8 9]\",\n",
       " 'c': [{'value': \"key=(DictKey(key='c'), SequenceKey(idx=0), DictKey(key='value')), value=[ 0  1  2  3  4  5  6  7  8  9 10 11]\"},\n",
       "  {'value': \"key=(DictKey(key='c'), SequenceKey(idx=1), DictKey(key='value')), value=[0. 0. 0. 0. 0. 0. 0.]\"},\n",
       "  {'value': 3}]}"
      ]
     },
     "execution_count": 58,
     "metadata": {},
     "output_type": "execute_result"
    }
   ],
   "source": [
    "(\n",
    "    pz.select(my_nested_object)\n",
    "    .at_instances_of(jax.Array)\n",
    "    .apply(lambda key, value: f\"key={key}, value={value}\", with_keypath=True)\n",
    ")"
   ]
  },
  {
   "cell_type": "markdown",
   "metadata": {
    "id": "-RZGXU2ey_B7"
   },
   "source": [
    "By default, applying a function also removes the selection. If you want to do further processing, you can pass `keep_selected=True` to replace the values but keep them selected:"
   ]
  },
  {
   "cell_type": "code",
   "execution_count": 59,
   "metadata": {
    "execution": {
     "iopub.execute_input": "2024-04-17T19:20:19.368728Z",
     "iopub.status.busy": "2024-04-17T19:20:19.368508Z",
     "iopub.status.idle": "2024-04-17T19:20:19.386518Z",
     "shell.execute_reply": "2024-04-17T19:20:19.385736Z"
    },
    "id": "CtTI_jwXy9il"
   },
   "outputs": [
    {
     "data": {
      "text/html": [
       "<script> /* penzai.treescope rendering of a Python object (compressed) */ (()=>{ let observer; let lastStep = new Promise((resolve, reject) => { observer = new IntersectionObserver((entries) => { for (const entry of entries) { if (entry.isIntersecting) { resolve(); observer.disconnect(); return; } } }, {rootMargin: \"1000px\"}); }); window.treescope_decompress_enqueue = (encoded, destId) => { const previous = lastStep; const destElt = document.getElementById(destId); lastStep = (async () => { await previous; let blob = new Blob([ Uint8Array.from(atob(encoded), (m) => m.codePointAt(0)) ]); let reader = blob.stream().pipeThrough( new DecompressionStream(\"deflate\") ).pipeThrough( new TextDecoderStream(\"utf-8\") ).getReader(); let parts = []; while (true) { let step = await reader.read(); if (step.done) { break; } parts.push(step.value); } let newElt = document.createElement(\"div\"); newElt.innerHTML = parts.join(\"\"); destElt.parentNode.replaceChild(newElt, destElt); for (let oldScript of newElt.querySelectorAll(\"script\")) { let newScript = document.createElement(\"script\"); newScript.type = oldScript.type; newScript.textContent = oldScript.textContent; oldScript.parentNode.replaceChild(newScript, oldScript); } })(); requestAnimationFrame(() => { observer.observe(destElt); }); } })(); </script><div id=\"compress_html_03c30126ba0d4cbcb0dc1dea6b17be42\"><script>window.treescope_decompress_enqueue(\"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\", \"compress_html_03c30126ba0d4cbcb0dc1dea6b17be42\");</script><span style=\"color: #aaaaaa; font-family: monospace\">(Loading...)</span></div>"
      ],
      "text/plain": [
       "<IPython.core.display.HTML object>"
      ]
     },
     "metadata": {},
     "output_type": "display_data"
    },
    {
     "data": {
      "text/html": [],
      "text/plain": [
       "Selection(\n",
       "  selected_by_path=OrderedDict({\n",
       "    (DictKey(key='b'),):\n",
       "      \"key=(DictKey(key='b'),), value=[0 1 2 3 4 5 6 7 8 9]\",\n",
       "    (DictKey(key='c'), SequenceKey(idx=0), DictKey(key='value')):\n",
       "      \"key=(DictKey(key='c'), SequenceKey(idx=0), DictKey(key='value')), value=[ 0  1  2  3  4  5  6  7  8  9 10 11]\",\n",
       "    (DictKey(key='c'), SequenceKey(idx=1), DictKey(key='value')):\n",
       "      \"key=(DictKey(key='c'), SequenceKey(idx=1), DictKey(key='value')), value=[0. 0. 0. 0. 0. 0. 0.]\",\n",
       "  }),\n",
       "  remainder={'a': 1, 'b': SelectionHole(path=(DictKey(key='b'),)), 'c': [{'value': SelectionHole(path=(DictKey(key='c'), SequenceKey(idx=0), DictKey(key='value')))}, {'value': SelectionHole(path=(DictKey(key='c'), SequenceKey(idx=1), DictKey(key='value')))}, {'value': 3}]},\n",
       ")"
      ]
     },
     "execution_count": 59,
     "metadata": {},
     "output_type": "execute_result"
    }
   ],
   "source": [
    "(\n",
    "    pz.select(my_nested_object)\n",
    "    .at_instances_of(jax.Array)\n",
    "    .apply(lambda key, value: f\"key={key}, value={value}\", with_keypath=True, keep_selected=True)\n",
    ")"
   ]
  },
  {
   "cell_type": "markdown",
   "metadata": {
    "id": "YJujHVUOzmtm"
   },
   "source": [
    "Sometimes, it's also useful to pass the index of the selected node relative to the *selection* (e.g. \"this is the third selected node\") instead of the absolute keypath. For this, theres `.apply_with_selected_index`:"
   ]
  },
  {
   "cell_type": "code",
   "execution_count": 60,
   "metadata": {
    "execution": {
     "iopub.execute_input": "2024-04-17T19:20:19.390006Z",
     "iopub.status.busy": "2024-04-17T19:20:19.389782Z",
     "iopub.status.idle": "2024-04-17T19:20:19.409180Z",
     "shell.execute_reply": "2024-04-17T19:20:19.408402Z"
    },
    "id": "xLrWVjiazLVS"
   },
   "outputs": [
    {
     "data": {
      "text/html": [
       "<script> /* penzai.treescope rendering of a Python object (compressed) */ (()=>{ let observer; let lastStep = new Promise((resolve, reject) => { observer = new IntersectionObserver((entries) => { for (const entry of entries) { if (entry.isIntersecting) { resolve(); observer.disconnect(); return; } } }, {rootMargin: \"1000px\"}); }); window.treescope_decompress_enqueue = (encoded, destId) => { const previous = lastStep; const destElt = document.getElementById(destId); lastStep = (async () => { await previous; let blob = new Blob([ Uint8Array.from(atob(encoded), (m) => m.codePointAt(0)) ]); let reader = blob.stream().pipeThrough( new DecompressionStream(\"deflate\") ).pipeThrough( new TextDecoderStream(\"utf-8\") ).getReader(); let parts = []; while (true) { let step = await reader.read(); if (step.done) { break; } parts.push(step.value); } let newElt = document.createElement(\"div\"); newElt.innerHTML = parts.join(\"\"); destElt.parentNode.replaceChild(newElt, destElt); for (let oldScript of newElt.querySelectorAll(\"script\")) { let newScript = document.createElement(\"script\"); newScript.type = oldScript.type; newScript.textContent = oldScript.textContent; oldScript.parentNode.replaceChild(newScript, oldScript); } })(); requestAnimationFrame(() => { observer.observe(destElt); }); } })(); </script><div id=\"compress_html_82fa0e7889744caeaece641acca50584\"><script>window.treescope_decompress_enqueue(\"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\", \"compress_html_82fa0e7889744caeaece641acca50584\");</script><span style=\"color: #aaaaaa; font-family: monospace\">(Loading...)</span></div>"
      ],
      "text/plain": [
       "<IPython.core.display.HTML object>"
      ]
     },
     "metadata": {},
     "output_type": "display_data"
    },
    {
     "data": {
      "text/html": [],
      "text/plain": [
       "Selection(\n",
       "  selected_by_path=OrderedDict({\n",
       "    (DictKey(key='b'),):\n",
       "      'index=0, value=[0 1 2 3 4 5 6 7 8 9]',\n",
       "    (DictKey(key='c'), SequenceKey(idx=0), DictKey(key='value')):\n",
       "      'index=1, value=[ 0  1  2  3  4  5  6  7  8  9 10 11]',\n",
       "    (DictKey(key='c'), SequenceKey(idx=1), DictKey(key='value')):\n",
       "      'index=2, value=[0. 0. 0. 0. 0. 0. 0.]',\n",
       "  }),\n",
       "  remainder={'a': 1, 'b': SelectionHole(path=(DictKey(key='b'),)), 'c': [{'value': SelectionHole(path=(DictKey(key='c'), SequenceKey(idx=0), DictKey(key='value')))}, {'value': SelectionHole(path=(DictKey(key='c'), SequenceKey(idx=1), DictKey(key='value')))}, {'value': 3}]},\n",
       ")"
      ]
     },
     "execution_count": 60,
     "metadata": {},
     "output_type": "execute_result"
    }
   ],
   "source": [
    "(\n",
    "    pz.select(my_nested_object)\n",
    "    .at_instances_of(jax.Array)\n",
    "    .apply_with_selected_index(lambda index, value: f\"index={index}, value={value}\", keep_selected=True)\n",
    ")"
   ]
  },
  {
   "cell_type": "markdown",
   "metadata": {
    "id": "zpbos5v2z9BI"
   },
   "source": [
    "### Manipulating selected elements of lists and tuples"
   ]
  },
  {
   "cell_type": "markdown",
   "metadata": {
    "id": "iqvDVZkn0GSq"
   },
   "source": [
    "When the selected nodes are elements of a list or tuple, there are a few other options for selector manipulation. For instance, you can insert values before or after the selected nodes:"
   ]
  },
  {
   "cell_type": "code",
   "execution_count": 61,
   "metadata": {
    "execution": {
     "iopub.execute_input": "2024-04-17T19:20:19.413308Z",
     "iopub.status.busy": "2024-04-17T19:20:19.413097Z",
     "iopub.status.idle": "2024-04-17T19:20:19.423450Z",
     "shell.execute_reply": "2024-04-17T19:20:19.422644Z"
    },
    "id": "Ptualckcz45d"
   },
   "outputs": [
    {
     "data": {
      "text/html": [
       "<script> /* penzai.treescope rendering of a Python object (compressed) */ (()=>{ let observer; let lastStep = new Promise((resolve, reject) => { observer = new IntersectionObserver((entries) => { for (const entry of entries) { if (entry.isIntersecting) { resolve(); observer.disconnect(); return; } } }, {rootMargin: \"1000px\"}); }); window.treescope_decompress_enqueue = (encoded, destId) => { const previous = lastStep; const destElt = document.getElementById(destId); lastStep = (async () => { await previous; let blob = new Blob([ Uint8Array.from(atob(encoded), (m) => m.codePointAt(0)) ]); let reader = blob.stream().pipeThrough( new DecompressionStream(\"deflate\") ).pipeThrough( new TextDecoderStream(\"utf-8\") ).getReader(); let parts = []; while (true) { let step = await reader.read(); if (step.done) { break; } parts.push(step.value); } let newElt = document.createElement(\"div\"); newElt.innerHTML = parts.join(\"\"); destElt.parentNode.replaceChild(newElt, destElt); for (let oldScript of newElt.querySelectorAll(\"script\")) { let newScript = document.createElement(\"script\"); newScript.type = oldScript.type; newScript.textContent = oldScript.textContent; oldScript.parentNode.replaceChild(newScript, oldScript); } })(); requestAnimationFrame(() => { observer.observe(destElt); }); } })(); </script><div id=\"compress_html_0e2b572dc8494b1480a3f37bbcc6a743\"><script>window.treescope_decompress_enqueue(\"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\", \"compress_html_0e2b572dc8494b1480a3f37bbcc6a743\");</script><span style=\"color: #aaaaaa; font-family: monospace\">(Loading...)</span></div>"
      ],
      "text/plain": [
       "<IPython.core.display.HTML object>"
      ]
     },
     "metadata": {},
     "output_type": "display_data"
    },
    {
     "data": {
      "text/html": [],
      "text/plain": [
       "{'a': ['before a multiple of 4',\n",
       "  0,\n",
       "  1,\n",
       "  2,\n",
       "  3,\n",
       "  'before a multiple of 4',\n",
       "  4,\n",
       "  5,\n",
       "  6,\n",
       "  7,\n",
       "  'before a multiple of 4',\n",
       "  8,\n",
       "  9],\n",
       " 'b': [10,\n",
       "  11,\n",
       "  'before a multiple of 4',\n",
       "  12,\n",
       "  13,\n",
       "  14,\n",
       "  15,\n",
       "  'before a multiple of 4',\n",
       "  16,\n",
       "  17,\n",
       "  18,\n",
       "  19]}"
      ]
     },
     "execution_count": 61,
     "metadata": {},
     "output_type": "execute_result"
    }
   ],
   "source": [
    "(\n",
    "    pz.select({\"a\": list(range(10)), \"b\": list(range(10, 20))})\n",
    "      .at_instances_of(int)\n",
    "      .where(lambda x: x % 4 == 0)\n",
    "      .insert_before(\"before a multiple of 4\")\n",
    ")"
   ]
  },
  {
   "cell_type": "code",
   "execution_count": 62,
   "metadata": {
    "execution": {
     "iopub.execute_input": "2024-04-17T19:20:19.426839Z",
     "iopub.status.busy": "2024-04-17T19:20:19.426572Z",
     "iopub.status.idle": "2024-04-17T19:20:19.436599Z",
     "shell.execute_reply": "2024-04-17T19:20:19.435917Z"
    },
    "id": "tIf27Qx40hP3"
   },
   "outputs": [
    {
     "data": {
      "text/html": [
       "<script> /* penzai.treescope rendering of a Python object (compressed) */ (()=>{ let observer; let lastStep = new Promise((resolve, reject) => { observer = new IntersectionObserver((entries) => { for (const entry of entries) { if (entry.isIntersecting) { resolve(); observer.disconnect(); return; } } }, {rootMargin: \"1000px\"}); }); window.treescope_decompress_enqueue = (encoded, destId) => { const previous = lastStep; const destElt = document.getElementById(destId); lastStep = (async () => { await previous; let blob = new Blob([ Uint8Array.from(atob(encoded), (m) => m.codePointAt(0)) ]); let reader = blob.stream().pipeThrough( new DecompressionStream(\"deflate\") ).pipeThrough( new TextDecoderStream(\"utf-8\") ).getReader(); let parts = []; while (true) { let step = await reader.read(); if (step.done) { break; } parts.push(step.value); } let newElt = document.createElement(\"div\"); newElt.innerHTML = parts.join(\"\"); destElt.parentNode.replaceChild(newElt, destElt); for (let oldScript of newElt.querySelectorAll(\"script\")) { let newScript = document.createElement(\"script\"); newScript.type = oldScript.type; newScript.textContent = oldScript.textContent; oldScript.parentNode.replaceChild(newScript, oldScript); } })(); requestAnimationFrame(() => { observer.observe(destElt); }); } })(); </script><div id=\"compress_html_9376fda336d8454ea0b24febe11cb17c\"><script>window.treescope_decompress_enqueue(\"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\", \"compress_html_9376fda336d8454ea0b24febe11cb17c\");</script><span style=\"color: #aaaaaa; font-family: monospace\">(Loading...)</span></div>"
      ],
      "text/plain": [
       "<IPython.core.display.HTML object>"
      ]
     },
     "metadata": {},
     "output_type": "display_data"
    },
    {
     "data": {
      "text/html": [],
      "text/plain": [
       "{'a': [0,\n",
       "  'after a multiple of 4',\n",
       "  1,\n",
       "  2,\n",
       "  3,\n",
       "  4,\n",
       "  'after a multiple of 4',\n",
       "  5,\n",
       "  6,\n",
       "  7,\n",
       "  8,\n",
       "  'after a multiple of 4',\n",
       "  9],\n",
       " 'b': [10,\n",
       "  11,\n",
       "  12,\n",
       "  'after a multiple of 4',\n",
       "  13,\n",
       "  14,\n",
       "  15,\n",
       "  16,\n",
       "  'after a multiple of 4',\n",
       "  17,\n",
       "  18,\n",
       "  19]}"
      ]
     },
     "execution_count": 62,
     "metadata": {},
     "output_type": "execute_result"
    }
   ],
   "source": [
    "(\n",
    "    pz.select({\"a\": list(range(10)), \"b\": list(range(10, 20))})\n",
    "      .at_instances_of(int)\n",
    "      .where(lambda x: x % 4 == 0)\n",
    "      .insert_after(\"after a multiple of 4\")\n",
    ")"
   ]
  },
  {
   "cell_type": "markdown",
   "metadata": {
    "id": "BFg6JxQq0tMW"
   },
   "source": [
    "You can also just remove the selected nodes:"
   ]
  },
  {
   "cell_type": "code",
   "execution_count": 63,
   "metadata": {
    "execution": {
     "iopub.execute_input": "2024-04-17T19:20:19.440171Z",
     "iopub.status.busy": "2024-04-17T19:20:19.439896Z",
     "iopub.status.idle": "2024-04-17T19:20:19.449048Z",
     "shell.execute_reply": "2024-04-17T19:20:19.448277Z"
    },
    "id": "PzLdrjdq0raZ"
   },
   "outputs": [
    {
     "data": {
      "text/html": [
       "<script> /* penzai.treescope rendering of a Python object (compressed) */ (()=>{ let observer; let lastStep = new Promise((resolve, reject) => { observer = new IntersectionObserver((entries) => { for (const entry of entries) { if (entry.isIntersecting) { resolve(); observer.disconnect(); return; } } }, {rootMargin: \"1000px\"}); }); window.treescope_decompress_enqueue = (encoded, destId) => { const previous = lastStep; const destElt = document.getElementById(destId); lastStep = (async () => { await previous; let blob = new Blob([ Uint8Array.from(atob(encoded), (m) => m.codePointAt(0)) ]); let reader = blob.stream().pipeThrough( new DecompressionStream(\"deflate\") ).pipeThrough( new TextDecoderStream(\"utf-8\") ).getReader(); let parts = []; while (true) { let step = await reader.read(); if (step.done) { break; } parts.push(step.value); } let newElt = document.createElement(\"div\"); newElt.innerHTML = parts.join(\"\"); destElt.parentNode.replaceChild(newElt, destElt); for (let oldScript of newElt.querySelectorAll(\"script\")) { let newScript = document.createElement(\"script\"); newScript.type = oldScript.type; newScript.textContent = oldScript.textContent; oldScript.parentNode.replaceChild(newScript, oldScript); } })(); requestAnimationFrame(() => { observer.observe(destElt); }); } })(); </script><div id=\"compress_html_009c1ba58d2345fbbed6e3e0c0188d9c\"><script>window.treescope_decompress_enqueue(\"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\", \"compress_html_009c1ba58d2345fbbed6e3e0c0188d9c\");</script><span style=\"color: #aaaaaa; font-family: monospace\">(Loading...)</span></div>"
      ],
      "text/plain": [
       "<IPython.core.display.HTML object>"
      ]
     },
     "metadata": {},
     "output_type": "display_data"
    },
    {
     "data": {
      "text/html": [],
      "text/plain": [
       "{'a': [1, 2, 3, 5, 6, 7, 9], 'b': [10, 11, 13, 14, 15, 17, 18, 19]}"
      ]
     },
     "execution_count": 63,
     "metadata": {},
     "output_type": "execute_result"
    }
   ],
   "source": [
    "(\n",
    "    pz.select({\"a\": list(range(10)), \"b\": list(range(10, 20))})\n",
    "      .at_instances_of(int)\n",
    "      .where(lambda x: x % 4 == 0)\n",
    "      .remove_from_parent()\n",
    ")"
   ]
  },
  {
   "cell_type": "markdown",
   "metadata": {
    "id": "ELI6wOnC0yMI"
   },
   "source": [
    "If you want more control, or if you want to use the selected value to determine what to insert, you can use the method `.apply_and_inline`. This works like `.apply`, except that your function should return a *sequence* of values, and those values will be spliced into the original list or tuple in the same position as the original selected nodes."
   ]
  },
  {
   "cell_type": "code",
   "execution_count": 64,
   "metadata": {
    "execution": {
     "iopub.execute_input": "2024-04-17T19:20:19.452718Z",
     "iopub.status.busy": "2024-04-17T19:20:19.452511Z",
     "iopub.status.idle": "2024-04-17T19:20:19.463254Z",
     "shell.execute_reply": "2024-04-17T19:20:19.462665Z"
    },
    "id": "l7M2_YQF0vzy"
   },
   "outputs": [
    {
     "data": {
      "text/html": [
       "<script> /* penzai.treescope rendering of a Python object (compressed) */ (()=>{ let observer; let lastStep = new Promise((resolve, reject) => { observer = new IntersectionObserver((entries) => { for (const entry of entries) { if (entry.isIntersecting) { resolve(); observer.disconnect(); return; } } }, {rootMargin: \"1000px\"}); }); window.treescope_decompress_enqueue = (encoded, destId) => { const previous = lastStep; const destElt = document.getElementById(destId); lastStep = (async () => { await previous; let blob = new Blob([ Uint8Array.from(atob(encoded), (m) => m.codePointAt(0)) ]); let reader = blob.stream().pipeThrough( new DecompressionStream(\"deflate\") ).pipeThrough( new TextDecoderStream(\"utf-8\") ).getReader(); let parts = []; while (true) { let step = await reader.read(); if (step.done) { break; } parts.push(step.value); } let newElt = document.createElement(\"div\"); newElt.innerHTML = parts.join(\"\"); destElt.parentNode.replaceChild(newElt, destElt); for (let oldScript of newElt.querySelectorAll(\"script\")) { let newScript = document.createElement(\"script\"); newScript.type = oldScript.type; newScript.textContent = oldScript.textContent; oldScript.parentNode.replaceChild(newScript, oldScript); } })(); requestAnimationFrame(() => { observer.observe(destElt); }); } })(); </script><div id=\"compress_html_52cd729b6c0e4cb3a2e92ce3734c6908\"><script>window.treescope_decompress_enqueue(\"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\", \"compress_html_52cd729b6c0e4cb3a2e92ce3734c6908\");</script><span style=\"color: #aaaaaa; font-family: monospace\">(Loading...)</span></div>"
      ],
      "text/plain": [
       "<IPython.core.display.HTML object>"
      ]
     },
     "metadata": {},
     "output_type": "display_data"
    },
    {
     "data": {
      "text/html": [],
      "text/plain": [
       "{'a': ['before',\n",
       "  'the value was 0',\n",
       "  'after',\n",
       "  1,\n",
       "  2,\n",
       "  3,\n",
       "  'before',\n",
       "  'the value was 4',\n",
       "  'after',\n",
       "  5,\n",
       "  6,\n",
       "  7,\n",
       "  'before',\n",
       "  'the value was 8',\n",
       "  'after',\n",
       "  9],\n",
       " 'b': [10,\n",
       "  11,\n",
       "  'before',\n",
       "  'the value was 12',\n",
       "  'after',\n",
       "  13,\n",
       "  14,\n",
       "  15,\n",
       "  'before',\n",
       "  'the value was 16',\n",
       "  'after',\n",
       "  17,\n",
       "  18,\n",
       "  19]}"
      ]
     },
     "execution_count": 64,
     "metadata": {},
     "output_type": "execute_result"
    }
   ],
   "source": [
    "(\n",
    "    pz.select({\"a\": list(range(10)), \"b\": list(range(10, 20))})\n",
    "      .at_instances_of(int)\n",
    "      .where(lambda x: x % 4 == 0)\n",
    "      .apply_and_inline(lambda x: [\"before\", f\"the value was {x}\", \"after\"])\n",
    ")"
   ]
  },
  {
   "cell_type": "markdown",
   "metadata": {
    "id": "DaIykx2UVgaM"
   },
   "source": [
    "## Taking advantage of key paths"
   ]
  },
  {
   "cell_type": "markdown",
   "metadata": {
    "id": "hoF1YE4VVF6M"
   },
   "source": [
    "Many of the selector functions allow you to use the PyTree path to each selected in addition to its value:"
   ]
  },
  {
   "cell_type": "code",
   "execution_count": 65,
   "metadata": {
    "execution": {
     "iopub.execute_input": "2024-04-17T19:20:19.466828Z",
     "iopub.status.busy": "2024-04-17T19:20:19.466582Z",
     "iopub.status.idle": "2024-04-17T19:20:19.487612Z",
     "shell.execute_reply": "2024-04-17T19:20:19.486833Z"
    },
    "id": "YCK_xieQVi8r"
   },
   "outputs": [
    {
     "data": {
      "text/html": [
       "<script> /* penzai.treescope rendering of a Python object (compressed) */ (()=>{ let observer; let lastStep = new Promise((resolve, reject) => { observer = new IntersectionObserver((entries) => { for (const entry of entries) { if (entry.isIntersecting) { resolve(); observer.disconnect(); return; } } }, {rootMargin: \"1000px\"}); }); window.treescope_decompress_enqueue = (encoded, destId) => { const previous = lastStep; const destElt = document.getElementById(destId); lastStep = (async () => { await previous; let blob = new Blob([ Uint8Array.from(atob(encoded), (m) => m.codePointAt(0)) ]); let reader = blob.stream().pipeThrough( new DecompressionStream(\"deflate\") ).pipeThrough( new TextDecoderStream(\"utf-8\") ).getReader(); let parts = []; while (true) { let step = await reader.read(); if (step.done) { break; } parts.push(step.value); } let newElt = document.createElement(\"div\"); newElt.innerHTML = parts.join(\"\"); destElt.parentNode.replaceChild(newElt, destElt); for (let oldScript of newElt.querySelectorAll(\"script\")) { let newScript = document.createElement(\"script\"); newScript.type = oldScript.type; newScript.textContent = oldScript.textContent; oldScript.parentNode.replaceChild(newScript, oldScript); } })(); requestAnimationFrame(() => { observer.observe(destElt); }); } })(); </script><div id=\"compress_html_4d18fcf10fcd4c9faa827dfd5fc1fa33\"><script>window.treescope_decompress_enqueue(\"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\", \"compress_html_4d18fcf10fcd4c9faa827dfd5fc1fa33\");</script><span style=\"color: #aaaaaa; font-family: monospace\">(Loading...)</span></div>"
      ],
      "text/plain": [
       "<IPython.core.display.HTML object>"
      ]
     },
     "metadata": {},
     "output_type": "display_data"
    },
    {
     "data": {
      "text/html": [
       "<div id=\"compress_html_e1f37a2ee7974a129599f106dc8d4946\"><script>window.treescope_decompress_enqueue(\"eNrtWt1zm0YQ/1d2yDSGBBGQkIwkSzNt0oe85KHTt0yGObhDUJ/uCJz80Yz/9+6BvpBkWXYcZ9pijyXD7e7t995P4oJmV1CqW84mBs3KnJPbEQgpmAEZnRiJLELKElYUjIbUjYYB/vZJL/D98ziKYsIIc0nSiyJKhsb0osyJwFctb+pEUik555lgIyGV6SSSUxJxFgpJ2SglpTnlJGJ82lwJlZzNeM0zilMWXzJqWfDGgm+QE0ozMesomY/Adbw+m49B79BJWTZL1Qg8p7p358SSo/Ikigp2hZzV5QheDYIucd0NQSzncyZUeJ0yEbIb1J8y+mz6rnYl1c96V3SmVnpDEHESX44hwtdZIReCdpYLV6QwO52Iy/iyvmUhlSwoK2ofePkNlJJn9BhlHYiHiO/ASW9zVqBml2HB5lKxMJVXrIBdpffVlJc8Ts3A/0UHxe+D5w5ridekDMu4kJwju5JOkhWlClUWX54sdeg7npbrDsHrDZzzg4Ir7x/dztrbUBVElJnKpBjtbQ5eCYyUrJOJjlwoGxIpVOe6SrKdNR3VNE5DzP2YhZwlaitR9aXO1H6cNumKStKGsKjTd01ZKqITKYzTjNOCibXydUxhCk2SZ0vZdReosmMMc1LM0NDakJjw2OzGKXRQUz9O61g8oOsPU22Z3rVqdWJXWh1M70brqOxAX/MU3oDpoTnbLEu5JVIxy7LWPtiwdk7nXe27KsKKcy1ydbezvP2C3ty0kcqDnYLQbFEuDfTYHK2737BK0+9T4sEU/9bodHV8dQs7odMdJ75zUOIPmUubIB8ZTRfv6gFZTUuIOSnLiVHNn6oBqSLLl6N0NZkbBuA4oVHg98n4UGhwm7HRFN2wAtdq4y4ykS8UKGz5E6MyJ5I3xkGepeXI+q5iaorfDA2FOc2UAZQo0rlktzlR6cTY0abRhJdxgGb/NE5xzXLx64JwQeYszAuWZDfGNGfib5I5qmCsjGXOMKty1KTEaZYQznWjdzAC1UGlfvsk1R8r6bk22myuX7xbemxr3zMtNVpgtMUZSPGe44iZnG02TfEcgd7TVGGsF02VZqV1VvtG354YJidzPDdBISVmh361jE3E14QjODtAeTaGJQ0RmJGkHmNn75EBtN/x//V5rGnNtvd2SxCaJWgcod4jlTjCMkE4nh3yYvKoFHEavIcSJiwxOmJmTF+/uumej38tCnJrfnZt8Gzo2tCzwbehb8PAhnMbAhuGX2ygVXJnQvW6Vs3XdIW9n2a4GSd5yagxhUMOaxwTjRdIiaZrTk+QHb6np8uJyXN/OiCOeGIyZPRgKojFPNI7eK7r94Ig8Aa9oOsG/+bYZvQpkUWunxjXqrieGFnN+7JT6gjaM46mwauDubI3dv4iN6uxUjWnI7PjWKIZGd4TaqslH103ps8XgG3AjH2Wq3G1AHXn1PZVhtWXr2dqfCSFfmIpacueUkwV33OV06mltuMnu/XlSW5rnCE3HzPBDrw2ptbjIoFq3nvQ3C+PdUk87iCyXzmrN5pdTS8e8YFct9vtRa7b7w6G1B9SSnw38fyEegMvIVHf33wg1wKNFmi0QOPpQAOwwHWF6xLXNa6LXFe5LnNd57rQYYhNQDcCr4Ue/xfo0e373W7QQo8WerTQo4UeLfRooceLQ4/vO5o8HxiJBuw8HkTDgUdjPzn3SBIFEQl6GptE3XPSgpEWjLRg5Fm+9XBsOPy3ru6ES9JCj/809AgGA68/aKFHCz1a6NFCjxZ6tNDj5b/1eMRB5AGgUca4t5qapgWTKXyLpSix/1Xl/JGWMIHPxunPIdtgnP4dyTbxgxjmyxgxD5icKchQKXeMbxcbPR3OxEylePftW/1YmKarF5GYynih27CDl79zpv/97fYjNdfcn7Mv1rjiKeWiiNkHBF/3s1Xoy4C3sMNfXzo5wS6qPuGEcPAoxDE73uvWaa5F18/GLiVWa/aSF4VsqPSDwFfMrB74u7P0OwauDtYqaNfYneX1FvZg4uuCLdiHpVv/ZHNUQLHStNa8/wBdEU/O\", \"compress_html_e1f37a2ee7974a129599f106dc8d4946\");</script></div>"
      ],
      "text/plain": [
       "<IPython.core.display.HTML object>"
      ]
     },
     "metadata": {},
     "output_type": "display_data"
    },
    {
     "data": {
      "text/html": [],
      "text/plain": [
       "Selection(\n",
       "  selected_by_path=OrderedDict({\n",
       "    (DictKey(key='c'), SequenceKey(idx=0)):\n",
       "      {\n",
       "        'value': <jax.Array([ 0,  1,  2,  3,  4,  5,  6,  7,  8,  9, 10, 11], dtype=int32)>,\n",
       "      },\n",
       "    (DictKey(key='c'), SequenceKey(idx=2), DictKey(key='value')):\n",
       "      3,\n",
       "  }),\n",
       "  remainder={\n",
       "    'a': 1,\n",
       "    'b': <jax.Array([0, 1, 2, 3, 4, 5, 6, 7, 8, 9], dtype=int32)>,\n",
       "    'c': [SelectionHole(path=(DictKey(key='c'), SequenceKey(idx=0))), {'value': <jax.Array([0., 0., 0., 0., 0., 0., 0.], dtype=float32)>}, {'value': SelectionHole(path=(DictKey(key='c'), SequenceKey(idx=2), DictKey(key='value')))}],\n",
       "  },\n",
       ")"
      ]
     },
     "execution_count": 65,
     "metadata": {},
     "output_type": "execute_result"
    }
   ],
   "source": [
    "# Selecting by keypath directly\n",
    "pz.select(my_nested_object).at_keypaths([\n",
    "    (jax.tree_util.DictKey(key='c'), jax.tree_util.SequenceKey(idx=2), jax.tree_util.DictKey(key='value')),\n",
    "    (jax.tree_util.DictKey(key='c'), jax.tree_util.SequenceKey(idx=0)),\n",
    "])"
   ]
  },
  {
   "cell_type": "code",
   "execution_count": 66,
   "metadata": {
    "execution": {
     "iopub.execute_input": "2024-04-17T19:20:19.490971Z",
     "iopub.status.busy": "2024-04-17T19:20:19.490765Z",
     "iopub.status.idle": "2024-04-17T19:20:19.511815Z",
     "shell.execute_reply": "2024-04-17T19:20:19.511056Z"
    },
    "id": "FEf1mpRX1T17"
   },
   "outputs": [
    {
     "data": {
      "text/html": [
       "<script> /* penzai.treescope rendering of a Python object (compressed) */ (()=>{ let observer; let lastStep = new Promise((resolve, reject) => { observer = new IntersectionObserver((entries) => { for (const entry of entries) { if (entry.isIntersecting) { resolve(); observer.disconnect(); return; } } }, {rootMargin: \"1000px\"}); }); window.treescope_decompress_enqueue = (encoded, destId) => { const previous = lastStep; const destElt = document.getElementById(destId); lastStep = (async () => { await previous; let blob = new Blob([ Uint8Array.from(atob(encoded), (m) => m.codePointAt(0)) ]); let reader = blob.stream().pipeThrough( new DecompressionStream(\"deflate\") ).pipeThrough( new TextDecoderStream(\"utf-8\") ).getReader(); let parts = []; while (true) { let step = await reader.read(); if (step.done) { break; } parts.push(step.value); } let newElt = document.createElement(\"div\"); newElt.innerHTML = parts.join(\"\"); destElt.parentNode.replaceChild(newElt, destElt); for (let oldScript of newElt.querySelectorAll(\"script\")) { let newScript = document.createElement(\"script\"); newScript.type = oldScript.type; newScript.textContent = oldScript.textContent; oldScript.parentNode.replaceChild(newScript, oldScript); } })(); requestAnimationFrame(() => { observer.observe(destElt); }); } })(); </script><div id=\"compress_html_70d94a5d4c1846e08f3ef2842e892721\"><script>window.treescope_decompress_enqueue(\"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\", \"compress_html_70d94a5d4c1846e08f3ef2842e892721\");</script><span style=\"color: #aaaaaa; font-family: monospace\">(Loading...)</span></div>"
      ],
      "text/plain": [
       "<IPython.core.display.HTML object>"
      ]
     },
     "metadata": {},
     "output_type": "display_data"
    },
    {
     "data": {
      "text/html": [
       "<div id=\"compress_html_ea476dfd01c84e39b4a48929c642b026\"><script>window.treescope_decompress_enqueue(\"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\", \"compress_html_ea476dfd01c84e39b4a48929c642b026\");</script></div>"
      ],
      "text/plain": [
       "<IPython.core.display.HTML object>"
      ]
     },
     "metadata": {},
     "output_type": "display_data"
    },
    {
     "data": {
      "text/html": [],
      "text/plain": [
       "Selection(\n",
       "  selected_by_path=OrderedDict({\n",
       "    (DictKey(key='c'), SequenceKey(idx=0), DictKey(key='value')):\n",
       "      <jax.Array([ 0,  1,  2,  3,  4,  5,  6,  7,  8,  9, 10, 11], dtype=int32)>,\n",
       "    (DictKey(key='c'), SequenceKey(idx=1), DictKey(key='value')):\n",
       "      <jax.Array([0., 0., 0., 0., 0., 0., 0.], dtype=float32)>,\n",
       "  }),\n",
       "  remainder={\n",
       "    'a': 1,\n",
       "    'b': <jax.Array([0, 1, 2, 3, 4, 5, 6, 7, 8, 9], dtype=int32)>,\n",
       "    'c': [{'value': SelectionHole(path=(DictKey(key='c'), SequenceKey(idx=0), DictKey(key='value')))}, {'value': SelectionHole(path=(DictKey(key='c'), SequenceKey(idx=1), DictKey(key='value')))}, {'value': 3}],\n",
       "  },\n",
       ")"
      ]
     },
     "execution_count": 66,
     "metadata": {},
     "output_type": "execute_result"
    }
   ],
   "source": [
    "# Selecting by keypath and value\n",
    "(\n",
    "    pz.select(my_nested_object)\n",
    "    .at_subtrees_where(\n",
    "        lambda path, subtree: len(path) == 3 and isinstance(subtree, jax.Array),\n",
    "        with_keypath=True)\n",
    ")"
   ]
  },
  {
   "cell_type": "code",
   "execution_count": 67,
   "metadata": {
    "execution": {
     "iopub.execute_input": "2024-04-17T19:20:19.515100Z",
     "iopub.status.busy": "2024-04-17T19:20:19.514882Z",
     "iopub.status.idle": "2024-04-17T19:20:19.522682Z",
     "shell.execute_reply": "2024-04-17T19:20:19.522124Z"
    },
    "id": "W-jfNUWTVaw3"
   },
   "outputs": [
    {
     "data": {
      "text/html": [
       "<script> /* penzai.treescope rendering of a Python object (compressed) */ (()=>{ let observer; let lastStep = new Promise((resolve, reject) => { observer = new IntersectionObserver((entries) => { for (const entry of entries) { if (entry.isIntersecting) { resolve(); observer.disconnect(); return; } } }, {rootMargin: \"1000px\"}); }); window.treescope_decompress_enqueue = (encoded, destId) => { const previous = lastStep; const destElt = document.getElementById(destId); lastStep = (async () => { await previous; let blob = new Blob([ Uint8Array.from(atob(encoded), (m) => m.codePointAt(0)) ]); let reader = blob.stream().pipeThrough( new DecompressionStream(\"deflate\") ).pipeThrough( new TextDecoderStream(\"utf-8\") ).getReader(); let parts = []; while (true) { let step = await reader.read(); if (step.done) { break; } parts.push(step.value); } let newElt = document.createElement(\"div\"); newElt.innerHTML = parts.join(\"\"); destElt.parentNode.replaceChild(newElt, destElt); for (let oldScript of newElt.querySelectorAll(\"script\")) { let newScript = document.createElement(\"script\"); newScript.type = oldScript.type; newScript.textContent = oldScript.textContent; oldScript.parentNode.replaceChild(newScript, oldScript); } })(); requestAnimationFrame(() => { observer.observe(destElt); }); } })(); </script><div id=\"compress_html_da0eb73f4bdd4348a28f509d2ade3d12\"><script>window.treescope_decompress_enqueue(\"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\", \"compress_html_da0eb73f4bdd4348a28f509d2ade3d12\");</script><span style=\"color: #aaaaaa; font-family: monospace\">(Loading...)</span></div>"
      ],
      "text/plain": [
       "<IPython.core.display.HTML object>"
      ]
     },
     "metadata": {},
     "output_type": "display_data"
    },
    {
     "data": {
      "text/html": [],
      "text/plain": [
       "{'a': 1,\n",
       " 'b': \"(DictKey(key='b'),)\",\n",
       " 'c': [{'value': \"(DictKey(key='c'), SequenceKey(idx=0), DictKey(key='value'))\"},\n",
       "  {'value': \"(DictKey(key='c'), SequenceKey(idx=1), DictKey(key='value'))\"},\n",
       "  {'value': 3}]}"
      ]
     },
     "execution_count": 67,
     "metadata": {},
     "output_type": "execute_result"
    }
   ],
   "source": [
    "# Setting values by keypath\n",
    "pz.select(my_nested_object).at_instances_of(jax.Array).set_by_path(lambda path: str(path))"
   ]
  },
  {
   "cell_type": "code",
   "execution_count": 68,
   "metadata": {
    "execution": {
     "iopub.execute_input": "2024-04-17T19:20:19.525663Z",
     "iopub.status.busy": "2024-04-17T19:20:19.525420Z",
     "iopub.status.idle": "2024-04-17T19:20:19.533738Z",
     "shell.execute_reply": "2024-04-17T19:20:19.533117Z"
    },
    "id": "vedT4F3FV1Hq"
   },
   "outputs": [
    {
     "data": {
      "text/html": [
       "<script> /* penzai.treescope rendering of a Python object (compressed) */ (()=>{ let observer; let lastStep = new Promise((resolve, reject) => { observer = new IntersectionObserver((entries) => { for (const entry of entries) { if (entry.isIntersecting) { resolve(); observer.disconnect(); return; } } }, {rootMargin: \"1000px\"}); }); window.treescope_decompress_enqueue = (encoded, destId) => { const previous = lastStep; const destElt = document.getElementById(destId); lastStep = (async () => { await previous; let blob = new Blob([ Uint8Array.from(atob(encoded), (m) => m.codePointAt(0)) ]); let reader = blob.stream().pipeThrough( new DecompressionStream(\"deflate\") ).pipeThrough( new TextDecoderStream(\"utf-8\") ).getReader(); let parts = []; while (true) { let step = await reader.read(); if (step.done) { break; } parts.push(step.value); } let newElt = document.createElement(\"div\"); newElt.innerHTML = parts.join(\"\"); destElt.parentNode.replaceChild(newElt, destElt); for (let oldScript of newElt.querySelectorAll(\"script\")) { let newScript = document.createElement(\"script\"); newScript.type = oldScript.type; newScript.textContent = oldScript.textContent; oldScript.parentNode.replaceChild(newScript, oldScript); } })(); requestAnimationFrame(() => { observer.observe(destElt); }); } })(); </script><div id=\"compress_html_130c8a9dc8c54bf0bbb5d9ceda05f511\"><script>window.treescope_decompress_enqueue(\"eNrtWv1y27gRfxWEmTlRV4kW5TgfkqVp4iRtrm6vrd2PG49HA5GQiDMF8ABQspLxa/RR+lefpk/SXZCSSIny98V2J/HEJMH9wu7it7uS97WZx6zvGcWYDmTCBkpKQ76QRGpuuBQdolhMDZ+yLhlJYZojOuHxvEMmUkid0ADWZxE3rGkfOiRRsBJzbZpWdNPME1gVUsDykAZnYyVTETYDGUvVyVi7JH8axkAA8nhoog4ZcQNkwjBhumRC1ZiLZsxGpkPaQYQ6BGtGjI8jWPG9vS652N/JtrOvA8UT0yd8RNwZF6GcrXZIer0eARPYCASEddjrJgX5ctHdWPYGCRMhF+O3AXpGA9nJ6ZVkv6cijFGkSOO4glql4khKAQTuTKqzOun1wSTYtzYklP+AJXxVWjY8wMWEqZFUEyoC5gk5c+s2EqDL3XhDmhnTPtlt446r/LK+PS9mYmwicBdpVXnp8n0qZlIlICaExZqtTI9SgbZfqVxHfGRwS5YDby7g57o2uAtKxX5JmTZvBZ9QpPio6IS5mV/rKPTqMHtJqqMsNt3rOG5hRC9zxU1cd32zKw1nArhS9p6NmFIsPGaTBI4u05sJlMS4GMogncDp8oBNzY9YzAIj1ds4dh2T8xaBIRUDDZnq1BEJFHFjZiURObICcaNw9YKYan0IAAC7mMgpA2GVMradBHdhK8ofKfmZ4eGwkjMwKJvrOtlhR5HIAU/FrQWKwTY+xAyfirRw5yE2AXGmxD7l6+zcHGTKCq9Xi11rTkIV3P9JhmA6A28F7ACOX+iChAYSYJy2xsrI8TjO0HZgEdGAYRgoXGGxaRA2Bem5KzDt7LN3xuZ4Ih3loL9z4oLPM7mus5Q5mICBzsKOCwIYmYHjfsinxDL2nDL8O8TQIRjMzntOyyFSgFKwXhToqu13TcT1wnIHYDgrLhbdByKdDJmyOWjB/nnrzWt/7yXYlBNoECHGBQK66+/5iOveSMYhHYI+AZvZUp0uSJlskJkI1CHXEJ75ogqtE5I+iemQxZ3OkEFis4IFgf3XrdSXlaKmj7Uor1it7koXF7ZADWOJJW2rzghOiNrUHFJ1phkdg7/FJndHSOOuLUVUu30rs1/pB8vTCSIWnEHVq5Pv6ysbkLWaaUFfstCegQ6p/fdf/6k9pHFlpi0m/vsrmIgxRLWp0hi8RHLQryr0cn1/au0xsIqa9sDpbfl9P1pX20Mg3NTicT0YcaXNQIoBpn7FsbrsGHntPTxJlaEidzY/i/i6ibirUmNpD/OFh9gHjg0HAQL6PWVLAYdyUCipDmgcuNDYQqvmJ+cWr9fsgGrzq5kylCqERMpMCaUBpWgGec5a+INO0RHUu3Awo0oATA8WObiAytGIBv5uBWECdQ1CT0NseJoq79fR0fn+86Vmy7MZsBoSOrbHp6o5VjTkWL/93b2QjRtEKirGjLRIy3sZRFBt4Vln9ThbIpkDN03ZyIF7c2kpmovNXHiziIkBOCmmiQanXlmNbqz8Eg1ZDbI6LBE7T6DV3EpzH3ZUqcg3+tt8fgwQCkqzZO2P0KMpTmNyNJ8MJTSnP6YGzQpr+dRpOwmUBFNNnK/NFrNfq0VetSBHtQo6JFWxGxmT6M7ODpJpb6wNYE0AXcZkR+9MclU60yRzRTtT33+xc/bDh+jd9Kd/vno3FmdH6m+z49c/Rir8y+yF/HAY/vkTY58+vZm+lB/14c/v0r//5M3kaAQTlZ22jFuzj7X6fXgTuqz5MDUGRsOqnCm87hNIfVFV/pzF7QDJne4NvA7eHZ7BAJ5xQA+dKhjxmTFwjqDS1GI+putkegLdYAQEHUKFAcGcQkLmWqcUVCH4F6V8/HR4WCOtBqnNIJQ18qKF97/769v3NdK29zLRn/G+ugczMoGuy/PZZPkZwhKxNqpxZiP/zJDlNbKU/JiX8QpvVndkK05vRvUgiDmGbslPR6bU7S5ayct0rvGUVRai6hDwpttshtTQJhWQOtaz9eIyKsHxGZEx95sVS3xNGMSlCVgFyX+zrSwtOJAJZ+GzsiVWJXnGJ4lUhooN2UMlzyxUJfNVz3S1dwtsBX8uC9P6hz4bo1Zkx2vLn20Nxiyq5yIgbqah/JkL7ORYHqCyHsktwDXIWmsUuhTtoDPKDRF0CgcBxlAYwXgylFSF3kxxw46hSXJXsiASuazVqAYV0XUK/rZTKTPHfMIgMMsxeINvMVavsV408Mi0LPgE1EANdG2DU6234FRnZVx58HUhvM/JR8pjSAYjCRI/I9Y1EypSGsdzKB/aMBpiTvym6Lt84FxNm5hKi3GzPAqtV2QYHDOg3OciSQ3BubznWGgcynOnUkiOovAyQ9D+/o5lLuuNQJICFWcDA8WawaBr8xbG24SaqOc4/S9gMDAAe25Cgb22yskaDMUH6Ppe7ZI8s+NwvUaWh6PnuDGdDENqB/eO/V13iM3fnlM4RQCNFZSIt+tnHiitv3EDcO9kFveX28guRSdsNJXOZe+dKzxYfl0c5J3+d8/P26+6NLuULeqQGwXmpEZrp5W6sk8VnL5flt8okZY7JKdPqvxSal+crxB5u6kt4f/ul1Sa7jae7O2ts+G6uXH32A/vJfbDLbFf6sqc5b7ngfkDm7vA2ivprzfqDfJWKTp3T6Cp8AEpG2S3QV40yF6DvGyQVw3yukHenDZIaNEGOobddj3381PMrOEtMmv4lDIruEZmlSrEw1WVk1qACXzy1UuLVXzjNAjungb3Vm4ea6NgvXTSOn2IhmGh+zaBRbbHEttbHPopjVN2LyUl88VJzUq8dXkJFuWFHOEXdiJg+J6H570WrG3SF+yvryoSzr9Yk7AoYVXCsoR1CQsTViYsTeQNlC0sXf51atRl1afxSCrUWgRumc0r/nutXNnl4kmV/AdFhVsW/seN7/4D4rt/u0j63/C9EL5fD9/9G+B7y2uQ6v9LLB/Fkj55NPfviOb+NzR/JBjw6ND8LijefkAUb98ugu1vKF4I3+UovvgAcPdpgmb7jqDZ/jqg+XTc+UAHrupy+rSc9xCfFN025/5PvpdZXEI+3f795bY/63Xry2/X/gdxlrkM\", \"compress_html_130c8a9dc8c54bf0bbb5d9ceda05f511\");</script><span style=\"color: #aaaaaa; font-family: monospace\">(Loading...)</span></div>"
      ],
      "text/plain": [
       "<IPython.core.display.HTML object>"
      ]
     },
     "metadata": {},
     "output_type": "display_data"
    },
    {
     "data": {
      "text/html": [],
      "text/plain": [
       "{'a': 1,\n",
       " 'b': \"((DictKey(key='b'),), Array([0, 1, 2, 3, 4, 5, 6, 7, 8, 9], dtype=int32))\",\n",
       " 'c': [{'value': \"((DictKey(key='c'), SequenceKey(idx=0), DictKey(key='value')), Array([ 0,  1,  2,  3,  4,  5,  6,  7,  8,  9, 10, 11], dtype=int32))\"},\n",
       "  {'value': \"((DictKey(key='c'), SequenceKey(idx=1), DictKey(key='value')), Array([0., 0., 0., 0., 0., 0., 0.], dtype=float32))\"},\n",
       "  {'value': 3}]}"
      ]
     },
     "execution_count": 68,
     "metadata": {},
     "output_type": "execute_result"
    }
   ],
   "source": [
    "# Setting values by keypath and original value\n",
    "pz.select(my_nested_object).at_instances_of(jax.Array).apply(\n",
    "    lambda path, value: str((path, value)), with_keypath=True\n",
    ")"
   ]
  },
  {
   "cell_type": "markdown",
   "metadata": {
    "id": "orWpcwiJt6q0"
   },
   "source": [
    "You can use `jax.tree_util.keystr` or `pz.pretty_keystr` to turn keypaths into readable strings (sometimes useful for referring to parts of a tree by name):"
   ]
  },
  {
   "cell_type": "code",
   "execution_count": 69,
   "metadata": {
    "execution": {
     "iopub.execute_input": "2024-04-17T19:20:19.537122Z",
     "iopub.status.busy": "2024-04-17T19:20:19.536905Z",
     "iopub.status.idle": "2024-04-17T19:20:23.163416Z",
     "shell.execute_reply": "2024-04-17T19:20:23.162504Z"
    },
    "id": "YF3IntIvNjw7"
   },
   "outputs": [
    {
     "data": {
      "text/html": [
       "<script> /* penzai.treescope rendering of a Python object (compressed) */ (()=>{ let observer; let lastStep = new Promise((resolve, reject) => { observer = new IntersectionObserver((entries) => { for (const entry of entries) { if (entry.isIntersecting) { resolve(); observer.disconnect(); return; } } }, {rootMargin: \"1000px\"}); }); window.treescope_decompress_enqueue = (encoded, destId) => { const previous = lastStep; const destElt = document.getElementById(destId); lastStep = (async () => { await previous; let blob = new Blob([ Uint8Array.from(atob(encoded), (m) => m.codePointAt(0)) ]); let reader = blob.stream().pipeThrough( new DecompressionStream(\"deflate\") ).pipeThrough( new TextDecoderStream(\"utf-8\") ).getReader(); let parts = []; while (true) { let step = await reader.read(); if (step.done) { break; } parts.push(step.value); } let newElt = document.createElement(\"div\"); newElt.innerHTML = parts.join(\"\"); destElt.parentNode.replaceChild(newElt, destElt); for (let oldScript of newElt.querySelectorAll(\"script\")) { let newScript = document.createElement(\"script\"); newScript.type = oldScript.type; newScript.textContent = oldScript.textContent; oldScript.parentNode.replaceChild(newScript, oldScript); } })(); requestAnimationFrame(() => { observer.observe(destElt); }); } })(); </script><div id=\"compress_html_860bfbdf09564c4aaa89cd4b08e45596\"><script>window.treescope_decompress_enqueue(\"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\", \"compress_html_860bfbdf09564c4aaa89cd4b08e45596\");</script><span style=\"color: #aaaaaa; font-family: monospace\">(Loading...)</span></div>"
      ],
      "text/plain": [
       "<IPython.core.display.HTML object>"
      ]
     },
     "metadata": {},
     "output_type": "display_data"
    },
    {
     "data": {
      "text/html": [
       "<div id=\"compress_html_663a53719c2d43d68c22e0c8b6df58a7\"><script>window.treescope_decompress_enqueue(\"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\", \"compress_html_663a53719c2d43d68c22e0c8b6df58a7\");</script></div>"
      ],
      "text/plain": [
       "<IPython.core.display.HTML object>"
      ]
     },
     "metadata": {},
     "output_type": "display_data"
    },
    {
     "data": {
      "text/html": [],
      "text/plain": [
       "MLP( # Sequential\n",
       "  sublayers=[\n",
       "    Affine( # Sequential\n",
       "      sublayers=[\n",
       "        Linear(weights=Parameter(value=<NamedArray float32(| features:32, features_out:64) ≈-0.0026 ±0.15 [≥-0.25, ≤0.25] nonzero:2_048 (wrapping jax.Array)>, name='Affine_0.Linear.weights'), in_axis_names=('features',), out_axis_names=('features_out',)),\n",
       "        RenameAxes(old=('features_out',), new=('features',)),\n",
       "        AddBias(bias=Parameter(value=<NamedArray float32(| features:64) ≈0.0 ±0.0 [≥0.0, ≤0.0] zero:64 (wrapping jax.Array)>, name='Affine_0.AddBias.bias'), new_axis_names=()),\n",
       "      ],\n",
       "    ),\n",
       "    Elementwise(fn=jax.nn.relu),\n",
       "    Affine( # Sequential\n",
       "      sublayers=[Linear(weights=Parameter(value=<NamedArray float32(| features:64, features_out:64) ≈-0.0014 ±0.13 [≥-0.22, ≤0.22] nonzero:4_096 (wrapping jax.Array)>, name='Affine_1.Linear.weights'), in_axis_names=('features',), out_axis_names=('features_out',)), RenameAxes(old=('features_out',), new=('features',)), AddBias(bias=Parameter(value=<NamedArray float32(| features:64) ≈0.0 ±0.0 [≥0.0, ≤0.0] zero:64 (wrapping jax.Array)>, name='Affine_1.AddBias.bias'), new_axis_names=())],\n",
       "    ),\n",
       "    Elementwise(fn=jax.nn.relu),\n",
       "    Affine( # Sequential\n",
       "      sublayers=[Linear(weights=Parameter(value=<NamedArray float32(| features:64, features_out:16) ≈-0.004 ±0.16 [≥-0.27, ≤0.27] nonzero:1_024 (wrapping jax.Array)>, name='Affine_2.Linear.weights'), in_axis_names=('features',), out_axis_names=('features_out',)), RenameAxes(old=('features_out',), new=('features',)), AddBias(bias=Parameter(value=<NamedArray float32(| features:16) ≈0.0 ±0.0 [≥0.0, ≤0.0] zero:16 (wrapping jax.Array)>, name='Affine_2.AddBias.bias'), new_axis_names=())],\n",
       "    ),\n",
       "  ],\n",
       ")"
      ]
     },
     "execution_count": 69,
     "metadata": {},
     "output_type": "execute_result"
    }
   ],
   "source": [
    "mlp = pz.nn.initialize_parameters(\n",
    "    simple_mlp.MLP.from_config(feature_sizes=[32, 64, 64, 16]),\n",
    "    jax.random.PRNGKey(0),\n",
    ")\n",
    "mlp"
   ]
  },
  {
   "cell_type": "code",
   "execution_count": 70,
   "metadata": {
    "execution": {
     "iopub.execute_input": "2024-04-17T19:20:23.167827Z",
     "iopub.status.busy": "2024-04-17T19:20:23.167592Z",
     "iopub.status.idle": "2024-04-17T19:20:23.191185Z",
     "shell.execute_reply": "2024-04-17T19:20:23.190357Z"
    },
    "id": "nFT8THeWW2in"
   },
   "outputs": [
    {
     "data": {
      "text/html": [
       "<script> /* penzai.treescope rendering of a Python object (compressed) */ (()=>{ let observer; let lastStep = new Promise((resolve, reject) => { observer = new IntersectionObserver((entries) => { for (const entry of entries) { if (entry.isIntersecting) { resolve(); observer.disconnect(); return; } } }, {rootMargin: \"1000px\"}); }); window.treescope_decompress_enqueue = (encoded, destId) => { const previous = lastStep; const destElt = document.getElementById(destId); lastStep = (async () => { await previous; let blob = new Blob([ Uint8Array.from(atob(encoded), (m) => m.codePointAt(0)) ]); let reader = blob.stream().pipeThrough( new DecompressionStream(\"deflate\") ).pipeThrough( new TextDecoderStream(\"utf-8\") ).getReader(); let parts = []; while (true) { let step = await reader.read(); if (step.done) { break; } parts.push(step.value); } let newElt = document.createElement(\"div\"); newElt.innerHTML = parts.join(\"\"); destElt.parentNode.replaceChild(newElt, destElt); for (let oldScript of newElt.querySelectorAll(\"script\")) { let newScript = document.createElement(\"script\"); newScript.type = oldScript.type; newScript.textContent = oldScript.textContent; oldScript.parentNode.replaceChild(newScript, oldScript); } })(); requestAnimationFrame(() => { observer.observe(destElt); }); } })(); </script><div id=\"compress_html_260fb8bfcd754707a6f5c6b64a3139f3\"><script>window.treescope_decompress_enqueue(\"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\", \"compress_html_260fb8bfcd754707a6f5c6b64a3139f3\");</script><span style=\"color: #aaaaaa; font-family: monospace\">(Loading...)</span></div>"
      ],
      "text/plain": [
       "<IPython.core.display.HTML object>"
      ]
     },
     "metadata": {},
     "output_type": "display_data"
    },
    {
     "data": {
      "text/html": [],
      "text/plain": [
       "[(GetAttrKey(name='sublayers'),\n",
       "  SequenceKey(idx=0),\n",
       "  GetAttrKey(name='sublayers'),\n",
       "  SequenceKey(idx=0),\n",
       "  GetAttrKey(name='weights'),\n",
       "  GetAttrKey(name='value'),\n",
       "  GetAttrKey(name='data_array')),\n",
       " (GetAttrKey(name='sublayers'),\n",
       "  SequenceKey(idx=0),\n",
       "  GetAttrKey(name='sublayers'),\n",
       "  SequenceKey(idx=2),\n",
       "  GetAttrKey(name='bias'),\n",
       "  GetAttrKey(name='value'),\n",
       "  GetAttrKey(name='data_array')),\n",
       " (GetAttrKey(name='sublayers'),\n",
       "  SequenceKey(idx=2),\n",
       "  GetAttrKey(name='sublayers'),\n",
       "  SequenceKey(idx=0),\n",
       "  GetAttrKey(name='weights'),\n",
       "  GetAttrKey(name='value'),\n",
       "  GetAttrKey(name='data_array')),\n",
       " (GetAttrKey(name='sublayers'),\n",
       "  SequenceKey(idx=2),\n",
       "  GetAttrKey(name='sublayers'),\n",
       "  SequenceKey(idx=2),\n",
       "  GetAttrKey(name='bias'),\n",
       "  GetAttrKey(name='value'),\n",
       "  GetAttrKey(name='data_array')),\n",
       " (GetAttrKey(name='sublayers'),\n",
       "  SequenceKey(idx=4),\n",
       "  GetAttrKey(name='sublayers'),\n",
       "  SequenceKey(idx=0),\n",
       "  GetAttrKey(name='weights'),\n",
       "  GetAttrKey(name='value'),\n",
       "  GetAttrKey(name='data_array')),\n",
       " (GetAttrKey(name='sublayers'),\n",
       "  SequenceKey(idx=4),\n",
       "  GetAttrKey(name='sublayers'),\n",
       "  SequenceKey(idx=2),\n",
       "  GetAttrKey(name='bias'),\n",
       "  GetAttrKey(name='value'),\n",
       "  GetAttrKey(name='data_array'))]"
      ]
     },
     "execution_count": 70,
     "metadata": {},
     "output_type": "execute_result"
    }
   ],
   "source": [
    "[\n",
    "  key for key in\n",
    "  pz.select(mlp).at_instances_of(jax.Array).selected_by_path.keys()\n",
    "]"
   ]
  },
  {
   "cell_type": "code",
   "execution_count": 71,
   "metadata": {
    "execution": {
     "iopub.execute_input": "2024-04-17T19:20:23.194342Z",
     "iopub.status.busy": "2024-04-17T19:20:23.194116Z",
     "iopub.status.idle": "2024-04-17T19:20:23.201899Z",
     "shell.execute_reply": "2024-04-17T19:20:23.201127Z"
    },
    "id": "qzrhXuqcuYjA"
   },
   "outputs": [
    {
     "data": {
      "text/html": [
       "<script> /* penzai.treescope rendering of a Python object (compressed) */ (()=>{ let observer; let lastStep = new Promise((resolve, reject) => { observer = new IntersectionObserver((entries) => { for (const entry of entries) { if (entry.isIntersecting) { resolve(); observer.disconnect(); return; } } }, {rootMargin: \"1000px\"}); }); window.treescope_decompress_enqueue = (encoded, destId) => { const previous = lastStep; const destElt = document.getElementById(destId); lastStep = (async () => { await previous; let blob = new Blob([ Uint8Array.from(atob(encoded), (m) => m.codePointAt(0)) ]); let reader = blob.stream().pipeThrough( new DecompressionStream(\"deflate\") ).pipeThrough( new TextDecoderStream(\"utf-8\") ).getReader(); let parts = []; while (true) { let step = await reader.read(); if (step.done) { break; } parts.push(step.value); } let newElt = document.createElement(\"div\"); newElt.innerHTML = parts.join(\"\"); destElt.parentNode.replaceChild(newElt, destElt); for (let oldScript of newElt.querySelectorAll(\"script\")) { let newScript = document.createElement(\"script\"); newScript.type = oldScript.type; newScript.textContent = oldScript.textContent; oldScript.parentNode.replaceChild(newScript, oldScript); } })(); requestAnimationFrame(() => { observer.observe(destElt); }); } })(); </script><div id=\"compress_html_2fc3484e7784480c9a4719fd0640f358\"><script>window.treescope_decompress_enqueue(\"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\", \"compress_html_2fc3484e7784480c9a4719fd0640f358\");</script><span style=\"color: #aaaaaa; font-family: monospace\">(Loading...)</span></div>"
      ],
      "text/plain": [
       "<IPython.core.display.HTML object>"
      ]
     },
     "metadata": {},
     "output_type": "display_data"
    },
    {
     "data": {
      "text/html": [],
      "text/plain": [
       "['.sublayers[0].sublayers[0].weights.value.data_array',\n",
       " '.sublayers[0].sublayers[2].bias.value.data_array',\n",
       " '.sublayers[2].sublayers[0].weights.value.data_array',\n",
       " '.sublayers[2].sublayers[2].bias.value.data_array',\n",
       " '.sublayers[4].sublayers[0].weights.value.data_array',\n",
       " '.sublayers[4].sublayers[2].bias.value.data_array']"
      ]
     },
     "execution_count": 71,
     "metadata": {},
     "output_type": "execute_result"
    }
   ],
   "source": [
    "[\n",
    "  jax.tree_util.keystr(key) for key in\n",
    "  pz.select(mlp).at_instances_of(jax.Array).selected_by_path.keys()\n",
    "]"
   ]
  },
  {
   "cell_type": "code",
   "execution_count": 72,
   "metadata": {
    "execution": {
     "iopub.execute_input": "2024-04-17T19:20:23.205100Z",
     "iopub.status.busy": "2024-04-17T19:20:23.204868Z",
     "iopub.status.idle": "2024-04-17T19:20:23.213104Z",
     "shell.execute_reply": "2024-04-17T19:20:23.212304Z"
    },
    "id": "Ots2ZBckNwJo"
   },
   "outputs": [
    {
     "data": {
      "text/html": [
       "<script> /* penzai.treescope rendering of a Python object (compressed) */ (()=>{ let observer; let lastStep = new Promise((resolve, reject) => { observer = new IntersectionObserver((entries) => { for (const entry of entries) { if (entry.isIntersecting) { resolve(); observer.disconnect(); return; } } }, {rootMargin: \"1000px\"}); }); window.treescope_decompress_enqueue = (encoded, destId) => { const previous = lastStep; const destElt = document.getElementById(destId); lastStep = (async () => { await previous; let blob = new Blob([ Uint8Array.from(atob(encoded), (m) => m.codePointAt(0)) ]); let reader = blob.stream().pipeThrough( new DecompressionStream(\"deflate\") ).pipeThrough( new TextDecoderStream(\"utf-8\") ).getReader(); let parts = []; while (true) { let step = await reader.read(); if (step.done) { break; } parts.push(step.value); } let newElt = document.createElement(\"div\"); newElt.innerHTML = parts.join(\"\"); destElt.parentNode.replaceChild(newElt, destElt); for (let oldScript of newElt.querySelectorAll(\"script\")) { let newScript = document.createElement(\"script\"); newScript.type = oldScript.type; newScript.textContent = oldScript.textContent; oldScript.parentNode.replaceChild(newScript, oldScript); } })(); requestAnimationFrame(() => { observer.observe(destElt); }); } })(); </script><div id=\"compress_html_f0ba9891f19a44028817a5afdfffea3c\"><script>window.treescope_decompress_enqueue(\"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\", \"compress_html_f0ba9891f19a44028817a5afdfffea3c\");</script><span style=\"color: #aaaaaa; font-family: monospace\">(Loading...)</span></div>"
      ],
      "text/plain": [
       "<IPython.core.display.HTML object>"
      ]
     },
     "metadata": {},
     "output_type": "display_data"
    },
    {
     "data": {
      "text/html": [],
      "text/plain": [
       "['MLP.sublayers[0]/Affine.sublayers[0]/Linear.weights/Parameter.value/NamedArray.data_array',\n",
       " 'MLP.sublayers[0]/Affine.sublayers[2]/AddBias.bias/Parameter.value/NamedArray.data_array',\n",
       " 'MLP.sublayers[2]/Affine.sublayers[0]/Linear.weights/Parameter.value/NamedArray.data_array',\n",
       " 'MLP.sublayers[2]/Affine.sublayers[2]/AddBias.bias/Parameter.value/NamedArray.data_array',\n",
       " 'MLP.sublayers[4]/Affine.sublayers[0]/Linear.weights/Parameter.value/NamedArray.data_array',\n",
       " 'MLP.sublayers[4]/Affine.sublayers[2]/AddBias.bias/Parameter.value/NamedArray.data_array']"
      ]
     },
     "execution_count": 72,
     "metadata": {},
     "output_type": "execute_result"
    }
   ],
   "source": [
    "[\n",
    "  pz.pretty_keystr(key, mlp) for key in\n",
    "  pz.select(mlp).at_instances_of(jax.Array).selected_by_path.keys()\n",
    "]"
   ]
  },
  {
   "cell_type": "code",
   "execution_count": null,
   "metadata": {
    "id": "2FQPmfO2Nyof"
   },
   "outputs": [],
   "source": []
  }
 ],
 "metadata": {
  "colab": {
   "name": "Selectors and selections",
   "toc_visible": true
  },
  "kernelspec": {
   "display_name": "Python 3",
   "name": "python3"
  },
  "language_info": {
   "codemirror_mode": {
    "name": "ipython",
    "version": 3
   },
   "file_extension": ".py",
   "mimetype": "text/x-python",
   "name": "python",
   "nbconvert_exporter": "python",
   "pygments_lexer": "ipython3",
   "version": "3.10.12"
  }
 },
 "nbformat": 4,
 "nbformat_minor": 0
}
